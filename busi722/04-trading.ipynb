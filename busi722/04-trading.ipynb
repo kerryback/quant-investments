{
 "cells": [
  {
   "cell_type": "markdown",
   "metadata": {
    "slideshow": {
     "slide_type": "slide"
    }
   },
   "source": [
    "# Rank and Trade\n",
    "\n",
    "### BUSI 722: Data-Driven Finance II\n",
    "### Kerry Back, Rice University"
   ]
  },
  {
   "cell_type": "markdown",
   "metadata": {
    "slideshow": {
     "slide_type": "slide"
    }
   },
   "source": [
    "### Outline\n",
    "\n",
    "1. Build feature dataset with today's features\n",
    "2. Load and apply model to predict\n",
    "3. Trade to 140/40 portfolio with 100% in SPY\n",
    "   (a) Close unwanted positions\n",
    "   (b) Rebalance SPY\n",
    "   (c) Open/rebalance long positions\n",
    "   (d) Open/rebalance short positions\n",
    "4. Save account equity and positions"
   ]
  },
  {
   "cell_type": "code",
   "execution_count": 1,
   "metadata": {
    "slideshow": {
     "slide_type": "slide"
    }
   },
   "outputs": [],
   "source": [
    "import numpy as np\n",
    "import pandas as pd\n",
    "from sqlalchemy import create_engine\n",
    "from joblib import load \n",
    "import yfinance as yf \n",
    "from datetime import datetime\n",
    "import os.path\n",
    "\n",
    "from alpaca.trading.client import TradingClient\n",
    "from alpaca.trading.requests import MarketOrderRequest, GetAssetsRequest, AssetClass\n",
    "from alpaca.trading.enums import OrderSide, TimeInForce"
   ]
  },
  {
   "cell_type": "markdown",
   "metadata": {
    "slideshow": {
     "slide_type": "slide"
    }
   },
   "source": [
    "### Build Feature Dataset\n",
    "\n",
    "- Don't need much history.  Start here in 2022.\n",
    "- And don't need weekly returns (after computing momentum)."
   ]
  },
  {
   "cell_type": "code",
   "execution_count": 2,
   "metadata": {
    "slideshow": {
     "slide_type": "slide"
    }
   },
   "outputs": [],
   "source": [
    "server = 'fs.rice.edu'\n",
    "database = 'stocks'\n",
    "username = 'stocks'\n",
    "password = '6LAZH1'\n",
    "driver = 'SQL+Server'\n",
    "string = f\"mssql+pyodbc://{username}:{password}@{server}/{database}\" \n",
    "try: \n",
    "    conn = create_engine(string + \"?driver='SQL+Server'\").connect()\n",
    "except:\n",
    "    try:\n",
    "        conn = create_engine(string + \"?driver='ODBC+Driver+18+for+SQL+Server'\").connect()\n",
    "    except:\n",
    "        import pymssql\n",
    "        string = f\"mssql+pymssql://{username}:{password}@{server}/{database}\"   \n",
    "        conn = create_engine(string).connect() "
   ]
  },
  {
   "cell_type": "code",
   "execution_count": 3,
   "metadata": {
    "slideshow": {
     "slide_type": "slide"
    }
   },
   "outputs": [],
   "source": [
    "sep_weekly = pd.read_sql(\n",
    "    \"\"\" \n",
    "    select date, ticker, closeadj, closeunadj, volume, lastupdated from sep_weekly \n",
    "    where date >= '2022-01-01'\n",
    "    order by ticker, date, lastupdated    \n",
    "    \"\"\",\n",
    "    conn,\n",
    ")\n",
    "sep_weekly = sep_weekly.groupby([\"ticker\", \"date\"]).last()\n",
    "sep_weekly = sep_weekly.drop(columns=[\"lastupdated\"])\n",
    "\n",
    "ret = sep_weekly.groupby(\"ticker\", group_keys=False).closeadj.pct_change()\n",
    "ret.name = \"ret\"\n",
    "\n",
    "price = sep_weekly.closeunadj\n",
    "price.name = \"price\"\n",
    "\n",
    "volume = sep_weekly.volume \n",
    "volume.name = \"volume\""
   ]
  },
  {
   "cell_type": "code",
   "execution_count": 27,
   "metadata": {},
   "outputs": [
    {
     "data": {
      "text/plain": [
       "datetime.date(2024, 3, 1)"
      ]
     },
     "execution_count": 27,
     "metadata": {},
     "output_type": "execute_result"
    }
   ],
   "source": [
    "price.index.get_level_values(\"date\").max()"
   ]
  },
  {
   "cell_type": "code",
   "execution_count": 4,
   "metadata": {
    "slideshow": {
     "slide_type": "slide"
    }
   },
   "outputs": [],
   "source": [
    "ret_annual = sep_weekly.groupby(\"ticker\", group_keys=False).closeadj.pct_change(52)\n",
    "ret_monthly = sep_weekly.groupby(\"ticker\", group_keys=False).closeadj.pct_change(4)\n",
    "mom = (1 + ret_annual) / (1 + ret_monthly) - 1\n",
    "mom.name = \"mom\""
   ]
  },
  {
   "cell_type": "code",
   "execution_count": 5,
   "metadata": {
    "slideshow": {
     "slide_type": "slide"
    }
   },
   "outputs": [],
   "source": [
    "weekly = pd.read_sql(\n",
    "    \"\"\" \n",
    "    select date, ticker, pb, marketcap, lastupdated from weekly \n",
    "    where date>='2022-01-01'\n",
    "    order by ticker, date, lastupdated    \n",
    "    \"\"\",\n",
    "    conn,\n",
    ")\n",
    "weekly = weekly.groupby([\"ticker\", \"date\"]).last()\n",
    "weekly = weekly.drop(columns=[\"lastupdated\"])\n",
    "\n",
    "pb = weekly.pb\n",
    "pb.name = \"pb\" \n",
    "marketcap = weekly.marketcap \n",
    "marketcap.name = \"marketcap\""
   ]
  },
  {
   "cell_type": "code",
   "execution_count": 17,
   "metadata": {},
   "outputs": [
    {
     "data": {
      "text/plain": [
       "ticker  date      \n",
       "ZYXI    2024-02-02    396.0\n",
       "        2024-02-09    421.1\n",
       "        2024-02-16    430.9\n",
       "        2024-02-23    437.7\n",
       "        2024-03-01    417.0\n",
       "Name: marketcap, dtype: float64"
      ]
     },
     "execution_count": 17,
     "metadata": {},
     "output_type": "execute_result"
    }
   ],
   "source": [
    "marketcap.tail()"
   ]
  },
  {
   "cell_type": "code",
   "execution_count": 6,
   "metadata": {
    "slideshow": {
     "slide_type": "slide"
    }
   },
   "outputs": [],
   "source": [
    "sf1 = pd.read_sql(\n",
    "    \"\"\" \n",
    "    select datekey as date, ticker, assets, netinc, equity, lastupdated from sf1\n",
    "    where datekey>='2022-01-01' and dimension='ARY' and assets>0 and equity>0\n",
    "    order by ticker, datekey, lastupdated    \n",
    "    \"\"\",\n",
    "    conn,\n",
    ")\n",
    "sf1 = sf1.groupby([\"ticker\", \"date\"]).last()\n",
    "sf1 = sf1.drop(columns=[\"lastupdated\"])\n",
    "\n",
    "# change dates to Fridays\n",
    "from datetime import timedelta \n",
    "sf1 = sf1.reset_index()\n",
    "sf1.date =sf1.date.map(\n",
    "    lambda x: x + timedelta(4 - x.weekday())\n",
    ")\n",
    "sf1 = sf1.set_index([\"ticker\", \"date\"])\n",
    "sf1 = sf1[~sf1.index.duplicated()]\n",
    "\n",
    "assets = sf1.assets\n",
    "assets.name = \"assets\" \n",
    "netinc = sf1.netinc \n",
    "netinc.name = \"netinc\" \n",
    "equity = sf1.equity\n",
    "equity.name = \"equity\"\n",
    "\n",
    "equity = equity.groupby(\"ticker\", group_keys=False).shift() \n",
    "roe = netinc / equity \n",
    "roe.name = \"roe\"\n",
    "\n",
    "assetgr = assets.groupby(\"ticker\", group_keys=False).pct_change()\n",
    "assetgr.name = \"assetgr\""
   ]
  },
  {
   "cell_type": "code",
   "execution_count": 26,
   "metadata": {},
   "outputs": [
    {
     "data": {
      "text/plain": [
       "datetime.date(2024, 3, 8)"
      ]
     },
     "execution_count": 26,
     "metadata": {},
     "output_type": "execute_result"
    }
   ],
   "source": [
    "assetgr.index.get_level_values(\"date\").max()"
   ]
  },
  {
   "cell_type": "code",
   "execution_count": 18,
   "metadata": {},
   "outputs": [
    {
     "data": {
      "text/plain": [
       "ticker  date      \n",
       "ZYME    2024-03-08   -0.240740\n",
       "ZYNE    2022-03-04         NaN\n",
       "        2023-03-31   -0.494065\n",
       "ZYXI    2022-03-25         NaN\n",
       "        2023-03-17    0.230612\n",
       "Name: roe, dtype: float64"
      ]
     },
     "execution_count": 18,
     "metadata": {},
     "output_type": "execute_result"
    }
   ],
   "source": [
    "roe.tail()"
   ]
  },
  {
   "cell_type": "code",
   "execution_count": 19,
   "metadata": {},
   "outputs": [
    {
     "data": {
      "text/plain": [
       "ticker  date      \n",
       "ZYME    2024-03-08   -0.104582\n",
       "ZYNE    2022-03-04         NaN\n",
       "        2023-03-31   -0.316005\n",
       "ZYXI    2022-03-25         NaN\n",
       "        2023-03-17   -0.126116\n",
       "Name: assetgr, dtype: float64"
      ]
     },
     "execution_count": 19,
     "metadata": {},
     "output_type": "execute_result"
    }
   ],
   "source": [
    "assetgr.tail()"
   ]
  },
  {
   "cell_type": "code",
   "execution_count": 22,
   "metadata": {},
   "outputs": [
    {
     "data": {
      "text/html": [
       "<div>\n",
       "<style scoped>\n",
       "    .dataframe tbody tr th:only-of-type {\n",
       "        vertical-align: middle;\n",
       "    }\n",
       "\n",
       "    .dataframe tbody tr th {\n",
       "        vertical-align: top;\n",
       "    }\n",
       "\n",
       "    .dataframe thead th {\n",
       "        text-align: right;\n",
       "    }\n",
       "</style>\n",
       "<table border=\"1\" class=\"dataframe\">\n",
       "  <thead>\n",
       "    <tr style=\"text-align: right;\">\n",
       "      <th></th>\n",
       "      <th></th>\n",
       "      <th>mom</th>\n",
       "      <th>volume</th>\n",
       "      <th>price</th>\n",
       "      <th>pb</th>\n",
       "      <th>marketcap</th>\n",
       "      <th>roe</th>\n",
       "      <th>assetgr</th>\n",
       "    </tr>\n",
       "    <tr>\n",
       "      <th>ticker</th>\n",
       "      <th>date</th>\n",
       "      <th></th>\n",
       "      <th></th>\n",
       "      <th></th>\n",
       "      <th></th>\n",
       "      <th></th>\n",
       "      <th></th>\n",
       "      <th></th>\n",
       "    </tr>\n",
       "  </thead>\n",
       "  <tbody>\n",
       "    <tr>\n",
       "      <th>YORW</th>\n",
       "      <th>2024-03-08</th>\n",
       "      <td>NaN</td>\n",
       "      <td>NaN</td>\n",
       "      <td>NaN</td>\n",
       "      <td>NaN</td>\n",
       "      <td>NaN</td>\n",
       "      <td>0.114667</td>\n",
       "      <td>0.151999</td>\n",
       "    </tr>\n",
       "    <tr>\n",
       "      <th>YOTA</th>\n",
       "      <th>2022-04-15</th>\n",
       "      <td>NaN</td>\n",
       "      <td>NaN</td>\n",
       "      <td>NaN</td>\n",
       "      <td>NaN</td>\n",
       "      <td>NaN</td>\n",
       "      <td>NaN</td>\n",
       "      <td>NaN</td>\n",
       "    </tr>\n",
       "    <tr>\n",
       "      <th>ZIMV</th>\n",
       "      <th>2022-01-21</th>\n",
       "      <td>NaN</td>\n",
       "      <td>NaN</td>\n",
       "      <td>NaN</td>\n",
       "      <td>NaN</td>\n",
       "      <td>NaN</td>\n",
       "      <td>NaN</td>\n",
       "      <td>NaN</td>\n",
       "    </tr>\n",
       "    <tr>\n",
       "      <th>ZM</th>\n",
       "      <th>2024-03-08</th>\n",
       "      <td>NaN</td>\n",
       "      <td>NaN</td>\n",
       "      <td>NaN</td>\n",
       "      <td>NaN</td>\n",
       "      <td>NaN</td>\n",
       "      <td>0.102707</td>\n",
       "      <td>0.221668</td>\n",
       "    </tr>\n",
       "    <tr>\n",
       "      <th>ZYME</th>\n",
       "      <th>2024-03-08</th>\n",
       "      <td>NaN</td>\n",
       "      <td>NaN</td>\n",
       "      <td>NaN</td>\n",
       "      <td>NaN</td>\n",
       "      <td>NaN</td>\n",
       "      <td>-0.240740</td>\n",
       "      <td>-0.104582</td>\n",
       "    </tr>\n",
       "  </tbody>\n",
       "</table>\n",
       "</div>"
      ],
      "text/plain": [
       "                   mom  volume  price  pb  marketcap       roe   assetgr\n",
       "ticker date                                                             \n",
       "YORW   2024-03-08  NaN     NaN    NaN NaN        NaN  0.114667  0.151999\n",
       "YOTA   2022-04-15  NaN     NaN    NaN NaN        NaN       NaN       NaN\n",
       "ZIMV   2022-01-21  NaN     NaN    NaN NaN        NaN       NaN       NaN\n",
       "ZM     2024-03-08  NaN     NaN    NaN NaN        NaN  0.102707  0.221668\n",
       "ZYME   2024-03-08  NaN     NaN    NaN NaN        NaN -0.240740 -0.104582"
      ]
     },
     "execution_count": 22,
     "metadata": {},
     "output_type": "execute_result"
    }
   ],
   "source": [
    "df = pd.concat(\n",
    "    (\n",
    "        mom, \n",
    "        volume,\n",
    "        price, \n",
    "        pb, \n",
    "        marketcap, \n",
    "        roe, \n",
    "        assetgr\n",
    "        ), \n",
    "        axis=1\n",
    "    )\n",
    "df.tail()"
   ]
  },
  {
   "cell_type": "code",
   "execution_count": 31,
   "metadata": {
    "slideshow": {
     "slide_type": "slide"
    }
   },
   "outputs": [],
   "source": [
    "df = pd.concat(\n",
    "    (\n",
    "        mom, \n",
    "        volume,\n",
    "        price, \n",
    "        pb, \n",
    "        marketcap, \n",
    "        roe, \n",
    "        assetgr\n",
    "        ), \n",
    "        axis=1\n",
    "    )\n",
    "df[\"roe\"] = df.groupby(\"ticker\", group_keys=False).roe.ffill()\n",
    "df[\"assetgr\"] = df.groupby(\"ticker\", group_keys=False).assetgr.ffill()\n",
    "\n",
    "df = df.reset_index()\n",
    "df.date = df.date.astype(str)\n",
    "df = df[df.date==\"2024-03-01\"]\n",
    "df = df[df.price >= 5]\n",
    "df = df.dropna()\n",
    "\n",
    "features = [\n",
    "    \"mom\",\n",
    "    \"volume\",\n",
    "    \"pb\",\n",
    "    \"marketcap\",\n",
    "    \"roe\",\n",
    "    \"assetgr\" \n",
    "]"
   ]
  },
  {
   "cell_type": "code",
   "execution_count": 32,
   "metadata": {},
   "outputs": [
    {
     "data": {
      "text/html": [
       "<div>\n",
       "<style scoped>\n",
       "    .dataframe tbody tr th:only-of-type {\n",
       "        vertical-align: middle;\n",
       "    }\n",
       "\n",
       "    .dataframe tbody tr th {\n",
       "        vertical-align: top;\n",
       "    }\n",
       "\n",
       "    .dataframe thead th {\n",
       "        text-align: right;\n",
       "    }\n",
       "</style>\n",
       "<table border=\"1\" class=\"dataframe\">\n",
       "  <thead>\n",
       "    <tr style=\"text-align: right;\">\n",
       "      <th></th>\n",
       "      <th>ticker</th>\n",
       "      <th>date</th>\n",
       "      <th>mom</th>\n",
       "      <th>volume</th>\n",
       "      <th>price</th>\n",
       "      <th>pb</th>\n",
       "      <th>marketcap</th>\n",
       "      <th>roe</th>\n",
       "      <th>assetgr</th>\n",
       "    </tr>\n",
       "  </thead>\n",
       "  <tbody>\n",
       "    <tr>\n",
       "      <th>112</th>\n",
       "      <td>A</td>\n",
       "      <td>2024-03-01</td>\n",
       "      <td>-0.069450</td>\n",
       "      <td>1961886.0</td>\n",
       "      <td>139.06</td>\n",
       "      <td>6.9</td>\n",
       "      <td>40247.0</td>\n",
       "      <td>0.233742</td>\n",
       "      <td>0.021933</td>\n",
       "    </tr>\n",
       "    <tr>\n",
       "      <th>225</th>\n",
       "      <td>AA</td>\n",
       "      <td>2024-03-01</td>\n",
       "      <td>-0.462734</td>\n",
       "      <td>6671720.4</td>\n",
       "      <td>27.68</td>\n",
       "      <td>1.1</td>\n",
       "      <td>4885.8</td>\n",
       "      <td>-0.128251</td>\n",
       "      <td>-0.040729</td>\n",
       "    </tr>\n",
       "    <tr>\n",
       "      <th>1261</th>\n",
       "      <td>AAN</td>\n",
       "      <td>2024-03-01</td>\n",
       "      <td>-0.181575</td>\n",
       "      <td>592856.4</td>\n",
       "      <td>7.32</td>\n",
       "      <td>0.3</td>\n",
       "      <td>235.3</td>\n",
       "      <td>0.004060</td>\n",
       "      <td>-0.017158</td>\n",
       "    </tr>\n",
       "    <tr>\n",
       "      <th>1374</th>\n",
       "      <td>AAOI</td>\n",
       "      <td>2024-03-01</td>\n",
       "      <td>5.897436</td>\n",
       "      <td>4213505.4</td>\n",
       "      <td>15.41</td>\n",
       "      <td>2.9</td>\n",
       "      <td>613.6</td>\n",
       "      <td>-0.303504</td>\n",
       "      <td>-0.046727</td>\n",
       "    </tr>\n",
       "    <tr>\n",
       "      <th>1487</th>\n",
       "      <td>AAON</td>\n",
       "      <td>2024-03-01</td>\n",
       "      <td>0.176980</td>\n",
       "      <td>612802.4</td>\n",
       "      <td>83.26</td>\n",
       "      <td>9.3</td>\n",
       "      <td>6851.2</td>\n",
       "      <td>0.316780</td>\n",
       "      <td>0.156693</td>\n",
       "    </tr>\n",
       "    <tr>\n",
       "      <th>...</th>\n",
       "      <td>...</td>\n",
       "      <td>...</td>\n",
       "      <td>...</td>\n",
       "      <td>...</td>\n",
       "      <td>...</td>\n",
       "      <td>...</td>\n",
       "      <td>...</td>\n",
       "      <td>...</td>\n",
       "      <td>...</td>\n",
       "    </tr>\n",
       "    <tr>\n",
       "      <th>563792</th>\n",
       "      <td>ZUO</td>\n",
       "      <td>2024-03-01</td>\n",
       "      <td>-0.123752</td>\n",
       "      <td>2637974.0</td>\n",
       "      <td>8.01</td>\n",
       "      <td>9.1</td>\n",
       "      <td>1146.2</td>\n",
       "      <td>-1.160386</td>\n",
       "      <td>0.515229</td>\n",
       "    </tr>\n",
       "    <tr>\n",
       "      <th>564176</th>\n",
       "      <td>ZVRA</td>\n",
       "      <td>2024-03-01</td>\n",
       "      <td>0.072356</td>\n",
       "      <td>189195.4</td>\n",
       "      <td>7.08</td>\n",
       "      <td>3.8</td>\n",
       "      <td>256.4</td>\n",
       "      <td>-0.326807</td>\n",
       "      <td>-0.130975</td>\n",
       "    </tr>\n",
       "    <tr>\n",
       "      <th>564451</th>\n",
       "      <td>ZWS</td>\n",
       "      <td>2024-03-01</td>\n",
       "      <td>0.346221</td>\n",
       "      <td>655942.6</td>\n",
       "      <td>32.07</td>\n",
       "      <td>3.4</td>\n",
       "      <td>5515.9</td>\n",
       "      <td>0.069783</td>\n",
       "      <td>-0.068785</td>\n",
       "    </tr>\n",
       "    <tr>\n",
       "      <th>564606</th>\n",
       "      <td>ZYME</td>\n",
       "      <td>2024-03-01</td>\n",
       "      <td>0.373283</td>\n",
       "      <td>433029.6</td>\n",
       "      <td>12.51</td>\n",
       "      <td>2.1</td>\n",
       "      <td>875.7</td>\n",
       "      <td>0.499173</td>\n",
       "      <td>0.667108</td>\n",
       "    </tr>\n",
       "    <tr>\n",
       "      <th>564812</th>\n",
       "      <td>ZYXI</td>\n",
       "      <td>2024-03-01</td>\n",
       "      <td>-0.079590</td>\n",
       "      <td>491351.2</td>\n",
       "      <td>12.30</td>\n",
       "      <td>7.1</td>\n",
       "      <td>417.0</td>\n",
       "      <td>0.230612</td>\n",
       "      <td>-0.126116</td>\n",
       "    </tr>\n",
       "  </tbody>\n",
       "</table>\n",
       "<p>2868 rows × 9 columns</p>\n",
       "</div>"
      ],
      "text/plain": [
       "       ticker        date       mom     volume   price   pb  marketcap  \\\n",
       "112         A  2024-03-01 -0.069450  1961886.0  139.06  6.9    40247.0   \n",
       "225        AA  2024-03-01 -0.462734  6671720.4   27.68  1.1     4885.8   \n",
       "1261      AAN  2024-03-01 -0.181575   592856.4    7.32  0.3      235.3   \n",
       "1374     AAOI  2024-03-01  5.897436  4213505.4   15.41  2.9      613.6   \n",
       "1487     AAON  2024-03-01  0.176980   612802.4   83.26  9.3     6851.2   \n",
       "...       ...         ...       ...        ...     ...  ...        ...   \n",
       "563792    ZUO  2024-03-01 -0.123752  2637974.0    8.01  9.1     1146.2   \n",
       "564176   ZVRA  2024-03-01  0.072356   189195.4    7.08  3.8      256.4   \n",
       "564451    ZWS  2024-03-01  0.346221   655942.6   32.07  3.4     5515.9   \n",
       "564606   ZYME  2024-03-01  0.373283   433029.6   12.51  2.1      875.7   \n",
       "564812   ZYXI  2024-03-01 -0.079590   491351.2   12.30  7.1      417.0   \n",
       "\n",
       "             roe   assetgr  \n",
       "112     0.233742  0.021933  \n",
       "225    -0.128251 -0.040729  \n",
       "1261    0.004060 -0.017158  \n",
       "1374   -0.303504 -0.046727  \n",
       "1487    0.316780  0.156693  \n",
       "...          ...       ...  \n",
       "563792 -1.160386  0.515229  \n",
       "564176 -0.326807 -0.130975  \n",
       "564451  0.069783 -0.068785  \n",
       "564606  0.499173  0.667108  \n",
       "564812  0.230612 -0.126116  \n",
       "\n",
       "[2868 rows x 9 columns]"
      ]
     },
     "execution_count": 32,
     "metadata": {},
     "output_type": "execute_result"
    }
   ],
   "source": [
    "df"
   ]
  },
  {
   "cell_type": "code",
   "execution_count": 30,
   "metadata": {},
   "outputs": [
    {
     "data": {
      "text/html": [
       "<div>\n",
       "<style scoped>\n",
       "    .dataframe tbody tr th:only-of-type {\n",
       "        vertical-align: middle;\n",
       "    }\n",
       "\n",
       "    .dataframe tbody tr th {\n",
       "        vertical-align: top;\n",
       "    }\n",
       "\n",
       "    .dataframe thead th {\n",
       "        text-align: right;\n",
       "    }\n",
       "</style>\n",
       "<table border=\"1\" class=\"dataframe\">\n",
       "  <thead>\n",
       "    <tr style=\"text-align: right;\">\n",
       "      <th></th>\n",
       "      <th>ticker</th>\n",
       "      <th>date</th>\n",
       "      <th>mom</th>\n",
       "      <th>volume</th>\n",
       "      <th>price</th>\n",
       "      <th>pb</th>\n",
       "      <th>marketcap</th>\n",
       "      <th>roe</th>\n",
       "      <th>assetgr</th>\n",
       "    </tr>\n",
       "  </thead>\n",
       "  <tbody>\n",
       "  </tbody>\n",
       "</table>\n",
       "</div>"
      ],
      "text/plain": [
       "Empty DataFrame\n",
       "Columns: [ticker, date, mom, volume, price, pb, marketcap, roe, assetgr]\n",
       "Index: []"
      ]
     },
     "execution_count": 30,
     "metadata": {},
     "output_type": "execute_result"
    }
   ],
   "source": [
    "df[df.date==\"2024-03-01\"]"
   ]
  },
  {
   "cell_type": "code",
   "execution_count": 8,
   "metadata": {
    "slideshow": {
     "slide_type": "slide"
    }
   },
   "outputs": [],
   "source": [
    "industries = pd.read_sql(\n",
    "    \"\"\" \n",
    "    select ticker, famaindustry as industry from tickers   \n",
    "    \"\"\",\n",
    "    conn,\n",
    ")\n",
    "industries[\"industry\"] = industries.industry.fillna(\"Almost Nothing\")\n",
    "df = df.merge(industries, on=\"ticker\", how=\"left\")\n",
    "df = df.dropna()"
   ]
  },
  {
   "cell_type": "code",
   "execution_count": 9,
   "metadata": {
    "slideshow": {
     "slide_type": "slide"
    }
   },
   "outputs": [],
   "source": [
    "for x in features:\n",
    "    df[f\"{x}_industry\"] = df.groupby(\n",
    "        [\"industry\"], \n",
    "        group_keys=False\n",
    "    )[x].apply(\n",
    "        lambda x: x - x.median()\n",
    "    )\n",
    "\n",
    "features += [f\"{x}_industry\" for x in features]"
   ]
  },
  {
   "cell_type": "code",
   "execution_count": 10,
   "metadata": {
    "slideshow": {
     "slide_type": "slide"
    }
   },
   "outputs": [],
   "source": [
    "for f in features:\n",
    "    df[f] = df[f].rank(pct=True)"
   ]
  },
  {
   "cell_type": "markdown",
   "metadata": {
    "slideshow": {
     "slide_type": "slide"
    }
   },
   "source": [
    "### Load Model and Predict"
   ]
  },
  {
   "cell_type": "code",
   "execution_count": 11,
   "metadata": {
    "slideshow": {
     "slide_type": "slide"
    }
   },
   "outputs": [
    {
     "ename": "ValueError",
     "evalue": "Found array with 0 sample(s) (shape=(0, 12)) while a minimum of 1 is required by RandomForestRegressor.",
     "output_type": "error",
     "traceback": [
      "\u001b[1;31m---------------------------------------------------------------------------\u001b[0m",
      "\u001b[1;31mValueError\u001b[0m                                Traceback (most recent call last)",
      "Cell \u001b[1;32mIn [11], line 2\u001b[0m\n\u001b[0;32m      1\u001b[0m model \u001b[38;5;241m=\u001b[39m load(\u001b[38;5;124m\"\u001b[39m\u001b[38;5;124mmymodel.joblib\u001b[39m\u001b[38;5;124m\"\u001b[39m)\n\u001b[1;32m----> 2\u001b[0m df[\u001b[38;5;124m\"\u001b[39m\u001b[38;5;124mpredict\u001b[39m\u001b[38;5;124m\"\u001b[39m] \u001b[38;5;241m=\u001b[39m \u001b[43mmodel\u001b[49m\u001b[38;5;241;43m.\u001b[39;49m\u001b[43mpredict\u001b[49m\u001b[43m(\u001b[49m\u001b[43mdf\u001b[49m\u001b[43m[\u001b[49m\u001b[43mfeatures\u001b[49m\u001b[43m]\u001b[49m\u001b[43m)\u001b[49m\n",
      "File \u001b[1;32mc:\\Users\\kerry\\AppData\\Local\\Programs\\Python\\Python310\\lib\\site-packages\\sklearn\\ensemble\\_forest.py:991\u001b[0m, in \u001b[0;36mForestRegressor.predict\u001b[1;34m(self, X)\u001b[0m\n\u001b[0;32m    989\u001b[0m check_is_fitted(\u001b[38;5;28mself\u001b[39m)\n\u001b[0;32m    990\u001b[0m \u001b[38;5;66;03m# Check data\u001b[39;00m\n\u001b[1;32m--> 991\u001b[0m X \u001b[38;5;241m=\u001b[39m \u001b[38;5;28;43mself\u001b[39;49m\u001b[38;5;241;43m.\u001b[39;49m\u001b[43m_validate_X_predict\u001b[49m\u001b[43m(\u001b[49m\u001b[43mX\u001b[49m\u001b[43m)\u001b[49m\n\u001b[0;32m    993\u001b[0m \u001b[38;5;66;03m# Assign chunk of trees to jobs\u001b[39;00m\n\u001b[0;32m    994\u001b[0m n_jobs, _, _ \u001b[38;5;241m=\u001b[39m _partition_estimators(\u001b[38;5;28mself\u001b[39m\u001b[38;5;241m.\u001b[39mn_estimators, \u001b[38;5;28mself\u001b[39m\u001b[38;5;241m.\u001b[39mn_jobs)\n",
      "File \u001b[1;32mc:\\Users\\kerry\\AppData\\Local\\Programs\\Python\\Python310\\lib\\site-packages\\sklearn\\ensemble\\_forest.py:605\u001b[0m, in \u001b[0;36mBaseForest._validate_X_predict\u001b[1;34m(self, X)\u001b[0m\n\u001b[0;32m    602\u001b[0m \u001b[38;5;124;03m\"\"\"\u001b[39;00m\n\u001b[0;32m    603\u001b[0m \u001b[38;5;124;03mValidate X whenever one tries to predict, apply, predict_proba.\"\"\"\u001b[39;00m\n\u001b[0;32m    604\u001b[0m check_is_fitted(\u001b[38;5;28mself\u001b[39m)\n\u001b[1;32m--> 605\u001b[0m X \u001b[38;5;241m=\u001b[39m \u001b[38;5;28;43mself\u001b[39;49m\u001b[38;5;241;43m.\u001b[39;49m\u001b[43m_validate_data\u001b[49m\u001b[43m(\u001b[49m\u001b[43mX\u001b[49m\u001b[43m,\u001b[49m\u001b[43m \u001b[49m\u001b[43mdtype\u001b[49m\u001b[38;5;241;43m=\u001b[39;49m\u001b[43mDTYPE\u001b[49m\u001b[43m,\u001b[49m\u001b[43m \u001b[49m\u001b[43maccept_sparse\u001b[49m\u001b[38;5;241;43m=\u001b[39;49m\u001b[38;5;124;43m\"\u001b[39;49m\u001b[38;5;124;43mcsr\u001b[39;49m\u001b[38;5;124;43m\"\u001b[39;49m\u001b[43m,\u001b[49m\u001b[43m \u001b[49m\u001b[43mreset\u001b[49m\u001b[38;5;241;43m=\u001b[39;49m\u001b[38;5;28;43;01mFalse\u001b[39;49;00m\u001b[43m)\u001b[49m\n\u001b[0;32m    606\u001b[0m \u001b[38;5;28;01mif\u001b[39;00m issparse(X) \u001b[38;5;129;01mand\u001b[39;00m (X\u001b[38;5;241m.\u001b[39mindices\u001b[38;5;241m.\u001b[39mdtype \u001b[38;5;241m!=\u001b[39m np\u001b[38;5;241m.\u001b[39mintc \u001b[38;5;129;01mor\u001b[39;00m X\u001b[38;5;241m.\u001b[39mindptr\u001b[38;5;241m.\u001b[39mdtype \u001b[38;5;241m!=\u001b[39m np\u001b[38;5;241m.\u001b[39mintc):\n\u001b[0;32m    607\u001b[0m     \u001b[38;5;28;01mraise\u001b[39;00m \u001b[38;5;167;01mValueError\u001b[39;00m(\u001b[38;5;124m\"\u001b[39m\u001b[38;5;124mNo support for np.int64 index based sparse matrices\u001b[39m\u001b[38;5;124m\"\u001b[39m)\n",
      "File \u001b[1;32mc:\\Users\\kerry\\AppData\\Local\\Programs\\Python\\Python310\\lib\\site-packages\\sklearn\\base.py:577\u001b[0m, in \u001b[0;36mBaseEstimator._validate_data\u001b[1;34m(self, X, y, reset, validate_separately, **check_params)\u001b[0m\n\u001b[0;32m    575\u001b[0m     \u001b[38;5;28;01mraise\u001b[39;00m \u001b[38;5;167;01mValueError\u001b[39;00m(\u001b[38;5;124m\"\u001b[39m\u001b[38;5;124mValidation should be done on X, y or both.\u001b[39m\u001b[38;5;124m\"\u001b[39m)\n\u001b[0;32m    576\u001b[0m \u001b[38;5;28;01melif\u001b[39;00m \u001b[38;5;129;01mnot\u001b[39;00m no_val_X \u001b[38;5;129;01mand\u001b[39;00m no_val_y:\n\u001b[1;32m--> 577\u001b[0m     X \u001b[38;5;241m=\u001b[39m check_array(X, input_name\u001b[38;5;241m=\u001b[39m\u001b[38;5;124m\"\u001b[39m\u001b[38;5;124mX\u001b[39m\u001b[38;5;124m\"\u001b[39m, \u001b[38;5;241m*\u001b[39m\u001b[38;5;241m*\u001b[39mcheck_params)\n\u001b[0;32m    578\u001b[0m     out \u001b[38;5;241m=\u001b[39m X\n\u001b[0;32m    579\u001b[0m \u001b[38;5;28;01melif\u001b[39;00m no_val_X \u001b[38;5;129;01mand\u001b[39;00m \u001b[38;5;129;01mnot\u001b[39;00m no_val_y:\n",
      "File \u001b[1;32mc:\\Users\\kerry\\AppData\\Local\\Programs\\Python\\Python310\\lib\\site-packages\\sklearn\\utils\\validation.py:909\u001b[0m, in \u001b[0;36mcheck_array\u001b[1;34m(array, accept_sparse, accept_large_sparse, dtype, order, copy, force_all_finite, ensure_2d, allow_nd, ensure_min_samples, ensure_min_features, estimator, input_name)\u001b[0m\n\u001b[0;32m    907\u001b[0m     n_samples \u001b[38;5;241m=\u001b[39m _num_samples(array)\n\u001b[0;32m    908\u001b[0m     \u001b[38;5;28;01mif\u001b[39;00m n_samples \u001b[38;5;241m<\u001b[39m ensure_min_samples:\n\u001b[1;32m--> 909\u001b[0m         \u001b[38;5;28;01mraise\u001b[39;00m \u001b[38;5;167;01mValueError\u001b[39;00m(\n\u001b[0;32m    910\u001b[0m             \u001b[38;5;124m\"\u001b[39m\u001b[38;5;124mFound array with \u001b[39m\u001b[38;5;132;01m%d\u001b[39;00m\u001b[38;5;124m sample(s) (shape=\u001b[39m\u001b[38;5;132;01m%s\u001b[39;00m\u001b[38;5;124m) while a\u001b[39m\u001b[38;5;124m\"\u001b[39m\n\u001b[0;32m    911\u001b[0m             \u001b[38;5;124m\"\u001b[39m\u001b[38;5;124m minimum of \u001b[39m\u001b[38;5;132;01m%d\u001b[39;00m\u001b[38;5;124m is required\u001b[39m\u001b[38;5;132;01m%s\u001b[39;00m\u001b[38;5;124m.\u001b[39m\u001b[38;5;124m\"\u001b[39m\n\u001b[0;32m    912\u001b[0m             \u001b[38;5;241m%\u001b[39m (n_samples, array\u001b[38;5;241m.\u001b[39mshape, ensure_min_samples, context)\n\u001b[0;32m    913\u001b[0m         )\n\u001b[0;32m    915\u001b[0m \u001b[38;5;28;01mif\u001b[39;00m ensure_min_features \u001b[38;5;241m>\u001b[39m \u001b[38;5;241m0\u001b[39m \u001b[38;5;129;01mand\u001b[39;00m array\u001b[38;5;241m.\u001b[39mndim \u001b[38;5;241m==\u001b[39m \u001b[38;5;241m2\u001b[39m:\n\u001b[0;32m    916\u001b[0m     n_features \u001b[38;5;241m=\u001b[39m array\u001b[38;5;241m.\u001b[39mshape[\u001b[38;5;241m1\u001b[39m]\n",
      "\u001b[1;31mValueError\u001b[0m: Found array with 0 sample(s) (shape=(0, 12)) while a minimum of 1 is required by RandomForestRegressor."
     ]
    }
   ],
   "source": [
    "model = load(\"mymodel.joblib\")\n",
    "df[\"predict\"] = model.predict(df[features])"
   ]
  },
  {
   "cell_type": "markdown",
   "metadata": {
    "slideshow": {
     "slide_type": "slide"
    }
   },
   "source": [
    "### Best and worst stocks\n",
    "\n",
    "- Best stocks must be tradable \n",
    "- Worst stocks must be tradable and shortable"
   ]
  },
  {
   "cell_type": "code",
   "execution_count": null,
   "metadata": {
    "slideshow": {
     "slide_type": "slide"
    }
   },
   "outputs": [],
   "source": [
    "with open(\"keys.txt\", \"r\") as f:\n",
    "    keys = f.readlines()\n",
    "\n",
    "key, secret_key = [x.strip() for x in keys]\n",
    "trading_client = TradingClient(key, secret_key, paper=True)\n",
    "\n",
    "search_params = GetAssetsRequest(asset_class=AssetClass.US_EQUITY)\n",
    "assets = trading_client.get_all_assets(search_params)\n",
    "tradable = [x.symbol for x in assets if x.tradable]\n",
    "shortable = [x.symbol for x in assets if x.shortable]"
   ]
  },
  {
   "cell_type": "code",
   "execution_count": null,
   "metadata": {
    "slideshow": {
     "slide_type": "slide"
    }
   },
   "outputs": [],
   "source": [
    "numstocks = 50\n",
    "\n",
    "df = df.sort_values(by=\"predict\", ascending=False)\n",
    "best = df[[\"ticker\", \"predict\"]].copy().reset_index(drop=True)\n",
    "best = best[best.ticker.isin(tradable)].iloc[:numstocks]\n",
    "\n",
    "df = df.sort_values(by=\"predict\", ascending=True)\n",
    "worst = df[[\"ticker\", \"predict\"]].copy().reset_index(drop=True)\n",
    "worst = worst[worst.ticker.isin(shortable)].iloc[:numstocks]"
   ]
  },
  {
   "cell_type": "code",
   "execution_count": null,
   "metadata": {
    "slideshow": {
     "slide_type": "slide"
    }
   },
   "outputs": [
    {
     "data": {
      "text/html": [
       "<div>\n",
       "<style scoped>\n",
       "    .dataframe tbody tr th:only-of-type {\n",
       "        vertical-align: middle;\n",
       "    }\n",
       "\n",
       "    .dataframe tbody tr th {\n",
       "        vertical-align: top;\n",
       "    }\n",
       "\n",
       "    .dataframe thead th {\n",
       "        text-align: right;\n",
       "    }\n",
       "</style>\n",
       "<table border=\"1\" class=\"dataframe\">\n",
       "  <thead>\n",
       "    <tr style=\"text-align: right;\">\n",
       "      <th></th>\n",
       "      <th>ticker</th>\n",
       "      <th>predict</th>\n",
       "    </tr>\n",
       "  </thead>\n",
       "  <tbody>\n",
       "    <tr>\n",
       "      <th>0</th>\n",
       "      <td>SMCI</td>\n",
       "      <td>52.086654</td>\n",
       "    </tr>\n",
       "    <tr>\n",
       "      <th>1</th>\n",
       "      <td>COST</td>\n",
       "      <td>51.263532</td>\n",
       "    </tr>\n",
       "    <tr>\n",
       "      <th>2</th>\n",
       "      <td>ODFL</td>\n",
       "      <td>51.263532</td>\n",
       "    </tr>\n",
       "    <tr>\n",
       "      <th>3</th>\n",
       "      <td>CDNS</td>\n",
       "      <td>51.263532</td>\n",
       "    </tr>\n",
       "    <tr>\n",
       "      <th>4</th>\n",
       "      <td>VRSK</td>\n",
       "      <td>51.263532</td>\n",
       "    </tr>\n",
       "    <tr>\n",
       "      <th>5</th>\n",
       "      <td>CLX</td>\n",
       "      <td>51.263532</td>\n",
       "    </tr>\n",
       "    <tr>\n",
       "      <th>6</th>\n",
       "      <td>FAST</td>\n",
       "      <td>51.263532</td>\n",
       "    </tr>\n",
       "    <tr>\n",
       "      <th>7</th>\n",
       "      <td>SNPS</td>\n",
       "      <td>51.263532</td>\n",
       "    </tr>\n",
       "    <tr>\n",
       "      <th>8</th>\n",
       "      <td>ROL</td>\n",
       "      <td>51.263532</td>\n",
       "    </tr>\n",
       "    <tr>\n",
       "      <th>9</th>\n",
       "      <td>BAH</td>\n",
       "      <td>51.263532</td>\n",
       "    </tr>\n",
       "    <tr>\n",
       "      <th>10</th>\n",
       "      <td>AMT</td>\n",
       "      <td>51.263532</td>\n",
       "    </tr>\n",
       "    <tr>\n",
       "      <th>11</th>\n",
       "      <td>LULU</td>\n",
       "      <td>51.263532</td>\n",
       "    </tr>\n",
       "    <tr>\n",
       "      <th>12</th>\n",
       "      <td>CMG</td>\n",
       "      <td>51.257535</td>\n",
       "    </tr>\n",
       "    <tr>\n",
       "      <th>13</th>\n",
       "      <td>BX</td>\n",
       "      <td>51.256013</td>\n",
       "    </tr>\n",
       "    <tr>\n",
       "      <th>14</th>\n",
       "      <td>MPWR</td>\n",
       "      <td>51.255101</td>\n",
       "    </tr>\n",
       "    <tr>\n",
       "      <th>15</th>\n",
       "      <td>ANET</td>\n",
       "      <td>51.255101</td>\n",
       "    </tr>\n",
       "    <tr>\n",
       "      <th>16</th>\n",
       "      <td>ADBE</td>\n",
       "      <td>51.254788</td>\n",
       "    </tr>\n",
       "    <tr>\n",
       "      <th>17</th>\n",
       "      <td>WST</td>\n",
       "      <td>51.253518</td>\n",
       "    </tr>\n",
       "    <tr>\n",
       "      <th>18</th>\n",
       "      <td>NKE</td>\n",
       "      <td>51.253518</td>\n",
       "    </tr>\n",
       "    <tr>\n",
       "      <th>19</th>\n",
       "      <td>WM</td>\n",
       "      <td>51.253518</td>\n",
       "    </tr>\n",
       "    <tr>\n",
       "      <th>20</th>\n",
       "      <td>BR</td>\n",
       "      <td>51.253518</td>\n",
       "    </tr>\n",
       "    <tr>\n",
       "      <th>21</th>\n",
       "      <td>NFLX</td>\n",
       "      <td>51.253518</td>\n",
       "    </tr>\n",
       "    <tr>\n",
       "      <th>22</th>\n",
       "      <td>ROST</td>\n",
       "      <td>51.253518</td>\n",
       "    </tr>\n",
       "    <tr>\n",
       "      <th>23</th>\n",
       "      <td>LSCC</td>\n",
       "      <td>51.252456</td>\n",
       "    </tr>\n",
       "    <tr>\n",
       "      <th>24</th>\n",
       "      <td>BURL</td>\n",
       "      <td>51.252456</td>\n",
       "    </tr>\n",
       "    <tr>\n",
       "      <th>25</th>\n",
       "      <td>TREX</td>\n",
       "      <td>51.252456</td>\n",
       "    </tr>\n",
       "    <tr>\n",
       "      <th>26</th>\n",
       "      <td>TSCO</td>\n",
       "      <td>51.251563</td>\n",
       "    </tr>\n",
       "    <tr>\n",
       "      <th>27</th>\n",
       "      <td>CTAS</td>\n",
       "      <td>51.247729</td>\n",
       "    </tr>\n",
       "    <tr>\n",
       "      <th>28</th>\n",
       "      <td>MSFT</td>\n",
       "      <td>51.246671</td>\n",
       "    </tr>\n",
       "    <tr>\n",
       "      <th>29</th>\n",
       "      <td>BSY</td>\n",
       "      <td>51.246671</td>\n",
       "    </tr>\n",
       "    <tr>\n",
       "      <th>30</th>\n",
       "      <td>CAT</td>\n",
       "      <td>51.244953</td>\n",
       "    </tr>\n",
       "    <tr>\n",
       "      <th>31</th>\n",
       "      <td>NXPI</td>\n",
       "      <td>51.244953</td>\n",
       "    </tr>\n",
       "    <tr>\n",
       "      <th>32</th>\n",
       "      <td>QCOM</td>\n",
       "      <td>51.244953</td>\n",
       "    </tr>\n",
       "    <tr>\n",
       "      <th>33</th>\n",
       "      <td>HON</td>\n",
       "      <td>51.244953</td>\n",
       "    </tr>\n",
       "    <tr>\n",
       "      <th>34</th>\n",
       "      <td>KO</td>\n",
       "      <td>51.244953</td>\n",
       "    </tr>\n",
       "    <tr>\n",
       "      <th>35</th>\n",
       "      <td>JBL</td>\n",
       "      <td>51.244953</td>\n",
       "    </tr>\n",
       "    <tr>\n",
       "      <th>36</th>\n",
       "      <td>JBHT</td>\n",
       "      <td>51.244953</td>\n",
       "    </tr>\n",
       "    <tr>\n",
       "      <th>37</th>\n",
       "      <td>APH</td>\n",
       "      <td>51.244953</td>\n",
       "    </tr>\n",
       "    <tr>\n",
       "      <th>38</th>\n",
       "      <td>CSX</td>\n",
       "      <td>51.244953</td>\n",
       "    </tr>\n",
       "    <tr>\n",
       "      <th>39</th>\n",
       "      <td>A</td>\n",
       "      <td>51.244953</td>\n",
       "    </tr>\n",
       "    <tr>\n",
       "      <th>40</th>\n",
       "      <td>PG</td>\n",
       "      <td>51.244953</td>\n",
       "    </tr>\n",
       "    <tr>\n",
       "      <th>41</th>\n",
       "      <td>MMC</td>\n",
       "      <td>51.244953</td>\n",
       "    </tr>\n",
       "    <tr>\n",
       "      <th>42</th>\n",
       "      <td>AXP</td>\n",
       "      <td>51.244953</td>\n",
       "    </tr>\n",
       "    <tr>\n",
       "      <th>43</th>\n",
       "      <td>FERG</td>\n",
       "      <td>51.244953</td>\n",
       "    </tr>\n",
       "    <tr>\n",
       "      <th>44</th>\n",
       "      <td>BBY</td>\n",
       "      <td>51.244953</td>\n",
       "    </tr>\n",
       "    <tr>\n",
       "      <th>45</th>\n",
       "      <td>SCCO</td>\n",
       "      <td>51.244953</td>\n",
       "    </tr>\n",
       "    <tr>\n",
       "      <th>46</th>\n",
       "      <td>MOH</td>\n",
       "      <td>51.244953</td>\n",
       "    </tr>\n",
       "    <tr>\n",
       "      <th>47</th>\n",
       "      <td>AVY</td>\n",
       "      <td>51.244953</td>\n",
       "    </tr>\n",
       "    <tr>\n",
       "      <th>48</th>\n",
       "      <td>TT</td>\n",
       "      <td>51.244953</td>\n",
       "    </tr>\n",
       "    <tr>\n",
       "      <th>49</th>\n",
       "      <td>PH</td>\n",
       "      <td>51.244953</td>\n",
       "    </tr>\n",
       "  </tbody>\n",
       "</table>\n",
       "</div>"
      ],
      "text/plain": [
       "   ticker    predict\n",
       "0    SMCI  52.086654\n",
       "1    COST  51.263532\n",
       "2    ODFL  51.263532\n",
       "3    CDNS  51.263532\n",
       "4    VRSK  51.263532\n",
       "5     CLX  51.263532\n",
       "6    FAST  51.263532\n",
       "7    SNPS  51.263532\n",
       "8     ROL  51.263532\n",
       "9     BAH  51.263532\n",
       "10    AMT  51.263532\n",
       "11   LULU  51.263532\n",
       "12    CMG  51.257535\n",
       "13     BX  51.256013\n",
       "14   MPWR  51.255101\n",
       "15   ANET  51.255101\n",
       "16   ADBE  51.254788\n",
       "17    WST  51.253518\n",
       "18    NKE  51.253518\n",
       "19     WM  51.253518\n",
       "20     BR  51.253518\n",
       "21   NFLX  51.253518\n",
       "22   ROST  51.253518\n",
       "23   LSCC  51.252456\n",
       "24   BURL  51.252456\n",
       "25   TREX  51.252456\n",
       "26   TSCO  51.251563\n",
       "27   CTAS  51.247729\n",
       "28   MSFT  51.246671\n",
       "29    BSY  51.246671\n",
       "30    CAT  51.244953\n",
       "31   NXPI  51.244953\n",
       "32   QCOM  51.244953\n",
       "33    HON  51.244953\n",
       "34     KO  51.244953\n",
       "35    JBL  51.244953\n",
       "36   JBHT  51.244953\n",
       "37    APH  51.244953\n",
       "38    CSX  51.244953\n",
       "39      A  51.244953\n",
       "40     PG  51.244953\n",
       "41    MMC  51.244953\n",
       "42    AXP  51.244953\n",
       "43   FERG  51.244953\n",
       "44    BBY  51.244953\n",
       "45   SCCO  51.244953\n",
       "46    MOH  51.244953\n",
       "47    AVY  51.244953\n",
       "48     TT  51.244953\n",
       "49     PH  51.244953"
      ]
     },
     "execution_count": 14,
     "metadata": {
      "slideshow": {
       "slide_type": "slide"
      }
     },
     "output_type": "execute_result"
    }
   ],
   "source": [
    "best"
   ]
  },
  {
   "cell_type": "code",
   "execution_count": null,
   "metadata": {
    "slideshow": {
     "slide_type": "slide"
    }
   },
   "outputs": [
    {
     "data": {
      "text/html": [
       "<div>\n",
       "<style scoped>\n",
       "    .dataframe tbody tr th:only-of-type {\n",
       "        vertical-align: middle;\n",
       "    }\n",
       "\n",
       "    .dataframe tbody tr th {\n",
       "        vertical-align: top;\n",
       "    }\n",
       "\n",
       "    .dataframe thead th {\n",
       "        text-align: right;\n",
       "    }\n",
       "</style>\n",
       "<table border=\"1\" class=\"dataframe\">\n",
       "  <thead>\n",
       "    <tr style=\"text-align: right;\">\n",
       "      <th></th>\n",
       "      <th>ticker</th>\n",
       "      <th>predict</th>\n",
       "    </tr>\n",
       "  </thead>\n",
       "  <tbody>\n",
       "    <tr>\n",
       "      <th>2</th>\n",
       "      <td>EIGR</td>\n",
       "      <td>38.363996</td>\n",
       "    </tr>\n",
       "    <tr>\n",
       "      <th>6</th>\n",
       "      <td>PRPO</td>\n",
       "      <td>41.206560</td>\n",
       "    </tr>\n",
       "    <tr>\n",
       "      <th>12</th>\n",
       "      <td>BODY</td>\n",
       "      <td>43.961997</td>\n",
       "    </tr>\n",
       "    <tr>\n",
       "      <th>15</th>\n",
       "      <td>KPLT</td>\n",
       "      <td>44.359595</td>\n",
       "    </tr>\n",
       "    <tr>\n",
       "      <th>18</th>\n",
       "      <td>XOS</td>\n",
       "      <td>44.683329</td>\n",
       "    </tr>\n",
       "    <tr>\n",
       "      <th>19</th>\n",
       "      <td>CALC</td>\n",
       "      <td>44.738121</td>\n",
       "    </tr>\n",
       "    <tr>\n",
       "      <th>20</th>\n",
       "      <td>SKLZ</td>\n",
       "      <td>44.743086</td>\n",
       "    </tr>\n",
       "    <tr>\n",
       "      <th>22</th>\n",
       "      <td>ONCT</td>\n",
       "      <td>44.778882</td>\n",
       "    </tr>\n",
       "    <tr>\n",
       "      <th>27</th>\n",
       "      <td>AIRT</td>\n",
       "      <td>45.248374</td>\n",
       "    </tr>\n",
       "    <tr>\n",
       "      <th>29</th>\n",
       "      <td>TSE</td>\n",
       "      <td>45.379756</td>\n",
       "    </tr>\n",
       "    <tr>\n",
       "      <th>32</th>\n",
       "      <td>ECOR</td>\n",
       "      <td>45.510872</td>\n",
       "    </tr>\n",
       "    <tr>\n",
       "      <th>33</th>\n",
       "      <td>IPWR</td>\n",
       "      <td>45.621705</td>\n",
       "    </tr>\n",
       "    <tr>\n",
       "      <th>40</th>\n",
       "      <td>CRVO</td>\n",
       "      <td>45.809763</td>\n",
       "    </tr>\n",
       "    <tr>\n",
       "      <th>41</th>\n",
       "      <td>AEYE</td>\n",
       "      <td>45.823377</td>\n",
       "    </tr>\n",
       "    <tr>\n",
       "      <th>42</th>\n",
       "      <td>LEE</td>\n",
       "      <td>45.849742</td>\n",
       "    </tr>\n",
       "    <tr>\n",
       "      <th>44</th>\n",
       "      <td>CRIS</td>\n",
       "      <td>45.917552</td>\n",
       "    </tr>\n",
       "    <tr>\n",
       "      <th>46</th>\n",
       "      <td>RVNC</td>\n",
       "      <td>46.000104</td>\n",
       "    </tr>\n",
       "    <tr>\n",
       "      <th>47</th>\n",
       "      <td>VHC</td>\n",
       "      <td>46.001902</td>\n",
       "    </tr>\n",
       "    <tr>\n",
       "      <th>48</th>\n",
       "      <td>SILK</td>\n",
       "      <td>46.072176</td>\n",
       "    </tr>\n",
       "    <tr>\n",
       "      <th>49</th>\n",
       "      <td>NVNO</td>\n",
       "      <td>46.107557</td>\n",
       "    </tr>\n",
       "    <tr>\n",
       "      <th>51</th>\n",
       "      <td>ARQT</td>\n",
       "      <td>46.147200</td>\n",
       "    </tr>\n",
       "    <tr>\n",
       "      <th>52</th>\n",
       "      <td>ATNM</td>\n",
       "      <td>46.282448</td>\n",
       "    </tr>\n",
       "    <tr>\n",
       "      <th>53</th>\n",
       "      <td>NGNE</td>\n",
       "      <td>46.295876</td>\n",
       "    </tr>\n",
       "    <tr>\n",
       "      <th>54</th>\n",
       "      <td>TIL</td>\n",
       "      <td>46.338145</td>\n",
       "    </tr>\n",
       "    <tr>\n",
       "      <th>55</th>\n",
       "      <td>TSVT</td>\n",
       "      <td>46.364286</td>\n",
       "    </tr>\n",
       "    <tr>\n",
       "      <th>57</th>\n",
       "      <td>CSBR</td>\n",
       "      <td>46.384761</td>\n",
       "    </tr>\n",
       "    <tr>\n",
       "      <th>58</th>\n",
       "      <td>TELA</td>\n",
       "      <td>46.386323</td>\n",
       "    </tr>\n",
       "    <tr>\n",
       "      <th>59</th>\n",
       "      <td>PRAX</td>\n",
       "      <td>46.517219</td>\n",
       "    </tr>\n",
       "    <tr>\n",
       "      <th>61</th>\n",
       "      <td>GANX</td>\n",
       "      <td>46.540163</td>\n",
       "    </tr>\n",
       "    <tr>\n",
       "      <th>62</th>\n",
       "      <td>OPAD</td>\n",
       "      <td>46.551463</td>\n",
       "    </tr>\n",
       "    <tr>\n",
       "      <th>64</th>\n",
       "      <td>ENTA</td>\n",
       "      <td>46.628655</td>\n",
       "    </tr>\n",
       "    <tr>\n",
       "      <th>66</th>\n",
       "      <td>ROOT</td>\n",
       "      <td>46.663821</td>\n",
       "    </tr>\n",
       "    <tr>\n",
       "      <th>67</th>\n",
       "      <td>CULP</td>\n",
       "      <td>46.703994</td>\n",
       "    </tr>\n",
       "    <tr>\n",
       "      <th>69</th>\n",
       "      <td>QUIK</td>\n",
       "      <td>46.807604</td>\n",
       "    </tr>\n",
       "    <tr>\n",
       "      <th>70</th>\n",
       "      <td>SYRE</td>\n",
       "      <td>46.822921</td>\n",
       "    </tr>\n",
       "    <tr>\n",
       "      <th>72</th>\n",
       "      <td>SCOR</td>\n",
       "      <td>46.875804</td>\n",
       "    </tr>\n",
       "    <tr>\n",
       "      <th>74</th>\n",
       "      <td>CELC</td>\n",
       "      <td>46.921116</td>\n",
       "    </tr>\n",
       "    <tr>\n",
       "      <th>75</th>\n",
       "      <td>ASTC</td>\n",
       "      <td>46.945857</td>\n",
       "    </tr>\n",
       "    <tr>\n",
       "      <th>76</th>\n",
       "      <td>DLA</td>\n",
       "      <td>46.971238</td>\n",
       "    </tr>\n",
       "    <tr>\n",
       "      <th>77</th>\n",
       "      <td>IMRX</td>\n",
       "      <td>46.980722</td>\n",
       "    </tr>\n",
       "    <tr>\n",
       "      <th>79</th>\n",
       "      <td>SYRS</td>\n",
       "      <td>47.019127</td>\n",
       "    </tr>\n",
       "    <tr>\n",
       "      <th>81</th>\n",
       "      <td>GOCO</td>\n",
       "      <td>47.039486</td>\n",
       "    </tr>\n",
       "    <tr>\n",
       "      <th>82</th>\n",
       "      <td>AURA</td>\n",
       "      <td>47.079351</td>\n",
       "    </tr>\n",
       "    <tr>\n",
       "      <th>84</th>\n",
       "      <td>TCX</td>\n",
       "      <td>47.117637</td>\n",
       "    </tr>\n",
       "    <tr>\n",
       "      <th>85</th>\n",
       "      <td>DMRC</td>\n",
       "      <td>47.123601</td>\n",
       "    </tr>\n",
       "    <tr>\n",
       "      <th>87</th>\n",
       "      <td>INGN</td>\n",
       "      <td>47.174315</td>\n",
       "    </tr>\n",
       "    <tr>\n",
       "      <th>88</th>\n",
       "      <td>OUST</td>\n",
       "      <td>47.179069</td>\n",
       "    </tr>\n",
       "    <tr>\n",
       "      <th>89</th>\n",
       "      <td>AKYA</td>\n",
       "      <td>47.204699</td>\n",
       "    </tr>\n",
       "    <tr>\n",
       "      <th>90</th>\n",
       "      <td>ABEO</td>\n",
       "      <td>47.209457</td>\n",
       "    </tr>\n",
       "    <tr>\n",
       "      <th>91</th>\n",
       "      <td>CLPT</td>\n",
       "      <td>47.222059</td>\n",
       "    </tr>\n",
       "  </tbody>\n",
       "</table>\n",
       "</div>"
      ],
      "text/plain": [
       "   ticker    predict\n",
       "2    EIGR  38.363996\n",
       "6    PRPO  41.206560\n",
       "12   BODY  43.961997\n",
       "15   KPLT  44.359595\n",
       "18    XOS  44.683329\n",
       "19   CALC  44.738121\n",
       "20   SKLZ  44.743086\n",
       "22   ONCT  44.778882\n",
       "27   AIRT  45.248374\n",
       "29    TSE  45.379756\n",
       "32   ECOR  45.510872\n",
       "33   IPWR  45.621705\n",
       "40   CRVO  45.809763\n",
       "41   AEYE  45.823377\n",
       "42    LEE  45.849742\n",
       "44   CRIS  45.917552\n",
       "46   RVNC  46.000104\n",
       "47    VHC  46.001902\n",
       "48   SILK  46.072176\n",
       "49   NVNO  46.107557\n",
       "51   ARQT  46.147200\n",
       "52   ATNM  46.282448\n",
       "53   NGNE  46.295876\n",
       "54    TIL  46.338145\n",
       "55   TSVT  46.364286\n",
       "57   CSBR  46.384761\n",
       "58   TELA  46.386323\n",
       "59   PRAX  46.517219\n",
       "61   GANX  46.540163\n",
       "62   OPAD  46.551463\n",
       "64   ENTA  46.628655\n",
       "66   ROOT  46.663821\n",
       "67   CULP  46.703994\n",
       "69   QUIK  46.807604\n",
       "70   SYRE  46.822921\n",
       "72   SCOR  46.875804\n",
       "74   CELC  46.921116\n",
       "75   ASTC  46.945857\n",
       "76    DLA  46.971238\n",
       "77   IMRX  46.980722\n",
       "79   SYRS  47.019127\n",
       "81   GOCO  47.039486\n",
       "82   AURA  47.079351\n",
       "84    TCX  47.117637\n",
       "85   DMRC  47.123601\n",
       "87   INGN  47.174315\n",
       "88   OUST  47.179069\n",
       "89   AKYA  47.204699\n",
       "90   ABEO  47.209457\n",
       "91   CLPT  47.222059"
      ]
     },
     "execution_count": 15,
     "metadata": {
      "slideshow": {
       "slide_type": "slide"
      }
     },
     "output_type": "execute_result"
    }
   ],
   "source": [
    "worst"
   ]
  },
  {
   "cell_type": "markdown",
   "metadata": {
    "slideshow": {
     "slide_type": "slide"
    }
   },
   "source": [
    "### Close unwanted positions"
   ]
  },
  {
   "cell_type": "code",
   "execution_count": null,
   "metadata": {
    "slideshow": {
     "slide_type": "slide"
    }
   },
   "outputs": [],
   "source": [
    "positions = trading_client.get_all_positions()\n",
    "positions = {x.symbol: float(x.qty) for x in positions}\n",
    "positions_to_close = [\n",
    "    symbol for symbol in positions \n",
    "    if (symbol not in best.ticker.to_list())\n",
    "    and (symbol not in worst.ticker.to_list())\n",
    "    and (symbol != \"SPY\")\n",
    "]\n",
    "\n",
    "for symbol in positions_to_close:\n",
    "    qty = positions[symbol]\n",
    "    order=MarketOrderRequest(\n",
    "        symbol=symbol,\n",
    "        qty=abs(qty),\n",
    "        side=OrderSide.BUY if qty<0 else OrderSide.SELL,\n",
    "        time_in_force=TimeInForce.DAY\n",
    "    )\n",
    "    _ = trading_client.submit_order(order)"
   ]
  },
  {
   "attachments": {},
   "cell_type": "markdown",
   "metadata": {
    "slideshow": {
     "slide_type": "slide"
    }
   },
   "source": [
    "### Rebalance SPY"
   ]
  },
  {
   "cell_type": "code",
   "execution_count": null,
   "metadata": {
    "slideshow": {
     "slide_type": "slide"
    }
   },
   "outputs": [],
   "source": [
    "price = yf.download(\"SPY\", start=2024, progress=False)[\"Close\"].iloc[-1].item()\n",
    "\n",
    "account = trading_client.get_account()\n",
    "equity = float(account.equity)\n",
    "qty = int(equity / price)\n",
    "qty -= positions[\"SPY\"] if \"SPY\" in positions else 0\n",
    "\n",
    "if qty != 0:\n",
    "    order = MarketOrderRequest(\n",
    "        symbol=\"SPY\",\n",
    "        qty=abs(qty),\n",
    "        side=OrderSide.BUY if qty>0 else OrderSide.SELL,\n",
    "        time_in_force=TimeInForce.DAY\n",
    "    )\n",
    "    _ = trading_client.submit_order(order)"
   ]
  },
  {
   "cell_type": "markdown",
   "metadata": {
    "slideshow": {
     "slide_type": "slide"
    }
   },
   "source": [
    "### Trade best stocks"
   ]
  },
  {
   "cell_type": "code",
   "execution_count": null,
   "metadata": {
    "slideshow": {
     "slide_type": "slide"
    }
   },
   "outputs": [
    {
     "name": "stdout",
     "output_type": "stream",
     "text": [
      "[*********************100%%**********************]  50 of 50 completed\n",
      "An error occurred: {\"buying_power\":\"60.71\",\"code\":40310000,\"cost_basis\":\"794.16\",\"message\":\"insufficient buying power\"}\n",
      "An error occurred: {\"buying_power\":\"60.71\",\"code\":40310000,\"cost_basis\":\"762\",\"message\":\"insufficient buying power\"}\n",
      "An error occurred: {\"buying_power\":\"60.71\",\"code\":40310000,\"cost_basis\":\"787\",\"message\":\"insufficient buying power\"}\n",
      "An error occurred: {\"buying_power\":\"60.71\",\"code\":40310000,\"cost_basis\":\"721.44\",\"message\":\"insufficient buying power\"}\n",
      "An error occurred: {\"buying_power\":\"59.6\",\"code\":40310000,\"cost_basis\":\"406.07\",\"message\":\"insufficient buying power\"}\n",
      "An error occurred: {\"buying_power\":\"59.33\",\"code\":40310000,\"cost_basis\":\"785.7\",\"message\":\"insufficient buying power\"}\n",
      "An error occurred: {\"buying_power\":\"59.33\",\"code\":40310000,\"cost_basis\":\"707.79\",\"message\":\"insufficient buying power\"}\n",
      "An error occurred: {\"buying_power\":\"59.31\",\"code\":40310000,\"cost_basis\":\"783.55\",\"message\":\"insufficient buying power\"}\n",
      "An error occurred: {\"buying_power\":\"325.66\",\"code\":40310000,\"cost_basis\":\"791.92\",\"message\":\"insufficient buying power\"}\n",
      "An error occurred: {\"buying_power\":\"325.66\",\"code\":40310000,\"cost_basis\":\"771.55\",\"message\":\"insufficient buying power\"}\n",
      "An error occurred: {\"buying_power\":\"325.66\",\"code\":40310000,\"cost_basis\":\"707.6\",\"message\":\"insufficient buying power\"}\n",
      "An error occurred: {\"buying_power\":\"325.64\",\"code\":40310000,\"cost_basis\":\"653.55\",\"message\":\"insufficient buying power\"}\n",
      "An error occurred: {\"buying_power\":\"325.6\",\"code\":40310000,\"cost_basis\":\"777.42\",\"message\":\"insufficient buying power\"}\n",
      "An error occurred: {\"buying_power\":\"324.61\",\"code\":40310000,\"cost_basis\":\"752.4\",\"message\":\"insufficient buying power\"}\n",
      "An error occurred: {\"buying_power\":\"324.59\",\"code\":40310000,\"cost_basis\":\"399\",\"message\":\"insufficient buying power\"}\n",
      "An error occurred: {\"buying_power\":\"324.59\",\"code\":40310000,\"cost_basis\":\"625.53\",\"message\":\"insufficient buying power\"}\n"
     ]
    }
   ],
   "source": [
    "symbols = best.ticker.to_list()\n",
    "prices = yf.download(symbols, start=2024)[\"Close\"].iloc[-1]\n",
    "symbols = [s for s in symbols if not np.isnan(prices[s])]\n",
    "dollars = 0.4 * equity / numstocks\n",
    "for symbol in symbols:\n",
    "    price = prices[symbol]\n",
    "    qty = int(dollars / price)\n",
    "    qty -= positions[symbol] if symbol in positions else 0\n",
    "    if qty != 0:\n",
    "        try:\n",
    "            order = MarketOrderRequest(\n",
    "                symbol=symbol,\n",
    "                qty=abs(qty),\n",
    "                side=OrderSide.BUY if qty>0 else OrderSide.SELL,\n",
    "                time_in_force=TimeInForce.DAY\n",
    "            )\n",
    "            _ = trading_client.submit_order(order)\n",
    "        except Exception as error:\n",
    "            print(\"An error occurred:\", error)"
   ]
  },
  {
   "attachments": {},
   "cell_type": "markdown",
   "metadata": {
    "slideshow": {
     "slide_type": "slide"
    }
   },
   "source": [
    "### Trade worst stocks"
   ]
  },
  {
   "cell_type": "code",
   "execution_count": null,
   "metadata": {
    "slideshow": {
     "slide_type": "slide"
    }
   },
   "outputs": [
    {
     "name": "stdout",
     "output_type": "stream",
     "text": [
      "[*********************100%%**********************]  50 of 50 completed\n",
      "An error occurred: {\"buying_power\":\"405.43\",\"code\":40310000,\"cost_basis\":\"819.18\",\"message\":\"insufficient buying power\"}\n"
     ]
    }
   ],
   "source": [
    "symbols = worst.ticker.to_list()\n",
    "prices = yf.download(symbols, start=2024)[\"Close\"].iloc[-1]\n",
    "symbols = [s for s in symbols if not np.isnan(prices[s])]\n",
    "for symbol in symbols:\n",
    "    price = prices[symbol]\n",
    "    qty = - int(dollars / price)\n",
    "    qty -= positions[symbol] if symbol in positions else 0\n",
    "    if qty != 0:\n",
    "        try:\n",
    "            order = MarketOrderRequest(\n",
    "                symbol=symbol,\n",
    "                qty=abs(qty),\n",
    "                side=OrderSide.BUY if qty>0 else OrderSide.SELL,\n",
    "                time_in_force=TimeInForce.DAY\n",
    "            )\n",
    "            _ = trading_client.submit_order(order)\n",
    "        except Exception as error:\n",
    "            print(\"An error occurred:\", error)"
   ]
  },
  {
   "attachments": {},
   "cell_type": "markdown",
   "metadata": {
    "slideshow": {
     "slide_type": "slide"
    }
   },
   "source": [
    "### Save data"
   ]
  },
  {
   "cell_type": "code",
   "execution_count": null,
   "metadata": {
    "slideshow": {
     "slide_type": "slide"
    }
   },
   "outputs": [],
   "source": [
    "today = datetime.strftime(datetime.today(), \"%Y-%m-%d\")\n",
    "account = trading_client.get_account()\n",
    "equity = float(account.equity)\n",
    "if os.path.isfile(\"equity.csv\"):\n",
    "    d = pd.read_csv(\"equity.csv\", index_col=\"date\")\n",
    "    d.loc[today] = equity \n",
    "else: \n",
    "    d = pd.Series({today: equity})\n",
    "    d.name = \"equity\" \n",
    "    d.index.name = \"date\"\n",
    "d.to_csv(\"equity.csv\")"
   ]
  },
  {
   "cell_type": "code",
   "execution_count": null,
   "metadata": {
    "slideshow": {
     "slide_type": "slide"
    }
   },
   "outputs": [],
   "source": [
    "positions = trading_client.get_all_positions()\n",
    "d = pd.DataFrame([x.qty for x in positions], index=[x.symbol for x in positions], columns=[\"shares\"])\n",
    "d[\"date\"] = today\n",
    "d.index.name = \"symbol\"\n",
    "d = d.reset_index()\n",
    "if os.path.isfile(\"positions.csv\"):\n",
    "    d0 = pd.read_csv(\"positions.csv\")\n",
    "    d = pd.concat((d0, d))\n",
    "d.to_csv(\"positions.csv\", index=False)"
   ]
  },
  {
   "cell_type": "code",
   "execution_count": null,
   "metadata": {},
   "outputs": [],
   "source": [
    "df[df.date]"
   ]
  }
 ],
 "metadata": {
  "kernelspec": {
   "display_name": "venv",
   "language": "python",
   "name": "python3"
  },
  "language_info": {
   "codemirror_mode": {
    "name": "ipython",
    "version": 3
   },
   "file_extension": ".py",
   "mimetype": "text/x-python",
   "name": "python",
   "nbconvert_exporter": "python",
   "pygments_lexer": "ipython3",
   "version": "3.10.11"
  },
  "orig_nbformat": 4,
  "vscode": {
   "interpreter": {
    "hash": "24514d992635106b0c080fe619fc409ba929c1b95321a4abd0f8c840fea2ec36"
   }
  }
 },
 "nbformat": 4,
 "nbformat_minor": 2
}
