{
 "cells": [
  {
   "cell_type": "markdown",
   "metadata": {
    "slideshow": {
     "slide_type": "slide"
    }
   },
   "source": [
    "# Rank and Trade\n",
    "\n",
    "### MGMT 767, Quantitative Investments Lab\n",
    "### Kerry Back & Kevin Crotty, Rice University"
   ]
  },
  {
   "cell_type": "markdown",
   "metadata": {
    "slideshow": {
     "slide_type": "slide"
    }
   },
   "source": [
    "### Outline\n",
    "\n",
    "1. Build feature dataset with today's features\n",
    "2. Load and apply model to predict\n",
    "3. Trade to 140/40 portfolio with 100% in SPY\n",
    "   (a) Close unwanted positions\n",
    "   (b) Rebalance SPY\n",
    "   (c) Open/rebalance long positions\n",
    "   (d) Open/rebalance short positions\n",
    "4. Save account equity and positions"
   ]
  },
  {
   "cell_type": "code",
   "execution_count": 1,
   "metadata": {
    "slideshow": {
     "slide_type": "slide"
    }
   },
   "outputs": [],
   "source": [
    "import numpy as np\n",
    "import pandas as pd\n",
    "from sqlalchemy import create_engine\n",
    "from joblib import load \n",
    "import yfinance as yf \n",
    "from datetime import datetime\n",
    "import os.path\n",
    "\n",
    "from alpaca.trading.client import TradingClient\n",
    "from alpaca.trading.requests import MarketOrderRequest, GetAssetsRequest, AssetClass\n",
    "from alpaca.trading.enums import OrderSide, TimeInForce"
   ]
  },
  {
   "cell_type": "markdown",
   "metadata": {
    "slideshow": {
     "slide_type": "slide"
    }
   },
   "source": [
    "### Build Feature Dataset\n",
    "\n",
    "- Don't need much history.  Start here in 2022.\n",
    "- And don't need weekly returns (after computing momentum)."
   ]
  },
  {
   "cell_type": "code",
   "execution_count": 2,
   "metadata": {
    "slideshow": {
     "slide_type": "slide"
    }
   },
   "outputs": [],
   "source": [
    "server = 'fs.rice.edu'\n",
    "database = 'stocks'\n",
    "username = 'stocks'\n",
    "password = '6LAZH1'\n",
    "driver = 'SQL+Server'\n",
    "string = f\"mssql+pyodbc://{username}:{password}@{server}/{database}\" \n",
    "try: \n",
    "    conn = create_engine(string + \"?driver='SQL+Server'\").connect()\n",
    "except:\n",
    "    try:\n",
    "        conn = create_engine(string + \"?driver='ODBC+Driver+18+for+SQL+Server'\").connect()\n",
    "    except:\n",
    "        import pymssql\n",
    "        string = f\"mssql+pymssql://{username}:{password}@{server}/{database}\"   \n",
    "        conn = create_engine(string).connect() "
   ]
  },
  {
   "cell_type": "code",
   "execution_count": 3,
   "metadata": {
    "slideshow": {
     "slide_type": "slide"
    }
   },
   "outputs": [],
   "source": [
    "sep_weekly = pd.read_sql(\n",
    "    \"\"\" \n",
    "    select date, ticker, closeadj, closeunadj, volume, lastupdated from sep_weekly \n",
    "    where date >= '2022-01-01'\n",
    "    order by ticker, date, lastupdated    \n",
    "    \"\"\",\n",
    "    conn,\n",
    ")\n",
    "sep_weekly = sep_weekly.groupby([\"ticker\", \"date\"]).last()\n",
    "sep_weekly = sep_weekly.drop(columns=[\"lastupdated\"])\n",
    "\n",
    "ret = sep_weekly.groupby(\"ticker\", group_keys=False).closeadj.pct_change()\n",
    "ret.name = \"ret\"\n",
    "\n",
    "price = sep_weekly.closeunadj\n",
    "price.name = \"price\"\n",
    "\n",
    "volume = sep_weekly.volume \n",
    "volume.name = \"volume\""
   ]
  },
  {
   "cell_type": "code",
   "execution_count": 4,
   "metadata": {},
   "outputs": [
    {
     "data": {
      "text/plain": [
       "datetime.date(2024, 3, 29)"
      ]
     },
     "execution_count": 4,
     "metadata": {},
     "output_type": "execute_result"
    }
   ],
   "source": [
    "sep_weekly.reset_index().date.max()"
   ]
  },
  {
   "cell_type": "code",
   "execution_count": 5,
   "metadata": {
    "slideshow": {
     "slide_type": "slide"
    }
   },
   "outputs": [],
   "source": [
    "ret_annual = sep_weekly.groupby(\"ticker\", group_keys=False).closeadj.pct_change(52)\n",
    "ret_monthly = sep_weekly.groupby(\"ticker\", group_keys=False).closeadj.pct_change(4)\n",
    "mom = (1 + ret_annual) / (1 + ret_monthly) - 1\n",
    "mom.name = \"mom\""
   ]
  },
  {
   "cell_type": "code",
   "execution_count": 6,
   "metadata": {
    "slideshow": {
     "slide_type": "slide"
    }
   },
   "outputs": [],
   "source": [
    "weekly = pd.read_sql(\n",
    "    \"\"\" \n",
    "    select date, ticker, pb, marketcap, lastupdated from weekly \n",
    "    where date>='2022-01-01'\n",
    "    order by ticker, date, lastupdated    \n",
    "    \"\"\",\n",
    "    conn,\n",
    ")\n",
    "weekly = weekly.groupby([\"ticker\", \"date\"]).last()\n",
    "weekly = weekly.drop(columns=[\"lastupdated\"])\n",
    "\n",
    "pb = weekly.pb\n",
    "pb.name = \"pb\" \n",
    "marketcap = weekly.marketcap \n",
    "marketcap.name = \"marketcap\""
   ]
  },
  {
   "cell_type": "code",
   "execution_count": 7,
   "metadata": {},
   "outputs": [
    {
     "data": {
      "text/plain": [
       "datetime.date(2024, 3, 29)"
      ]
     },
     "execution_count": 7,
     "metadata": {},
     "output_type": "execute_result"
    }
   ],
   "source": [
    "weekly.reset_index().date.max()"
   ]
  },
  {
   "cell_type": "code",
   "execution_count": 8,
   "metadata": {
    "slideshow": {
     "slide_type": "slide"
    }
   },
   "outputs": [],
   "source": [
    "sf1 = pd.read_sql(\n",
    "    \"\"\" \n",
    "    select datekey as date, ticker, assets, netinc, equity, lastupdated from sf1\n",
    "    where datekey>='2022-01-01' and dimension='ARY' and assets>0 and equity>0\n",
    "    order by ticker, datekey, lastupdated    \n",
    "    \"\"\",\n",
    "    conn,\n",
    ")\n",
    "sf1 = sf1.groupby([\"ticker\", \"date\"]).last()\n",
    "sf1 = sf1.drop(columns=[\"lastupdated\"])\n",
    "\n",
    "# change dates to Fridays\n",
    "from datetime import timedelta \n",
    "sf1 = sf1.reset_index()\n",
    "sf1.date =sf1.date.map(\n",
    "    lambda x: x + timedelta(4 - x.weekday())\n",
    ")\n",
    "sf1 = sf1.set_index([\"ticker\", \"date\"])\n",
    "sf1 = sf1[~sf1.index.duplicated()]\n",
    "\n",
    "assets = sf1.assets\n",
    "assets.name = \"assets\" \n",
    "netinc = sf1.netinc \n",
    "netinc.name = \"netinc\" \n",
    "equity = sf1.equity\n",
    "equity.name = \"equity\"\n",
    "\n",
    "equity = equity.groupby(\"ticker\", group_keys=False).shift() \n",
    "roe = netinc / equity \n",
    "roe.name = \"roe\"\n",
    "\n",
    "assetgr = assets.groupby(\"ticker\", group_keys=False).pct_change()\n",
    "assetgr.name = \"assetgr\""
   ]
  },
  {
   "cell_type": "code",
   "execution_count": 9,
   "metadata": {},
   "outputs": [
    {
     "data": {
      "text/html": [
       "<div>\n",
       "<style scoped>\n",
       "    .dataframe tbody tr th:only-of-type {\n",
       "        vertical-align: middle;\n",
       "    }\n",
       "\n",
       "    .dataframe tbody tr th {\n",
       "        vertical-align: top;\n",
       "    }\n",
       "\n",
       "    .dataframe thead th {\n",
       "        text-align: right;\n",
       "    }\n",
       "</style>\n",
       "<table border=\"1\" class=\"dataframe\">\n",
       "  <thead>\n",
       "    <tr style=\"text-align: right;\">\n",
       "      <th></th>\n",
       "      <th>ticker</th>\n",
       "      <th>date</th>\n",
       "      <th>assets</th>\n",
       "      <th>netinc</th>\n",
       "      <th>equity</th>\n",
       "    </tr>\n",
       "  </thead>\n",
       "  <tbody>\n",
       "    <tr>\n",
       "      <th>65</th>\n",
       "      <td>ABOS</td>\n",
       "      <td>2024-03-29</td>\n",
       "      <td>310125000.0</td>\n",
       "      <td>-52371000.0</td>\n",
       "      <td>266973000.0</td>\n",
       "    </tr>\n",
       "    <tr>\n",
       "      <th>159</th>\n",
       "      <td>ACRV</td>\n",
       "      <td>2024-03-29</td>\n",
       "      <td>138265000.0</td>\n",
       "      <td>-60388000.0</td>\n",
       "      <td>121195000.0</td>\n",
       "    </tr>\n",
       "    <tr>\n",
       "      <th>296</th>\n",
       "      <td>AGAE</td>\n",
       "      <td>2024-03-29</td>\n",
       "      <td>112016687.0</td>\n",
       "      <td>-3595361.0</td>\n",
       "      <td>82749924.0</td>\n",
       "    </tr>\n",
       "    <tr>\n",
       "      <th>300</th>\n",
       "      <td>AGBA</td>\n",
       "      <td>2024-03-29</td>\n",
       "      <td>66588967.0</td>\n",
       "      <td>-49206019.0</td>\n",
       "      <td>8102771.0</td>\n",
       "    </tr>\n",
       "    <tr>\n",
       "      <th>533</th>\n",
       "      <td>ALT</td>\n",
       "      <td>2024-03-29</td>\n",
       "      <td>210640000.0</td>\n",
       "      <td>-88447000.0</td>\n",
       "      <td>194099000.0</td>\n",
       "    </tr>\n",
       "    <tr>\n",
       "      <th>...</th>\n",
       "      <td>...</td>\n",
       "      <td>...</td>\n",
       "      <td>...</td>\n",
       "      <td>...</td>\n",
       "      <td>...</td>\n",
       "    </tr>\n",
       "    <tr>\n",
       "      <th>11720</th>\n",
       "      <td>WYY</td>\n",
       "      <td>2024-03-29</td>\n",
       "      <td>51300499.0</td>\n",
       "      <td>-4046473.0</td>\n",
       "      <td>14677429.0</td>\n",
       "    </tr>\n",
       "    <tr>\n",
       "      <th>11849</th>\n",
       "      <td>ZEO</td>\n",
       "      <td>2024-03-29</td>\n",
       "      <td>47987187.0</td>\n",
       "      <td>6230438.0</td>\n",
       "      <td>32332888.0</td>\n",
       "    </tr>\n",
       "    <tr>\n",
       "      <th>11901</th>\n",
       "      <td>ZUO</td>\n",
       "      <td>2024-03-29</td>\n",
       "      <td>823836000.0</td>\n",
       "      <td>-68193000.0</td>\n",
       "      <td>133687000.0</td>\n",
       "    </tr>\n",
       "    <tr>\n",
       "      <th>11902</th>\n",
       "      <td>ZURA</td>\n",
       "      <td>2024-03-29</td>\n",
       "      <td>100843000.0</td>\n",
       "      <td>-60360000.0</td>\n",
       "      <td>59330000.0</td>\n",
       "    </tr>\n",
       "    <tr>\n",
       "      <th>11909</th>\n",
       "      <td>ZVSA</td>\n",
       "      <td>2024-03-29</td>\n",
       "      <td>22114284.0</td>\n",
       "      <td>-98297946.0</td>\n",
       "      <td>11074598.0</td>\n",
       "    </tr>\n",
       "  </tbody>\n",
       "</table>\n",
       "<p>260 rows × 5 columns</p>\n",
       "</div>"
      ],
      "text/plain": [
       "      ticker        date       assets      netinc       equity\n",
       "65      ABOS  2024-03-29  310125000.0 -52371000.0  266973000.0\n",
       "159     ACRV  2024-03-29  138265000.0 -60388000.0  121195000.0\n",
       "296     AGAE  2024-03-29  112016687.0  -3595361.0   82749924.0\n",
       "300     AGBA  2024-03-29   66588967.0 -49206019.0    8102771.0\n",
       "533      ALT  2024-03-29  210640000.0 -88447000.0  194099000.0\n",
       "...      ...         ...          ...         ...          ...\n",
       "11720    WYY  2024-03-29   51300499.0  -4046473.0   14677429.0\n",
       "11849    ZEO  2024-03-29   47987187.0   6230438.0   32332888.0\n",
       "11901    ZUO  2024-03-29  823836000.0 -68193000.0  133687000.0\n",
       "11902   ZURA  2024-03-29  100843000.0 -60360000.0   59330000.0\n",
       "11909   ZVSA  2024-03-29   22114284.0 -98297946.0   11074598.0\n",
       "\n",
       "[260 rows x 5 columns]"
      ]
     },
     "execution_count": 9,
     "metadata": {},
     "output_type": "execute_result"
    }
   ],
   "source": [
    "sf1=sf1.reset_index()\n",
    "sf1[sf1.date==sf1.date.max()]"
   ]
  },
  {
   "cell_type": "code",
   "execution_count": 10,
   "metadata": {},
   "outputs": [
    {
     "data": {
      "text/plain": [
       "datetime.date(2024, 3, 29)"
      ]
     },
     "execution_count": 10,
     "metadata": {},
     "output_type": "execute_result"
    }
   ],
   "source": [
    "sf1.reset_index().date.max()"
   ]
  },
  {
   "cell_type": "code",
   "execution_count": 11,
   "metadata": {
    "slideshow": {
     "slide_type": "slide"
    }
   },
   "outputs": [],
   "source": [
    "df = pd.concat(\n",
    "    (\n",
    "        mom, \n",
    "        volume,\n",
    "        price, \n",
    "        pb, \n",
    "        marketcap, \n",
    "        roe, \n",
    "        assetgr\n",
    "        ), \n",
    "        axis=1\n",
    "    )\n",
    "df[\"roe\"] = df.groupby(\"ticker\", group_keys=False).roe.ffill()\n",
    "df[\"assetgr\"] = df.groupby(\"ticker\", group_keys=False).assetgr.ffill()\n",
    "\n",
    "df = df.reset_index()\n",
    "df.date = df.date.astype(str)\n",
    "df = df[df.date==df.date.max()]\n",
    "df = df[df.price >= 5]\n",
    "df = df.dropna()\n",
    "\n",
    "features = [\n",
    "    \"mom\",\n",
    "    \"volume\",\n",
    "    \"pb\",\n",
    "    \"marketcap\",\n",
    "    \"roe\",\n",
    "    \"assetgr\" \n",
    "]"
   ]
  },
  {
   "cell_type": "code",
   "execution_count": 12,
   "metadata": {
    "slideshow": {
     "slide_type": "slide"
    }
   },
   "outputs": [],
   "source": [
    "industries = pd.read_sql(\n",
    "    \"\"\" \n",
    "    select ticker, famaindustry as industry from tickers   \n",
    "    \"\"\",\n",
    "    conn,\n",
    ")\n",
    "industries[\"industry\"] = industries.industry.fillna(\"Almost Nothing\")\n",
    "df = df.merge(industries, on=\"ticker\", how=\"left\")\n",
    "df = df.dropna()"
   ]
  },
  {
   "cell_type": "code",
   "execution_count": 13,
   "metadata": {
    "slideshow": {
     "slide_type": "slide"
    }
   },
   "outputs": [],
   "source": [
    "for x in features:\n",
    "    df[f\"{x}_industry\"] = df.groupby(\n",
    "        [\"industry\"], \n",
    "        group_keys=False\n",
    "    )[x].apply(\n",
    "        lambda x: x - x.median()\n",
    "    )\n",
    "\n",
    "features += [f\"{x}_industry\" for x in features]"
   ]
  },
  {
   "cell_type": "code",
   "execution_count": 14,
   "metadata": {
    "slideshow": {
     "slide_type": "slide"
    }
   },
   "outputs": [],
   "source": [
    "for f in features:\n",
    "    df[f] = df[f].rank(pct=True)"
   ]
  },
  {
   "cell_type": "markdown",
   "metadata": {
    "slideshow": {
     "slide_type": "slide"
    }
   },
   "source": [
    "### Load Model and Predict"
   ]
  },
  {
   "cell_type": "code",
   "execution_count": 15,
   "metadata": {
    "slideshow": {
     "slide_type": "slide"
    }
   },
   "outputs": [],
   "source": [
    "model = load(\"mymodel.joblib\")\n",
    "df[\"predict\"] = model.predict(df[features])"
   ]
  },
  {
   "cell_type": "markdown",
   "metadata": {
    "slideshow": {
     "slide_type": "slide"
    }
   },
   "source": [
    "### Best and worst stocks\n",
    "\n",
    "- Best stocks must be tradable \n",
    "- Worst stocks must be tradable and shortable"
   ]
  },
  {
   "cell_type": "code",
   "execution_count": 16,
   "metadata": {
    "slideshow": {
     "slide_type": "slide"
    }
   },
   "outputs": [],
   "source": [
    "with open(\"keys.txt\", \"r\") as f:\n",
    "    keys = f.readlines()\n",
    "\n",
    "key, secret_key = [x.strip() for x in keys]\n",
    "trading_client = TradingClient(key, secret_key, paper=True)\n",
    "\n",
    "search_params = GetAssetsRequest(asset_class=AssetClass.US_EQUITY)\n",
    "assets = trading_client.get_all_assets(search_params)\n",
    "tradable = [x.symbol for x in assets if x.tradable]\n",
    "shortable = [x.symbol for x in assets if x.shortable]"
   ]
  },
  {
   "cell_type": "code",
   "execution_count": 17,
   "metadata": {
    "slideshow": {
     "slide_type": "slide"
    }
   },
   "outputs": [],
   "source": [
    "numstocks = 50\n",
    "\n",
    "df = df.sort_values(by=\"predict\", ascending=False)\n",
    "best = df[[\"ticker\", \"predict\"]].copy().reset_index(drop=True)\n",
    "best = best[best.ticker.isin(tradable)].iloc[:numstocks]\n",
    "\n",
    "df = df.sort_values(by=\"predict\", ascending=True)\n",
    "worst = df[[\"ticker\", \"predict\"]].copy().reset_index(drop=True)\n",
    "worst = worst[worst.ticker.isin(shortable)].iloc[:numstocks]"
   ]
  },
  {
   "cell_type": "code",
   "execution_count": 18,
   "metadata": {
    "slideshow": {
     "slide_type": "slide"
    }
   },
   "outputs": [
    {
     "data": {
      "text/html": [
       "<div>\n",
       "<style scoped>\n",
       "    .dataframe tbody tr th:only-of-type {\n",
       "        vertical-align: middle;\n",
       "    }\n",
       "\n",
       "    .dataframe tbody tr th {\n",
       "        vertical-align: top;\n",
       "    }\n",
       "\n",
       "    .dataframe thead th {\n",
       "        text-align: right;\n",
       "    }\n",
       "</style>\n",
       "<table border=\"1\" class=\"dataframe\">\n",
       "  <thead>\n",
       "    <tr style=\"text-align: right;\">\n",
       "      <th></th>\n",
       "      <th>ticker</th>\n",
       "      <th>predict</th>\n",
       "    </tr>\n",
       "  </thead>\n",
       "  <tbody>\n",
       "    <tr>\n",
       "      <th>0</th>\n",
       "      <td>VRT</td>\n",
       "      <td>51.965860</td>\n",
       "    </tr>\n",
       "    <tr>\n",
       "      <th>1</th>\n",
       "      <td>CVNA</td>\n",
       "      <td>51.903699</td>\n",
       "    </tr>\n",
       "    <tr>\n",
       "      <th>2</th>\n",
       "      <td>SMCI</td>\n",
       "      <td>51.803189</td>\n",
       "    </tr>\n",
       "    <tr>\n",
       "      <th>3</th>\n",
       "      <td>CLX</td>\n",
       "      <td>51.377378</td>\n",
       "    </tr>\n",
       "    <tr>\n",
       "      <th>4</th>\n",
       "      <td>CTAS</td>\n",
       "      <td>51.375721</td>\n",
       "    </tr>\n",
       "    <tr>\n",
       "      <th>5</th>\n",
       "      <td>TSCO</td>\n",
       "      <td>51.370101</td>\n",
       "    </tr>\n",
       "    <tr>\n",
       "      <th>6</th>\n",
       "      <td>CDNS</td>\n",
       "      <td>51.359203</td>\n",
       "    </tr>\n",
       "    <tr>\n",
       "      <th>7</th>\n",
       "      <td>COST</td>\n",
       "      <td>51.359203</td>\n",
       "    </tr>\n",
       "    <tr>\n",
       "      <th>8</th>\n",
       "      <td>BR</td>\n",
       "      <td>51.353720</td>\n",
       "    </tr>\n",
       "    <tr>\n",
       "      <th>9</th>\n",
       "      <td>ARES</td>\n",
       "      <td>51.352391</td>\n",
       "    </tr>\n",
       "    <tr>\n",
       "      <th>10</th>\n",
       "      <td>MPWR</td>\n",
       "      <td>51.352391</td>\n",
       "    </tr>\n",
       "    <tr>\n",
       "      <th>11</th>\n",
       "      <td>BURL</td>\n",
       "      <td>51.351197</td>\n",
       "    </tr>\n",
       "    <tr>\n",
       "      <th>12</th>\n",
       "      <td>BAH</td>\n",
       "      <td>51.345889</td>\n",
       "    </tr>\n",
       "    <tr>\n",
       "      <th>13</th>\n",
       "      <td>WM</td>\n",
       "      <td>51.342822</td>\n",
       "    </tr>\n",
       "    <tr>\n",
       "      <th>14</th>\n",
       "      <td>POOL</td>\n",
       "      <td>51.342807</td>\n",
       "    </tr>\n",
       "    <tr>\n",
       "      <th>15</th>\n",
       "      <td>IRM</td>\n",
       "      <td>51.338380</td>\n",
       "    </tr>\n",
       "    <tr>\n",
       "      <th>16</th>\n",
       "      <td>SNPS</td>\n",
       "      <td>51.336791</td>\n",
       "    </tr>\n",
       "    <tr>\n",
       "      <th>17</th>\n",
       "      <td>ADBE</td>\n",
       "      <td>51.334977</td>\n",
       "    </tr>\n",
       "    <tr>\n",
       "      <th>18</th>\n",
       "      <td>EXPE</td>\n",
       "      <td>51.334242</td>\n",
       "    </tr>\n",
       "    <tr>\n",
       "      <th>19</th>\n",
       "      <td>ODFL</td>\n",
       "      <td>51.333899</td>\n",
       "    </tr>\n",
       "    <tr>\n",
       "      <th>20</th>\n",
       "      <td>CMG</td>\n",
       "      <td>51.333670</td>\n",
       "    </tr>\n",
       "    <tr>\n",
       "      <th>21</th>\n",
       "      <td>TREX</td>\n",
       "      <td>51.333499</td>\n",
       "    </tr>\n",
       "    <tr>\n",
       "      <th>22</th>\n",
       "      <td>WMS</td>\n",
       "      <td>51.332320</td>\n",
       "    </tr>\n",
       "    <tr>\n",
       "      <th>23</th>\n",
       "      <td>CSX</td>\n",
       "      <td>51.327916</td>\n",
       "    </tr>\n",
       "    <tr>\n",
       "      <th>24</th>\n",
       "      <td>DXCM</td>\n",
       "      <td>51.326850</td>\n",
       "    </tr>\n",
       "    <tr>\n",
       "      <th>25</th>\n",
       "      <td>FAST</td>\n",
       "      <td>51.326588</td>\n",
       "    </tr>\n",
       "    <tr>\n",
       "      <th>26</th>\n",
       "      <td>AMT</td>\n",
       "      <td>51.326588</td>\n",
       "    </tr>\n",
       "    <tr>\n",
       "      <th>27</th>\n",
       "      <td>NXPI</td>\n",
       "      <td>51.325646</td>\n",
       "    </tr>\n",
       "    <tr>\n",
       "      <th>28</th>\n",
       "      <td>FERG</td>\n",
       "      <td>51.325646</td>\n",
       "    </tr>\n",
       "    <tr>\n",
       "      <th>29</th>\n",
       "      <td>VRSK</td>\n",
       "      <td>51.322871</td>\n",
       "    </tr>\n",
       "    <tr>\n",
       "      <th>30</th>\n",
       "      <td>DECK</td>\n",
       "      <td>51.322755</td>\n",
       "    </tr>\n",
       "    <tr>\n",
       "      <th>31</th>\n",
       "      <td>QSR</td>\n",
       "      <td>51.320026</td>\n",
       "    </tr>\n",
       "    <tr>\n",
       "      <th>32</th>\n",
       "      <td>NFLX</td>\n",
       "      <td>51.319775</td>\n",
       "    </tr>\n",
       "    <tr>\n",
       "      <th>33</th>\n",
       "      <td>A</td>\n",
       "      <td>51.319615</td>\n",
       "    </tr>\n",
       "    <tr>\n",
       "      <th>34</th>\n",
       "      <td>IQV</td>\n",
       "      <td>51.318379</td>\n",
       "    </tr>\n",
       "    <tr>\n",
       "      <th>35</th>\n",
       "      <td>PH</td>\n",
       "      <td>51.317518</td>\n",
       "    </tr>\n",
       "    <tr>\n",
       "      <th>36</th>\n",
       "      <td>ROST</td>\n",
       "      <td>51.317256</td>\n",
       "    </tr>\n",
       "    <tr>\n",
       "      <th>37</th>\n",
       "      <td>SCCO</td>\n",
       "      <td>51.317256</td>\n",
       "    </tr>\n",
       "    <tr>\n",
       "      <th>38</th>\n",
       "      <td>TJX</td>\n",
       "      <td>51.316257</td>\n",
       "    </tr>\n",
       "    <tr>\n",
       "      <th>39</th>\n",
       "      <td>KO</td>\n",
       "      <td>51.316009</td>\n",
       "    </tr>\n",
       "    <tr>\n",
       "      <th>40</th>\n",
       "      <td>ERIE</td>\n",
       "      <td>51.312617</td>\n",
       "    </tr>\n",
       "    <tr>\n",
       "      <th>41</th>\n",
       "      <td>FDS</td>\n",
       "      <td>51.311016</td>\n",
       "    </tr>\n",
       "    <tr>\n",
       "      <th>42</th>\n",
       "      <td>WSO</td>\n",
       "      <td>51.311016</td>\n",
       "    </tr>\n",
       "    <tr>\n",
       "      <th>43</th>\n",
       "      <td>DRI</td>\n",
       "      <td>51.311016</td>\n",
       "    </tr>\n",
       "    <tr>\n",
       "      <th>44</th>\n",
       "      <td>DKS</td>\n",
       "      <td>51.311016</td>\n",
       "    </tr>\n",
       "    <tr>\n",
       "      <th>45</th>\n",
       "      <td>AVY</td>\n",
       "      <td>51.311016</td>\n",
       "    </tr>\n",
       "    <tr>\n",
       "      <th>46</th>\n",
       "      <td>V</td>\n",
       "      <td>51.310702</td>\n",
       "    </tr>\n",
       "    <tr>\n",
       "      <th>47</th>\n",
       "      <td>TT</td>\n",
       "      <td>51.310443</td>\n",
       "    </tr>\n",
       "    <tr>\n",
       "      <th>48</th>\n",
       "      <td>SYK</td>\n",
       "      <td>51.306293</td>\n",
       "    </tr>\n",
       "    <tr>\n",
       "      <th>49</th>\n",
       "      <td>HESM</td>\n",
       "      <td>51.303915</td>\n",
       "    </tr>\n",
       "  </tbody>\n",
       "</table>\n",
       "</div>"
      ],
      "text/plain": [
       "   ticker    predict\n",
       "0     VRT  51.965860\n",
       "1    CVNA  51.903699\n",
       "2    SMCI  51.803189\n",
       "3     CLX  51.377378\n",
       "4    CTAS  51.375721\n",
       "5    TSCO  51.370101\n",
       "6    CDNS  51.359203\n",
       "7    COST  51.359203\n",
       "8      BR  51.353720\n",
       "9    ARES  51.352391\n",
       "10   MPWR  51.352391\n",
       "11   BURL  51.351197\n",
       "12    BAH  51.345889\n",
       "13     WM  51.342822\n",
       "14   POOL  51.342807\n",
       "15    IRM  51.338380\n",
       "16   SNPS  51.336791\n",
       "17   ADBE  51.334977\n",
       "18   EXPE  51.334242\n",
       "19   ODFL  51.333899\n",
       "20    CMG  51.333670\n",
       "21   TREX  51.333499\n",
       "22    WMS  51.332320\n",
       "23    CSX  51.327916\n",
       "24   DXCM  51.326850\n",
       "25   FAST  51.326588\n",
       "26    AMT  51.326588\n",
       "27   NXPI  51.325646\n",
       "28   FERG  51.325646\n",
       "29   VRSK  51.322871\n",
       "30   DECK  51.322755\n",
       "31    QSR  51.320026\n",
       "32   NFLX  51.319775\n",
       "33      A  51.319615\n",
       "34    IQV  51.318379\n",
       "35     PH  51.317518\n",
       "36   ROST  51.317256\n",
       "37   SCCO  51.317256\n",
       "38    TJX  51.316257\n",
       "39     KO  51.316009\n",
       "40   ERIE  51.312617\n",
       "41    FDS  51.311016\n",
       "42    WSO  51.311016\n",
       "43    DRI  51.311016\n",
       "44    DKS  51.311016\n",
       "45    AVY  51.311016\n",
       "46      V  51.310702\n",
       "47     TT  51.310443\n",
       "48    SYK  51.306293\n",
       "49   HESM  51.303915"
      ]
     },
     "execution_count": 18,
     "metadata": {},
     "output_type": "execute_result"
    }
   ],
   "source": [
    "best"
   ]
  },
  {
   "cell_type": "code",
   "execution_count": 19,
   "metadata": {
    "slideshow": {
     "slide_type": "slide"
    }
   },
   "outputs": [
    {
     "data": {
      "text/html": [
       "<div>\n",
       "<style scoped>\n",
       "    .dataframe tbody tr th:only-of-type {\n",
       "        vertical-align: middle;\n",
       "    }\n",
       "\n",
       "    .dataframe tbody tr th {\n",
       "        vertical-align: top;\n",
       "    }\n",
       "\n",
       "    .dataframe thead th {\n",
       "        text-align: right;\n",
       "    }\n",
       "</style>\n",
       "<table border=\"1\" class=\"dataframe\">\n",
       "  <thead>\n",
       "    <tr style=\"text-align: right;\">\n",
       "      <th></th>\n",
       "      <th>ticker</th>\n",
       "      <th>predict</th>\n",
       "    </tr>\n",
       "  </thead>\n",
       "  <tbody>\n",
       "    <tr>\n",
       "      <th>2</th>\n",
       "      <td>EGIO</td>\n",
       "      <td>45.090538</td>\n",
       "    </tr>\n",
       "    <tr>\n",
       "      <th>8</th>\n",
       "      <td>ONCT</td>\n",
       "      <td>45.469028</td>\n",
       "    </tr>\n",
       "    <tr>\n",
       "      <th>11</th>\n",
       "      <td>EP</td>\n",
       "      <td>45.578664</td>\n",
       "    </tr>\n",
       "    <tr>\n",
       "      <th>16</th>\n",
       "      <td>VRM</td>\n",
       "      <td>45.786216</td>\n",
       "    </tr>\n",
       "    <tr>\n",
       "      <th>18</th>\n",
       "      <td>LPCN</td>\n",
       "      <td>45.867946</td>\n",
       "    </tr>\n",
       "    <tr>\n",
       "      <th>21</th>\n",
       "      <td>QTTB</td>\n",
       "      <td>46.054224</td>\n",
       "    </tr>\n",
       "    <tr>\n",
       "      <th>22</th>\n",
       "      <td>NVCT</td>\n",
       "      <td>46.115831</td>\n",
       "    </tr>\n",
       "    <tr>\n",
       "      <th>25</th>\n",
       "      <td>AIRG</td>\n",
       "      <td>46.219827</td>\n",
       "    </tr>\n",
       "    <tr>\n",
       "      <th>27</th>\n",
       "      <td>SCOR</td>\n",
       "      <td>46.408658</td>\n",
       "    </tr>\n",
       "    <tr>\n",
       "      <th>28</th>\n",
       "      <td>ELVN</td>\n",
       "      <td>46.414920</td>\n",
       "    </tr>\n",
       "    <tr>\n",
       "      <th>31</th>\n",
       "      <td>TELA</td>\n",
       "      <td>46.482843</td>\n",
       "    </tr>\n",
       "    <tr>\n",
       "      <th>32</th>\n",
       "      <td>ASMB</td>\n",
       "      <td>46.483524</td>\n",
       "    </tr>\n",
       "    <tr>\n",
       "      <th>33</th>\n",
       "      <td>JYNT</td>\n",
       "      <td>46.486509</td>\n",
       "    </tr>\n",
       "    <tr>\n",
       "      <th>41</th>\n",
       "      <td>LEE</td>\n",
       "      <td>46.650719</td>\n",
       "    </tr>\n",
       "    <tr>\n",
       "      <th>42</th>\n",
       "      <td>VHC</td>\n",
       "      <td>46.672342</td>\n",
       "    </tr>\n",
       "    <tr>\n",
       "      <th>46</th>\n",
       "      <td>PEPG</td>\n",
       "      <td>46.709050</td>\n",
       "    </tr>\n",
       "    <tr>\n",
       "      <th>48</th>\n",
       "      <td>SNCR</td>\n",
       "      <td>46.759498</td>\n",
       "    </tr>\n",
       "    <tr>\n",
       "      <th>49</th>\n",
       "      <td>ASTC</td>\n",
       "      <td>46.891235</td>\n",
       "    </tr>\n",
       "    <tr>\n",
       "      <th>50</th>\n",
       "      <td>TLIS</td>\n",
       "      <td>46.901303</td>\n",
       "    </tr>\n",
       "    <tr>\n",
       "      <th>52</th>\n",
       "      <td>ACRV</td>\n",
       "      <td>46.903026</td>\n",
       "    </tr>\n",
       "    <tr>\n",
       "      <th>56</th>\n",
       "      <td>DTIL</td>\n",
       "      <td>46.926108</td>\n",
       "    </tr>\n",
       "    <tr>\n",
       "      <th>60</th>\n",
       "      <td>CLPT</td>\n",
       "      <td>47.006018</td>\n",
       "    </tr>\n",
       "    <tr>\n",
       "      <th>62</th>\n",
       "      <td>XOMA</td>\n",
       "      <td>47.057775</td>\n",
       "    </tr>\n",
       "    <tr>\n",
       "      <th>64</th>\n",
       "      <td>KPLT</td>\n",
       "      <td>47.108324</td>\n",
       "    </tr>\n",
       "    <tr>\n",
       "      <th>65</th>\n",
       "      <td>WISH</td>\n",
       "      <td>47.141393</td>\n",
       "    </tr>\n",
       "    <tr>\n",
       "      <th>66</th>\n",
       "      <td>TVTX</td>\n",
       "      <td>47.169907</td>\n",
       "    </tr>\n",
       "    <tr>\n",
       "      <th>67</th>\n",
       "      <td>NICK</td>\n",
       "      <td>47.173564</td>\n",
       "    </tr>\n",
       "    <tr>\n",
       "      <th>68</th>\n",
       "      <td>MODV</td>\n",
       "      <td>47.190207</td>\n",
       "    </tr>\n",
       "    <tr>\n",
       "      <th>70</th>\n",
       "      <td>TISI</td>\n",
       "      <td>47.204622</td>\n",
       "    </tr>\n",
       "    <tr>\n",
       "      <th>71</th>\n",
       "      <td>IRBT</td>\n",
       "      <td>47.207615</td>\n",
       "    </tr>\n",
       "    <tr>\n",
       "      <th>74</th>\n",
       "      <td>WGS</td>\n",
       "      <td>47.240310</td>\n",
       "    </tr>\n",
       "    <tr>\n",
       "      <th>75</th>\n",
       "      <td>SKLZ</td>\n",
       "      <td>47.275023</td>\n",
       "    </tr>\n",
       "    <tr>\n",
       "      <th>76</th>\n",
       "      <td>STHO</td>\n",
       "      <td>47.296536</td>\n",
       "    </tr>\n",
       "    <tr>\n",
       "      <th>77</th>\n",
       "      <td>SYRE</td>\n",
       "      <td>47.302851</td>\n",
       "    </tr>\n",
       "    <tr>\n",
       "      <th>78</th>\n",
       "      <td>GOCO</td>\n",
       "      <td>47.345669</td>\n",
       "    </tr>\n",
       "    <tr>\n",
       "      <th>81</th>\n",
       "      <td>IMNM</td>\n",
       "      <td>47.377831</td>\n",
       "    </tr>\n",
       "    <tr>\n",
       "      <th>82</th>\n",
       "      <td>WEST</td>\n",
       "      <td>47.379618</td>\n",
       "    </tr>\n",
       "    <tr>\n",
       "      <th>84</th>\n",
       "      <td>HROW</td>\n",
       "      <td>47.401707</td>\n",
       "    </tr>\n",
       "    <tr>\n",
       "      <th>85</th>\n",
       "      <td>SGHT</td>\n",
       "      <td>47.403846</td>\n",
       "    </tr>\n",
       "    <tr>\n",
       "      <th>86</th>\n",
       "      <td>UEIC</td>\n",
       "      <td>47.409781</td>\n",
       "    </tr>\n",
       "    <tr>\n",
       "      <th>87</th>\n",
       "      <td>NVCR</td>\n",
       "      <td>47.417231</td>\n",
       "    </tr>\n",
       "    <tr>\n",
       "      <th>90</th>\n",
       "      <td>RRGB</td>\n",
       "      <td>47.472177</td>\n",
       "    </tr>\n",
       "    <tr>\n",
       "      <th>92</th>\n",
       "      <td>FLL</td>\n",
       "      <td>47.484137</td>\n",
       "    </tr>\n",
       "    <tr>\n",
       "      <th>93</th>\n",
       "      <td>NPCE</td>\n",
       "      <td>47.489469</td>\n",
       "    </tr>\n",
       "    <tr>\n",
       "      <th>96</th>\n",
       "      <td>RAPT</td>\n",
       "      <td>47.510393</td>\n",
       "    </tr>\n",
       "    <tr>\n",
       "      <th>97</th>\n",
       "      <td>SCPH</td>\n",
       "      <td>47.528681</td>\n",
       "    </tr>\n",
       "    <tr>\n",
       "      <th>98</th>\n",
       "      <td>QURE</td>\n",
       "      <td>47.576588</td>\n",
       "    </tr>\n",
       "    <tr>\n",
       "      <th>99</th>\n",
       "      <td>TBRG</td>\n",
       "      <td>47.596204</td>\n",
       "    </tr>\n",
       "    <tr>\n",
       "      <th>100</th>\n",
       "      <td>OUST</td>\n",
       "      <td>47.598063</td>\n",
       "    </tr>\n",
       "    <tr>\n",
       "      <th>101</th>\n",
       "      <td>NEXT</td>\n",
       "      <td>47.618375</td>\n",
       "    </tr>\n",
       "  </tbody>\n",
       "</table>\n",
       "</div>"
      ],
      "text/plain": [
       "    ticker    predict\n",
       "2     EGIO  45.090538\n",
       "8     ONCT  45.469028\n",
       "11      EP  45.578664\n",
       "16     VRM  45.786216\n",
       "18    LPCN  45.867946\n",
       "21    QTTB  46.054224\n",
       "22    NVCT  46.115831\n",
       "25    AIRG  46.219827\n",
       "27    SCOR  46.408658\n",
       "28    ELVN  46.414920\n",
       "31    TELA  46.482843\n",
       "32    ASMB  46.483524\n",
       "33    JYNT  46.486509\n",
       "41     LEE  46.650719\n",
       "42     VHC  46.672342\n",
       "46    PEPG  46.709050\n",
       "48    SNCR  46.759498\n",
       "49    ASTC  46.891235\n",
       "50    TLIS  46.901303\n",
       "52    ACRV  46.903026\n",
       "56    DTIL  46.926108\n",
       "60    CLPT  47.006018\n",
       "62    XOMA  47.057775\n",
       "64    KPLT  47.108324\n",
       "65    WISH  47.141393\n",
       "66    TVTX  47.169907\n",
       "67    NICK  47.173564\n",
       "68    MODV  47.190207\n",
       "70    TISI  47.204622\n",
       "71    IRBT  47.207615\n",
       "74     WGS  47.240310\n",
       "75    SKLZ  47.275023\n",
       "76    STHO  47.296536\n",
       "77    SYRE  47.302851\n",
       "78    GOCO  47.345669\n",
       "81    IMNM  47.377831\n",
       "82    WEST  47.379618\n",
       "84    HROW  47.401707\n",
       "85    SGHT  47.403846\n",
       "86    UEIC  47.409781\n",
       "87    NVCR  47.417231\n",
       "90    RRGB  47.472177\n",
       "92     FLL  47.484137\n",
       "93    NPCE  47.489469\n",
       "96    RAPT  47.510393\n",
       "97    SCPH  47.528681\n",
       "98    QURE  47.576588\n",
       "99    TBRG  47.596204\n",
       "100   OUST  47.598063\n",
       "101   NEXT  47.618375"
      ]
     },
     "execution_count": 19,
     "metadata": {},
     "output_type": "execute_result"
    }
   ],
   "source": [
    "worst"
   ]
  },
  {
   "cell_type": "markdown",
   "metadata": {
    "slideshow": {
     "slide_type": "slide"
    }
   },
   "source": [
    "### Close unwanted positions"
   ]
  },
  {
   "cell_type": "code",
   "execution_count": 30,
   "metadata": {
    "slideshow": {
     "slide_type": "slide"
    }
   },
   "outputs": [],
   "source": [
    "positions = trading_client.get_all_positions()\n",
    "positions = {x.symbol: float(x.qty) for x in positions}\n",
    "positions_to_close = [\n",
    "    symbol for symbol in positions \n",
    "    if (symbol not in best.ticker.to_list())\n",
    "    and (symbol not in worst.ticker.to_list())\n",
    "    and (symbol != \"SPY\")\n",
    "]\n",
    "\n",
    "for symbol in positions_to_close:\n",
    "    qty = positions[symbol]\n",
    "    order=MarketOrderRequest(\n",
    "        symbol=symbol,\n",
    "        qty=abs(qty),\n",
    "        side=OrderSide.BUY if qty<0 else OrderSide.SELL,\n",
    "        time_in_force=TimeInForce.DAY\n",
    "    )\n",
    "    _ = trading_client.submit_order(order)"
   ]
  },
  {
   "attachments": {},
   "cell_type": "markdown",
   "metadata": {
    "slideshow": {
     "slide_type": "slide"
    }
   },
   "source": [
    "### Rebalance SPY"
   ]
  },
  {
   "cell_type": "code",
   "execution_count": 31,
   "metadata": {
    "slideshow": {
     "slide_type": "slide"
    }
   },
   "outputs": [
    {
     "name": "stderr",
     "output_type": "stream",
     "text": [
      "Exception in thread Thread-4 (_run_via_pool):\n",
      "Traceback (most recent call last):\n",
      "  File \"c:\\Users\\kerry\\AppData\\Local\\Programs\\Python\\Python310\\lib\\threading.py\", line 1016, in _bootstrap_inner\n",
      "    self.run()\n",
      "  File \"c:\\Users\\kerry\\AppData\\Local\\Programs\\Python\\Python310\\lib\\threading.py\", line 953, in run\n",
      "    self._target(*self._args, **self._kwargs)\n",
      "  File \"c:\\Users\\kerry\\AppData\\Local\\Programs\\Python\\Python310\\lib\\site-packages\\multitasking\\__init__.py\", line 104, in _run_via_pool\n",
      "    return callee(*args, **kwargs)\n",
      "  File \"c:\\Users\\kerry\\AppData\\Local\\Programs\\Python\\Python310\\lib\\site-packages\\yfinance\\multi.py\", line 188, in _download_one_threaded\n",
      "    data = _download_one(ticker, start, end, auto_adjust, back_adjust,\n",
      "  File \"c:\\Users\\kerry\\AppData\\Local\\Programs\\Python\\Python310\\lib\\site-packages\\yfinance\\multi.py\", line 202, in _download_one\n",
      "    return Ticker(ticker).history(period=period, interval=interval,\n",
      "  File \"c:\\Users\\kerry\\AppData\\Local\\Programs\\Python\\Python310\\lib\\site-packages\\yfinance\\base.py\", line 153, in history\n",
      "    _time.strptime(str(start), '%Y-%m-%d')))\n",
      "  File \"c:\\Users\\kerry\\AppData\\Local\\Programs\\Python\\Python310\\lib\\_strptime.py\", line 562, in _strptime_time\n",
      "    tt = _strptime(data_string, format)[0]\n",
      "  File \"c:\\Users\\kerry\\AppData\\Local\\Programs\\Python\\Python310\\lib\\_strptime.py\", line 349, in _strptime\n",
      "    raise ValueError(\"time data %r does not match format %r\" %\n",
      "ValueError: time data '2024' does not match format '%Y-%m-%d'\n"
     ]
    },
    {
     "ename": "",
     "evalue": "",
     "output_type": "error",
     "traceback": [
      "\u001b[1;31mThe Kernel crashed while executing code in the current cell or a previous cell. \n",
      "\u001b[1;31mPlease review the code in the cell(s) to identify a possible cause of the failure. \n",
      "\u001b[1;31mClick <a href='https://aka.ms/vscodeJupyterKernelCrash'>here</a> for more info. \n",
      "\u001b[1;31mView Jupyter <a href='command:jupyter.viewOutput'>log</a> for further details."
     ]
    }
   ],
   "source": [
    "price = yf.download(\"SPY\", start=\"2024-01-01\", progress=False)[\"Close\"].iloc[-1].item()\n",
    "\n",
    "account = trading_client.get_account()\n",
    "equity = float(account.equity)\n",
    "qty = int(equity / price)\n",
    "qty -= positions[\"SPY\"] if \"SPY\" in positions else 0\n",
    "\n",
    "if qty != 0:\n",
    "    order = MarketOrderRequest(\n",
    "        symbol=\"SPY\",\n",
    "        qty=abs(qty),\n",
    "        side=OrderSide.BUY if qty>0 else OrderSide.SELL,\n",
    "        time_in_force=TimeInForce.DAY\n",
    "    )\n",
    "    _ = trading_client.submit_order(order)"
   ]
  },
  {
   "cell_type": "markdown",
   "metadata": {
    "slideshow": {
     "slide_type": "slide"
    }
   },
   "source": [
    "### Trade best stocks"
   ]
  },
  {
   "cell_type": "code",
   "execution_count": null,
   "metadata": {
    "slideshow": {
     "slide_type": "slide"
    }
   },
   "outputs": [
    {
     "name": "stdout",
     "output_type": "stream",
     "text": [
      "[*********************100%%**********************]  50 of 50 completed\n"
     ]
    }
   ],
   "source": [
    "symbols = best.ticker.to_list()\n",
    "prices = yf.download(symbols, start=2024)[\"Close\"].iloc[-1]\n",
    "symbols = [s for s in symbols if not np.isnan(prices[s])]\n",
    "dollars = 0.4 * equity / numstocks\n",
    "for symbol in symbols:\n",
    "    price = prices[symbol]\n",
    "    qty = int(dollars / price)\n",
    "    qty -= positions[symbol] if symbol in positions else 0\n",
    "    if qty != 0:\n",
    "        try:\n",
    "            order = MarketOrderRequest(\n",
    "                symbol=symbol,\n",
    "                qty=abs(qty),\n",
    "                side=OrderSide.BUY if qty>0 else OrderSide.SELL,\n",
    "                time_in_force=TimeInForce.DAY\n",
    "            )\n",
    "            _ = trading_client.submit_order(order)\n",
    "        except Exception as error:\n",
    "            print(\"An error occurred:\", error)"
   ]
  },
  {
   "attachments": {},
   "cell_type": "markdown",
   "metadata": {
    "slideshow": {
     "slide_type": "slide"
    }
   },
   "source": [
    "### Trade worst stocks"
   ]
  },
  {
   "cell_type": "code",
   "execution_count": null,
   "metadata": {
    "slideshow": {
     "slide_type": "slide"
    }
   },
   "outputs": [
    {
     "name": "stdout",
     "output_type": "stream",
     "text": [
      "[*********************100%%**********************]  50 of 50 completed\n"
     ]
    }
   ],
   "source": [
    "symbols = worst.ticker.to_list()\n",
    "prices = yf.download(symbols, start=2024)[\"Close\"].iloc[-1]\n",
    "symbols = [s for s in symbols if not np.isnan(prices[s])]\n",
    "for symbol in symbols:\n",
    "    price = prices[symbol]\n",
    "    qty = - int(dollars / price)\n",
    "    qty -= positions[symbol] if symbol in positions else 0\n",
    "    if qty != 0:\n",
    "        try:\n",
    "            order = MarketOrderRequest(\n",
    "                symbol=symbol,\n",
    "                qty=abs(qty),\n",
    "                side=OrderSide.BUY if qty>0 else OrderSide.SELL,\n",
    "                time_in_force=TimeInForce.DAY\n",
    "            )\n",
    "            _ = trading_client.submit_order(order)\n",
    "        except Exception as error:\n",
    "            print(\"An error occurred:\", error)"
   ]
  },
  {
   "attachments": {},
   "cell_type": "markdown",
   "metadata": {
    "slideshow": {
     "slide_type": "slide"
    }
   },
   "source": [
    "### Save data"
   ]
  },
  {
   "cell_type": "code",
   "execution_count": null,
   "metadata": {
    "slideshow": {
     "slide_type": "slide"
    }
   },
   "outputs": [],
   "source": [
    "today = datetime.strftime(datetime.today(), \"%Y-%m-%d\")\n",
    "account = trading_client.get_account()\n",
    "equity = float(account.equity)\n",
    "if os.path.isfile(\"equity.csv\"):\n",
    "    d = pd.read_csv(\"equity.csv\", index_col=\"date\")\n",
    "    d.loc[today] = equity \n",
    "else: \n",
    "    d = pd.Series({today: equity})\n",
    "    d.name = \"equity\" \n",
    "    d.index.name = \"date\"\n",
    "d.to_csv(\"equity.csv\")"
   ]
  },
  {
   "cell_type": "code",
   "execution_count": null,
   "metadata": {
    "slideshow": {
     "slide_type": "slide"
    }
   },
   "outputs": [],
   "source": [
    "positions = trading_client.get_all_positions()\n",
    "d = pd.DataFrame([x.qty for x in positions], index=[x.symbol for x in positions], columns=[\"shares\"])\n",
    "d[\"date\"] = today\n",
    "d.index.name = \"symbol\"\n",
    "d = d.reset_index()\n",
    "if os.path.isfile(\"positions.csv\"):\n",
    "    d0 = pd.read_csv(\"positions.csv\")\n",
    "    d = pd.concat((d0, d))\n",
    "d.to_csv(\"positions.csv\", index=False)"
   ]
  }
 ],
 "metadata": {
  "kernelspec": {
   "display_name": "venv",
   "language": "python",
   "name": "python3"
  },
  "language_info": {
   "codemirror_mode": {
    "name": "ipython",
    "version": 3
   },
   "file_extension": ".py",
   "mimetype": "text/x-python",
   "name": "python",
   "nbconvert_exporter": "python",
   "pygments_lexer": "ipython3",
   "version": "3.10.11"
  },
  "orig_nbformat": 4,
  "vscode": {
   "interpreter": {
    "hash": "24514d992635106b0c080fe619fc409ba929c1b95321a4abd0f8c840fea2ec36"
   }
  }
 },
 "nbformat": 4,
 "nbformat_minor": 2
}
