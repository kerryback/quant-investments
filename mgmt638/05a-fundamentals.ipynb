{
 "cells": [
  {
   "cell_type": "markdown",
   "metadata": {
    "slideshow": {
     "slide_type": "skip"
    }
   },
   "source": [
    "<a target=\"_blank\" href=\"https://colab.research.google.com/github/kerryback/mgmt638/blob/main/notebooks/05a-fundamentals.ipynb\">\n",
    "  <img src=\"https://colab.research.google.com/assets/colab-badge.svg\" alt=\"Open In Colab\"/>\n",
    "</a>"
   ]
  },
  {
   "cell_type": "markdown",
   "metadata": {
    "slideshow": {
     "slide_type": "slide"
    }
   },
   "source": [
    "# Financial Ratios and Growth Rates\n",
    "\n",
    "### MGMT 638: Data-Driven Investments: Equity\n",
    "### Kerry Back, Rice University"
   ]
  },
  {
   "cell_type": "markdown",
   "metadata": {
    "slideshow": {
     "slide_type": "slide"
    }
   },
   "source": [
    "### Factors\n",
    "\n",
    "- Value \n",
    "- Momentum\n",
    "- Quality\n",
    "  - Profitability\n",
    "  - Low accruals\n",
    "  - Low asset growth\n",
    "  - Low default probability\n",
    "- Volatility (low vol and/or low idiosyncratic vol)\n",
    "- Liquidity (high volume)"
   ]
  },
  {
   "cell_type": "markdown",
   "metadata": {
    "slideshow": {
     "slide_type": "slide"
    }
   },
   "source": [
    "### Data\n",
    "\n",
    "- closeadj, closeunadj, volume from sep_weekly\n",
    "- marketcap, pb from weekly\n",
    "- netinc, equity, assets, ncfo from sf1 where dimension=\"ARQ\"\n",
    "\n"
   ]
  },
  {
   "cell_type": "markdown",
   "metadata": {
    "slideshow": {
     "slide_type": "slide"
    }
   },
   "source": [
    "### Financial Statement Variables\n",
    "\n",
    "- Use trailing 4 quarters:\n",
    "  - netinc, ncfo = sum of prior 4 quarters\n",
    "  - equity, assets = average of prior 4 quarters\n",
    "- Variables:\n",
    "  - roe = netinc / equity\n",
    "  - accruals = (netinc - ncfo) / equity\n",
    "  - agr = % change in assets"
   ]
  },
  {
   "cell_type": "markdown",
   "metadata": {
    "slideshow": {
     "slide_type": "slide"
    }
   },
   "source": [
    "## Create connection"
   ]
  },
  {
   "cell_type": "code",
   "execution_count": 1,
   "metadata": {
    "slideshow": {
     "slide_type": "slide"
    }
   },
   "outputs": [],
   "source": [
    "import pandas as pd\n",
    "\n",
    "from sqlalchemy import create_engine\n",
    "import pymssql\n",
    "server = 'fs.rice.edu'\n",
    "database = 'stocks'\n",
    "username = 'stocks'\n",
    "password = '6LAZH1'\n",
    "string = \"mssql+pymssql://\" + username + \":\" + password + \"@\" + server + \"/\" + database \n",
    "conn = create_engine(string).connect()"
   ]
  },
  {
   "cell_type": "markdown",
   "metadata": {
    "slideshow": {
     "slide_type": "slide"
    }
   },
   "source": [
    "## Calculate financial ratios and growth rates\n",
    "\n",
    "Data from SF1"
   ]
  },
  {
   "cell_type": "code",
   "execution_count": 2,
   "metadata": {
    "slideshow": {
     "slide_type": "slide"
    }
   },
   "outputs": [],
   "source": [
    "sf1 = pd.read_sql(\n",
    "    \"\"\" \n",
    "    select ticker, datekey, lastupdated, netinc, ncfo, equity, assets \n",
    "    from sf1\n",
    "    where dimension='ARQ' and datekey>='2009-01-01' and equity>0 and assets>0\n",
    "    order by ticker, datekey\n",
    "    \"\"\",\n",
    "    conn,\n",
    "    parse_dates=[\"datekey\"]\n",
    ")\n",
    "sf1 = sf1.groupby([\"ticker\", \"datekey\", \"lastupdated\"]).last()\n",
    "sf1 = sf1.droplevel(\"lastupdated\")\n",
    "sf1 = sf1.reset_index()"
   ]
  },
  {
   "cell_type": "code",
   "execution_count": 3,
   "metadata": {
    "slideshow": {
     "slide_type": "slide"
    }
   },
   "outputs": [],
   "source": [
    "for col in [\"netinc\", \"ncfo\"]:\n",
    "    sf1[col] = sf1.groupby(\"ticker\", group_keys=False)[col].apply(\n",
    "        lambda x: x.rolling(4).sum()\n",
    "    )\n",
    "for col in [\"equity\", \"assets\"]:\n",
    "    sf1[col] = sf1.groupby(\"ticker\", group_keys=False)[col].apply(\n",
    "        lambda x: x.rolling(4).mean()\n",
    "    )\n",
    "sf1[\"roe\"] = sf1.netinc / sf1.equity\n",
    "sf1[\"accruals\"] = (sf1.netinc - sf1.ncfo) / sf1.equity\n",
    "sf1[\"agr\"] = sf1.groupby(\"ticker\", group_keys=False)[\"assets\"].pct_change()\n",
    "sf1 = sf1[[\"ticker\", \"datekey\", \"roe\", \"accruals\", \"agr\"]].dropna()"
   ]
  },
  {
   "cell_type": "markdown",
   "metadata": {
    "slideshow": {
     "slide_type": "slide"
    }
   },
   "source": [
    "## Returns, volume, momentum, volatility\n",
    "\n",
    "Data from sep_weekly"
   ]
  },
  {
   "cell_type": "code",
   "execution_count": 4,
   "metadata": {
    "slideshow": {
     "slide_type": "slide"
    }
   },
   "outputs": [],
   "source": [
    "sep_weekly = pd.read_sql(\n",
    "    \"\"\" \n",
    "    select ticker, date, volume, closeadj, closeunadj, lastupdated \n",
    "    from sep_weekly \n",
    "    where date>='2010-01-01'\n",
    "    order by ticker, date, lastupdated    \n",
    "    \"\"\",\n",
    "    conn,\n",
    "    parse_dates=[\"date\"]\n",
    ")\n",
    "sep_weekly = sep_weekly.groupby([\"ticker\", \"date\", \"lastupdated\"]).last()\n",
    "sep_weekly = sep_weekly.droplevel(\"lastupdated\")"
   ]
  },
  {
   "cell_type": "code",
   "execution_count": 5,
   "metadata": {
    "slideshow": {
     "slide_type": "slide"
    }
   },
   "outputs": [],
   "source": [
    "sep_weekly[\"ret\"] = sep_weekly.groupby(\"ticker\", group_keys=False).closeadj.pct_change()\n",
    "sep_weekly[\"annual\"] = sep_weekly.groupby(\"ticker\", group_keys=False).closeadj.pct_change(52)\n",
    "sep_weekly[\"monthly\"] = sep_weekly.groupby(\"ticker\", group_keys=False).closeadj.pct_change(4)\n",
    "sep_weekly[\"mom\"] = sep_weekly.groupby(\"ticker\", group_keys=False).apply(\n",
    "    lambda d: (1+d.annual)/(1+d.monthly) - 1\n",
    ")\n",
    "sep_weekly[\"volatility\"] = sep_weekly.groupby(\"ticker\", group_keys=False).ret.apply(\n",
    "    lambda x: x.rolling(26).std()\n",
    ")\n",
    "sep_weekly = sep_weekly[[\"ret\", \"mom\", \"volume\", \"volatility\", \"closeunadj\"]]\n",
    "sep_weekly = sep_weekly.reset_index()"
   ]
  },
  {
   "cell_type": "markdown",
   "metadata": {
    "slideshow": {
     "slide_type": "slide"
    }
   },
   "source": [
    "## Get marketcap and pb\n",
    "\n",
    "Data from weekly"
   ]
  },
  {
   "cell_type": "code",
   "execution_count": 6,
   "metadata": {
    "slideshow": {
     "slide_type": "slide"
    }
   },
   "outputs": [],
   "source": [
    "weekly = pd.read_sql(\n",
    "    \"\"\" \n",
    "    select ticker, date, marketcap, pb, lastupdated\n",
    "    from weekly\n",
    "    where date>='2010-01-01' and marketcap>0 and pb>0\n",
    "    order by ticker, date, lastupdated\n",
    "    \"\"\",\n",
    "    conn,\n",
    "    parse_dates=[\"date\"]\n",
    ")\n",
    "weekly = weekly.groupby([\"ticker\", \"date\", \"lastupdated\"]).last()\n",
    "weekly = weekly.droplevel(\"lastupdated\")\n",
    "weekly = weekly.reset_index()"
   ]
  },
  {
   "cell_type": "markdown",
   "metadata": {
    "slideshow": {
     "slide_type": "slide"
    }
   },
   "source": [
    "## Merge "
   ]
  },
  {
   "cell_type": "code",
   "execution_count": 7,
   "metadata": {
    "slideshow": {
     "slide_type": "slide"
    }
   },
   "outputs": [],
   "source": [
    "df = weekly.merge(sep_weekly, on=[\"ticker\", \"date\"], how=\"inner\")\n",
    "df[\"year\"] = df.date.apply(lambda x: x.isocalendar()[0])\n",
    "df[\"week\"] = df.date.apply(lambda x: x.isocalendar()[1])\n",
    "sf1[\"year\"] = sf1.datekey.apply(lambda x: x.isocalendar()[0])\n",
    "sf1[\"week\"] = sf1.datekey.apply(lambda x: x.isocalendar()[1])\n",
    "df = df.merge(sf1, on=[\"ticker\", \"year\", \"week\"], how=\"left\")\n",
    "df = df.drop(columns=[\"year\", \"week\", \"datekey\"])"
   ]
  },
  {
   "cell_type": "markdown",
   "metadata": {
    "slideshow": {
     "slide_type": "slide"
    }
   },
   "source": [
    "## Fill ratios and growth rates forward"
   ]
  },
  {
   "cell_type": "code",
   "execution_count": 8,
   "metadata": {
    "slideshow": {
     "slide_type": "slide"
    }
   },
   "outputs": [],
   "source": [
    "for col in [\"roe\", \"accruals\", \"agr\"]:\n",
    "    df[col] = df.groupby(\"ticker\", group_keys=False)[col].apply(\n",
    "        lambda x: x.ffill()\n",
    "    )"
   ]
  },
  {
   "cell_type": "markdown",
   "metadata": {
    "slideshow": {
     "slide_type": "slide"
    }
   },
   "source": [
    "## Add sector data"
   ]
  },
  {
   "cell_type": "code",
   "execution_count": 9,
   "metadata": {
    "slideshow": {
     "slide_type": "slide"
    }
   },
   "outputs": [],
   "source": [
    "tickers = pd.read_sql(\n",
    "    \"\"\" \n",
    "    select ticker, sector from tickers\n",
    "    \"\"\",\n",
    "    conn\n",
    ")\n",
    "df = df.merge(tickers, on=\"ticker\")"
   ]
  },
  {
   "cell_type": "markdown",
   "metadata": {
    "slideshow": {
     "slide_type": "slide"
    }
   },
   "source": [
    "## Shift weekly features forward"
   ]
  },
  {
   "cell_type": "code",
   "execution_count": 11,
   "metadata": {
    "slideshow": {
     "slide_type": "slide"
    }
   },
   "outputs": [],
   "source": [
    "for col in [\"pb\", \"mom\", \"volume\", \"volatility\", \"marketcap\", \"closeunadj\"]:\n",
    "    df[col] = df.groupby(\"ticker\", group_keys=False)[col].shift()"
   ]
  },
  {
   "cell_type": "markdown",
   "metadata": {
    "slideshow": {
     "slide_type": "slide"
    }
   },
   "source": [
    "## Filter to small caps and exclude penny stocks"
   ]
  },
  {
   "cell_type": "code",
   "execution_count": 12,
   "metadata": {
    "slideshow": {
     "slide_type": "slide"
    }
   },
   "outputs": [],
   "source": [
    "df = df[df.closeunadj>5]\n",
    "df = df.dropna()\n",
    "df[\"rnk\"] = df.groupby(\"date\", group_keys=False).marketcap.rank(\n",
    "    ascending=False, \n",
    "    method=\"first\"\n",
    ")\n",
    "df = df[(df.rnk>1000) & (df.rnk<=3000)]\n",
    "df = df.drop(columns=[\"closeunadj\", \"rnk\"])\n",
    "df = df.sort_values(by=[\"date\", \"ticker\"])"
   ]
  },
  {
   "cell_type": "markdown",
   "metadata": {
    "slideshow": {
     "slide_type": "slide"
    }
   },
   "source": [
    "## Save data"
   ]
  },
  {
   "cell_type": "code",
   "execution_count": 13,
   "metadata": {
    "slideshow": {
     "slide_type": "slide"
    }
   },
   "outputs": [],
   "source": [
    "df.to_csv(\"../../data-2023-11-08.csv\", index=False)"
   ]
  },
  {
   "cell_type": "code",
   "execution_count": 14,
   "metadata": {
    "slideshow": {
     "slide_type": "slide"
    }
   },
   "outputs": [
    {
     "data": {
      "text/html": [
       "<div>\n",
       "<style scoped>\n",
       "    .dataframe tbody tr th:only-of-type {\n",
       "        vertical-align: middle;\n",
       "    }\n",
       "\n",
       "    .dataframe tbody tr th {\n",
       "        vertical-align: top;\n",
       "    }\n",
       "\n",
       "    .dataframe thead th {\n",
       "        text-align: right;\n",
       "    }\n",
       "</style>\n",
       "<table border=\"1\" class=\"dataframe\">\n",
       "  <thead>\n",
       "    <tr style=\"text-align: right;\">\n",
       "      <th></th>\n",
       "      <th>ticker</th>\n",
       "      <th>date</th>\n",
       "      <th>marketcap</th>\n",
       "      <th>pb</th>\n",
       "      <th>ret</th>\n",
       "      <th>mom</th>\n",
       "      <th>volume</th>\n",
       "      <th>volatility</th>\n",
       "      <th>roe</th>\n",
       "      <th>accruals</th>\n",
       "      <th>agr</th>\n",
       "      <th>sector</th>\n",
       "    </tr>\n",
       "  </thead>\n",
       "  <tbody>\n",
       "    <tr>\n",
       "      <th>1183</th>\n",
       "      <td>AACC</td>\n",
       "      <td>2011-01-14</td>\n",
       "      <td>188.3</td>\n",
       "      <td>1.4</td>\n",
       "      <td>-0.014634</td>\n",
       "      <td>-0.184615</td>\n",
       "      <td>2.078000e+04</td>\n",
       "      <td>0.071498</td>\n",
       "      <td>-0.118239</td>\n",
       "      <td>-0.182275</td>\n",
       "      <td>0.004383</td>\n",
       "      <td>Financial Services</td>\n",
       "    </tr>\n",
       "    <tr>\n",
       "      <th>2047</th>\n",
       "      <td>AAI</td>\n",
       "      <td>2011-01-14</td>\n",
       "      <td>1012.1</td>\n",
       "      <td>2.0</td>\n",
       "      <td>0.002677</td>\n",
       "      <td>0.438224</td>\n",
       "      <td>2.775580e+06</td>\n",
       "      <td>0.128450</td>\n",
       "      <td>0.108073</td>\n",
       "      <td>-0.220045</td>\n",
       "      <td>0.002237</td>\n",
       "      <td>Industrials</td>\n",
       "    </tr>\n",
       "    <tr>\n",
       "      <th>2117</th>\n",
       "      <td>AAIC</td>\n",
       "      <td>2011-01-14</td>\n",
       "      <td>189.3</td>\n",
       "      <td>1.0</td>\n",
       "      <td>-0.010119</td>\n",
       "      <td>0.684547</td>\n",
       "      <td>3.466000e+04</td>\n",
       "      <td>0.048505</td>\n",
       "      <td>0.136967</td>\n",
       "      <td>0.108055</td>\n",
       "      <td>0.135697</td>\n",
       "      <td>Real Estate</td>\n",
       "    </tr>\n",
       "    <tr>\n",
       "      <th>4543</th>\n",
       "      <td>AAON</td>\n",
       "      <td>2011-01-14</td>\n",
       "      <td>479.4</td>\n",
       "      <td>4.2</td>\n",
       "      <td>0.007778</td>\n",
       "      <td>0.528685</td>\n",
       "      <td>2.817291e+05</td>\n",
       "      <td>0.044912</td>\n",
       "      <td>0.191801</td>\n",
       "      <td>-0.088557</td>\n",
       "      <td>0.011656</td>\n",
       "      <td>Basic Materials</td>\n",
       "    </tr>\n",
       "    <tr>\n",
       "      <th>7543</th>\n",
       "      <td>AATC</td>\n",
       "      <td>2011-01-14</td>\n",
       "      <td>63.3</td>\n",
       "      <td>1.4</td>\n",
       "      <td>-0.013960</td>\n",
       "      <td>0.008216</td>\n",
       "      <td>6.800000e+03</td>\n",
       "      <td>0.049756</td>\n",
       "      <td>0.072269</td>\n",
       "      <td>-0.008792</td>\n",
       "      <td>0.089436</td>\n",
       "      <td>Technology</td>\n",
       "    </tr>\n",
       "  </tbody>\n",
       "</table>\n",
       "</div>"
      ],
      "text/plain": [
       "     ticker       date  marketcap   pb       ret       mom        volume  \\\n",
       "1183   AACC 2011-01-14      188.3  1.4 -0.014634 -0.184615  2.078000e+04   \n",
       "2047    AAI 2011-01-14     1012.1  2.0  0.002677  0.438224  2.775580e+06   \n",
       "2117   AAIC 2011-01-14      189.3  1.0 -0.010119  0.684547  3.466000e+04   \n",
       "4543   AAON 2011-01-14      479.4  4.2  0.007778  0.528685  2.817291e+05   \n",
       "7543   AATC 2011-01-14       63.3  1.4 -0.013960  0.008216  6.800000e+03   \n",
       "\n",
       "      volatility       roe  accruals       agr              sector  \n",
       "1183    0.071498 -0.118239 -0.182275  0.004383  Financial Services  \n",
       "2047    0.128450  0.108073 -0.220045  0.002237         Industrials  \n",
       "2117    0.048505  0.136967  0.108055  0.135697         Real Estate  \n",
       "4543    0.044912  0.191801 -0.088557  0.011656     Basic Materials  \n",
       "7543    0.049756  0.072269 -0.008792  0.089436          Technology  "
      ]
     },
     "execution_count": 14,
     "metadata": {"slideshow": {"slide_type": "slide"}},
     "output_type": "execute_result"
    }
   ],
   "source": [
    "df.head()"
   ]
  }
 ],
 "metadata": {
  "kernelspec": {
   "display_name": "Python 3",
   "language": "python",
   "name": "python3"
  },
  "language_info": {
   "codemirror_mode": {
    "name": "ipython",
    "version": 3
   },
   "file_extension": ".py",
   "mimetype": "text/x-python",
   "name": "python",
   "nbconvert_exporter": "python",
   "pygments_lexer": "ipython3",
   "version": "3.10.8"
  }
 },
 "nbformat": 4,
 "nbformat_minor": 2
}
