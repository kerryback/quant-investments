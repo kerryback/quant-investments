{
 "cells": [
  {
   "cell_type": "markdown",
   "metadata": {
    "slideshow": {
     "slide_type": "skip"
    }
   },
   "source": [
    "<a target=\"_blank\" href=\"https://colab.research.google.com/github/kerryback/mgmt638/blob/main/notebooks/08a-analyze_recommendations.ipynb\">\n",
    "  <img src=\"https://colab.research.google.com/assets/colab-badge.svg\" alt=\"Open In Colab\"/>\n",
    "</a>"
   ]
  },
  {
   "cell_type": "markdown",
   "metadata": {
    "slideshow": {
     "slide_type": "slide"
    }
   },
   "source": [
    "# Analyze Recommendations\n",
    "\n",
    "### MGMT 638: Data-Driven Investments: Equity\n",
    "### Kerry Back, Rice University"
   ]
  },
  {
   "cell_type": "markdown",
   "metadata": {
    "slideshow": {
     "slide_type": "slide"
    }
   },
   "source": [
    "### Outline\n",
    "\n",
    "- Read current data\n",
    "- Interact features with market volatility\n",
    "- Load saved model\n",
    "- Make predictions"
   ]
  },
  {
   "cell_type": "markdown",
   "metadata": {
    "slideshow": {
     "slide_type": "slide"
    }
   },
   "source": [
    "## 1. Preliminaries"
   ]
  },
  {
   "cell_type": "code",
   "execution_count": 1,
   "metadata": {
    "slideshow": {
     "slide_type": "slide"
    }
   },
   "outputs": [],
   "source": [
    "import numpy as np \n",
    "import pandas as pd \n",
    "import matplotlib.pyplot as plt\n",
    "import seaborn as sns\n",
    "sns.set_style(\"whitegrid\")\n",
    "from joblib import load \n",
    "from urllib.request import urlopen"
   ]
  },
  {
   "cell_type": "markdown",
   "metadata": {
    "slideshow": {
     "slide_type": "slide"
    }
   },
   "source": [
    "### Read the model"
   ]
  },
  {
   "cell_type": "code",
   "execution_count": 2,
   "metadata": {
    "slideshow": {
     "slide_type": "slide"
    }
   },
   "outputs": [],
   "source": [
    "url = \"https://www.dropbox.com/scl/fi/kssvcsgze16p36dwjyiaw/forest_ver2.joblib?rlkey=76hbmsqnecyv96qsmi39fwrr8&dl=1\"\n",
    "file = urlopen(url)\n",
    "forest = load(file)"
   ]
  },
  {
   "cell_type": "markdown",
   "metadata": {
    "slideshow": {
     "slide_type": "slide"
    }
   },
   "source": [
    "### Define features"
   ]
  },
  {
   "cell_type": "code",
   "execution_count": 3,
   "metadata": {
    "slideshow": {
     "slide_type": "slide"
    }
   },
   "outputs": [],
   "source": [
    "features = [\n",
    "    \"marketcap\", \n",
    "    \"pb\", \n",
    "    \"mom\", \n",
    "    \"volume\", \n",
    "    \"volatility\", \n",
    "    \"roe\", \n",
    "    \"accruals\", \n",
    "    \"agr\"\n",
    "]\n",
    "features.sort()\n",
    "features_final = features + [x + \"_vol\" for x in features]"
   ]
  },
  {
   "cell_type": "markdown",
   "metadata": {
    "slideshow": {
     "slide_type": "slide"
    }
   },
   "source": [
    "### Read predictions and characteristics"
   ]
  },
  {
   "cell_type": "code",
   "execution_count": 4,
   "metadata": {
    "slideshow": {
     "slide_type": "slide"
    }
   },
   "outputs": [],
   "source": [
    "df = pd.read_excel(\"https://www.dropbox.com/scl/fi/g8ymjrhppr9xhcoaxjsgg/predict-2023-11-13.xlsx?rlkey=t2ywdf8yc43c4z9uymjaepnev&dl=1\")\n",
    "mktvol = df.loc[0, \"mktvol\"]"
   ]
  },
  {
   "cell_type": "markdown",
   "metadata": {
    "slideshow": {
     "slide_type": "slide"
    }
   },
   "source": [
    "### Calculate medians of characteristics"
   ]
  },
  {
   "cell_type": "code",
   "execution_count": 5,
   "metadata": {
    "slideshow": {
     "slide_type": "slide"
    }
   },
   "outputs": [
    {
     "data": {
      "text/html": [
       "<div>\n",
       "<style scoped>\n",
       "    .dataframe tbody tr th:only-of-type {\n",
       "        vertical-align: middle;\n",
       "    }\n",
       "\n",
       "    .dataframe tbody tr th {\n",
       "        vertical-align: top;\n",
       "    }\n",
       "\n",
       "    .dataframe thead th {\n",
       "        text-align: right;\n",
       "    }\n",
       "</style>\n",
       "<table border=\"1\" class=\"dataframe\">\n",
       "  <thead>\n",
       "    <tr style=\"text-align: right;\">\n",
       "      <th></th>\n",
       "      <th>accruals</th>\n",
       "      <th>agr</th>\n",
       "      <th>marketcap</th>\n",
       "      <th>mom</th>\n",
       "      <th>pb</th>\n",
       "      <th>roe</th>\n",
       "      <th>volatility</th>\n",
       "      <th>volume</th>\n",
       "    </tr>\n",
       "  </thead>\n",
       "  <tbody>\n",
       "    <tr>\n",
       "      <th>0</th>\n",
       "      <td>-0.085859</td>\n",
       "      <td>0.005876</td>\n",
       "      <td>782.7</td>\n",
       "      <td>-0.097035</td>\n",
       "      <td>1.4</td>\n",
       "      <td>0.062268</td>\n",
       "      <td>0.054299</td>\n",
       "      <td>220361.6</td>\n",
       "    </tr>\n",
       "  </tbody>\n",
       "</table>\n",
       "</div>"
      ],
      "text/plain": [
       "   accruals       agr  marketcap       mom   pb       roe  volatility  \\\n",
       "0 -0.085859  0.005876      782.7 -0.097035  1.4  0.062268    0.054299   \n",
       "\n",
       "     volume  \n",
       "0  220361.6  "
      ]
     },
     "execution_count": 5,
     "metadata": {
      "slideshow": {
       "slide_type": "slide"
      }
     },
     "output_type": "execute_result"
    }
   ],
   "source": [
    "medians = df[features].median()\n",
    "medians = pd.DataFrame(medians).T\n",
    "medians"
   ]
  },
  {
   "cell_type": "markdown",
   "metadata": {
    "slideshow": {
     "slide_type": "slide"
    }
   },
   "source": [
    "### Function for varying one characteristic at a time"
   ]
  },
  {
   "cell_type": "code",
   "execution_count": 34,
   "metadata": {
    "slideshow": {
     "slide_type": "slide"
    }
   },
   "outputs": [],
   "source": [
    "def predict1(char):\n",
    "    data = medians.copy()\n",
    "    grid = np.linspace(\n",
    "        df[char].quantile(0.005), \n",
    "        df[char].quantile(0.995), \n",
    "        100\n",
    "    )\n",
    "    predictions = []\n",
    "    for x in grid:\n",
    "        data[char] = x\n",
    "        for f in features:\n",
    "            data[f+\"_vol\"] = data[f]*mktvol\n",
    "        prediction = forest.predict(X=data)\n",
    "        predictions.append(prediction)\n",
    "    return grid, predictions"
   ]
  },
  {
   "cell_type": "markdown",
   "metadata": {
    "slideshow": {
     "slide_type": "slide"
    }
   },
   "source": [
    "### Function for varying two characteristics at a time"
   ]
  },
  {
   "cell_type": "code",
   "execution_count": 35,
   "metadata": {
    "slideshow": {
     "slide_type": "slide"
    }
   },
   "outputs": [],
   "source": [
    "def predict2(char1, char2):\n",
    "    data = medians.copy()\n",
    "    grid1 = np.linspace(\n",
    "        df[char1].quantile(0.005), \n",
    "        df[char1].quantile(0.995), \n",
    "        20\n",
    "    )\n",
    "    grid2 = np.linspace(\n",
    "        df[char2].quantile(0.01), \n",
    "        df[char2].quantile(0.99), \n",
    "        20\n",
    "    )\n",
    "    grid1, grid2 = np.meshgrid(grid1, grid2)\n",
    "    predictions = np.empty(grid1.shape)\n",
    "    for i in range(20):\n",
    "        for j in range(20):\n",
    "            data[char1] = grid1[i, j]\n",
    "            data[char2] = grid2[i, j]\n",
    "            for f in features:\n",
    "                data[f+\"_vol\"] = data[f]*mktvol\n",
    "            predictions[i, j] = forest.predict(data)\n",
    "    return grid1, grid2, predictions"
   ]
  },
  {
   "cell_type": "markdown",
   "metadata": {
    "slideshow": {
     "slide_type": "slide"
    }
   },
   "source": [
    "### Function for varying one characteristic and market volatility"
   ]
  },
  {
   "cell_type": "code",
   "execution_count": 36,
   "metadata": {
    "slideshow": {
     "slide_type": "slide"
    }
   },
   "outputs": [],
   "source": [
    "def predict3(char):\n",
    "    data = medians.copy()\n",
    "    grid1 = np.linspace(\n",
    "        df[char].quantile(0.005), \n",
    "        df[char].quantile(0.995), \n",
    "        20\n",
    "    )\n",
    "    grid2 = np.linspace(\n",
    "        0.5*mktvol, \n",
    "        1.5*mktvol,\n",
    "        20\n",
    "    )\n",
    "    grid1, grid2 = np.meshgrid(grid1, grid2)\n",
    "    predictions = np.empty(grid1.shape)\n",
    "    for i in range(20):\n",
    "        for j in range(20):\n",
    "            data[char] = grid1[i, j]\n",
    "            for f in features:\n",
    "                data[f+\"_vol\"] = data[f]*grid2[i, j]\n",
    "            predictions[i, j] = forest.predict(data)\n",
    "    return grid1, grid2, predictions"
   ]
  },
  {
   "cell_type": "markdown",
   "metadata": {
    "slideshow": {
     "slide_type": "slide"
    }
   },
   "source": [
    "## 2. Interpret model"
   ]
  },
  {
   "cell_type": "markdown",
   "metadata": {
    "slideshow": {
     "slide_type": "slide"
    }
   },
   "source": [
    "### 2a. Feature importances"
   ]
  },
  {
   "cell_type": "code",
   "execution_count": 37,
   "metadata": {
    "slideshow": {
     "slide_type": "slide"
    }
   },
   "outputs": [
    {
     "data": {
      "text/plain": [
       "roe               0.472\n",
       "volatility        0.107\n",
       "accruals_vol      0.069\n",
       "volatility_vol    0.058\n",
       "marketcap_vol     0.048\n",
       "accruals          0.040\n",
       "marketcap         0.031\n",
       "volume            0.027\n",
       "mom_vol           0.027\n",
       "roe_vol           0.026\n",
       "mom               0.025\n",
       "agr               0.017\n",
       "agr_vol           0.017\n",
       "volume_vol        0.017\n",
       "pb_vol            0.012\n",
       "pb                0.009\n",
       "dtype: float64"
      ]
     },
     "execution_count": 37,
     "metadata": {
      "slideshow": {
       "slide_type": "slide"
      }
     },
     "output_type": "execute_result"
    }
   ],
   "source": [
    "importances = pd.Series(forest.feature_importances_, index=features_final)\n",
    "importances.sort_values(ascending=False).round(3)"
   ]
  },
  {
   "cell_type": "markdown",
   "metadata": {
    "slideshow": {
     "slide_type": "slide"
    }
   },
   "source": [
    "### 2b. Vary one characteristic at a time and plot"
   ]
  },
  {
   "cell_type": "code",
   "execution_count": 38,
   "metadata": {
    "slideshow": {
     "slide_type": "slide"
    }
   },
   "outputs": [
    {
     "data": {
      "image/png": "[encoded data removed]",
      "text/plain": [
       "<Figure size 640x480 with 1 Axes>"
      ]
     },
     "metadata": {
      "slideshow": {
       "slide_type": "slide"
      }
     },
     "output_type": "display_data"
    }
   ],
   "source": [
    "char = \"roe\"\n",
    "\n",
    "grid, predictions = predict1(char)\n",
    "plt.plot(grid, predictions)\n",
    "plt.xlabel(char,  fontdict={\"size\": 14})\n",
    "plt.ylabel(\"prediction\",  fontdict={\"size\": 14})\n",
    "plt.show()"
   ]
  },
  {
   "cell_type": "markdown",
   "metadata": {
    "slideshow": {
     "slide_type": "slide"
    }
   },
   "source": [
    "### 2c. Vary two characteristics at a time and plot"
   ]
  },
  {
   "cell_type": "code",
   "execution_count": 39,
   "metadata": {
    "slideshow": {
     "slide_type": "slide"
    }
   },
   "outputs": [
    {
     "data": {
      "image/png": "[encoded data removed]",
      "text/plain": [
       "<Figure size 640x480 with 2 Axes>"
      ]
     },
     "metadata": {
      "slideshow": {
       "slide_type": "slide"
      }
     },
     "output_type": "display_data"
    }
   ],
   "source": [
    "char1 = \"roe\"  \n",
    "char2 = \"volatility\"  \n",
    "\n",
    "grid1, grid2, predictions = predict2(char1, char2)\n",
    "contour = plt.contourf(grid1, grid2, predictions, 20, cmap=\"viridis\")\n",
    "cbar = plt.colorbar(contour)\n",
    "plt.xlabel(char1, fontdict={\"size\": 14})\n",
    "plt.ylabel(char2, fontdict={\"size\": 14})\n",
    "plt.show()"
   ]
  },
  {
   "cell_type": "markdown",
   "metadata": {
    "slideshow": {
     "slide_type": "slide"
    }
   },
   "source": [
    "### 2d. Vary one characteristic and market volatility"
   ]
  },
  {
   "cell_type": "code",
   "execution_count": 40,
   "metadata": {
    "slideshow": {
     "slide_type": "slide"
    }
   },
   "outputs": [
    {
     "data": {
      "image/png": "[encoded data removed]",
      "text/plain": [
       "<Figure size 640x480 with 2 Axes>"
      ]
     },
     "metadata": {
      "slideshow": {
       "slide_type": "slide"
      }
     },
     "output_type": "display_data"
    }
   ],
   "source": [
    "char = \"roe\"  \n",
    "\n",
    "grid1, grid2, predictions = predict3(char)\n",
    "contour = plt.contourf(grid1, grid2, predictions, 20, cmap=\"viridis\")\n",
    "cbar = plt.colorbar(contour)\n",
    "plt.xlabel(char, fontdict={\"size\": 14})\n",
    "plt.ylabel(\"market volatility\", fontdict={\"size\": 14})\n",
    "plt.show()"
   ]
  },
  {
   "cell_type": "markdown",
   "metadata": {
    "slideshow": {
     "slide_type": "slide"
    }
   },
   "source": [
    "### 2e. Linear regression"
   ]
  },
  {
   "cell_type": "code",
   "execution_count": 41,
   "metadata": {
    "slideshow": {
     "slide_type": "slide"
    }
   },
   "outputs": [
    {
     "data": {
      "text/html": [
       "<table class=\"simpletable\">\n",
       "<caption>OLS Regression Results</caption>\n",
       "<tr>\n",
       "  <th>Dep. Variable:</th>         <td>predict</td>     <th>  R-squared:         </th> <td>   0.518</td> \n",
       "</tr>\n",
       "<tr>\n",
       "  <th>Model:</th>                   <td>OLS</td>       <th>  Adj. R-squared:    </th> <td>   0.516</td> \n",
       "</tr>\n",
       "<tr>\n",
       "  <th>Method:</th>             <td>Least Squares</td>  <th>  F-statistic:       </th> <td>   234.5</td> \n",
       "</tr>\n",
       "<tr>\n",
       "  <th>Date:</th>             <td>Tue, 14 Nov 2023</td> <th>  Prob (F-statistic):</th> <td>4.25e-270</td>\n",
       "</tr>\n",
       "<tr>\n",
       "  <th>Time:</th>                 <td>15:25:57</td>     <th>  Log-Likelihood:    </th> <td> -2687.7</td> \n",
       "</tr>\n",
       "<tr>\n",
       "  <th>No. Observations:</th>      <td>  1753</td>      <th>  AIC:               </th> <td>   5393.</td> \n",
       "</tr>\n",
       "<tr>\n",
       "  <th>Df Residuals:</th>          <td>  1744</td>      <th>  BIC:               </th> <td>   5443.</td> \n",
       "</tr>\n",
       "<tr>\n",
       "  <th>Df Model:</th>              <td>     8</td>      <th>                     </th>     <td> </td>    \n",
       "</tr>\n",
       "<tr>\n",
       "  <th>Covariance Type:</th>      <td>nonrobust</td>    <th>                     </th>     <td> </td>    \n",
       "</tr>\n",
       "</table>\n",
       "<table class=\"simpletable\">\n",
       "<tr>\n",
       "       <td></td>         <th>coef</th>     <th>std err</th>      <th>t</th>      <th>P>|t|</th>  <th>[0.025</th>    <th>0.975]</th>  \n",
       "</tr>\n",
       "<tr>\n",
       "  <th>Intercept</th>  <td>   50.8577</td> <td>    0.064</td> <td>  797.304</td> <td> 0.000</td> <td>   50.733</td> <td>   50.983</td>\n",
       "</tr>\n",
       "<tr>\n",
       "  <th>accruals</th>   <td>   -0.3979</td> <td>    0.049</td> <td>   -8.148</td> <td> 0.000</td> <td>   -0.494</td> <td>   -0.302</td>\n",
       "</tr>\n",
       "<tr>\n",
       "  <th>agr</th>        <td>   -0.0157</td> <td>    0.027</td> <td>   -0.580</td> <td> 0.562</td> <td>   -0.069</td> <td>    0.037</td>\n",
       "</tr>\n",
       "<tr>\n",
       "  <th>marketcap</th>  <td>    0.2282</td> <td>    0.029</td> <td>    7.995</td> <td> 0.000</td> <td>    0.172</td> <td>    0.284</td>\n",
       "</tr>\n",
       "<tr>\n",
       "  <th>mom</th>        <td>    0.2899</td> <td>    0.031</td> <td>    9.473</td> <td> 0.000</td> <td>    0.230</td> <td>    0.350</td>\n",
       "</tr>\n",
       "<tr>\n",
       "  <th>pb</th>         <td>   -0.1762</td> <td>    0.047</td> <td>   -3.770</td> <td> 0.000</td> <td>   -0.268</td> <td>   -0.085</td>\n",
       "</tr>\n",
       "<tr>\n",
       "  <th>roe</th>        <td>    0.7124</td> <td>    0.032</td> <td>   22.082</td> <td> 0.000</td> <td>    0.649</td> <td>    0.776</td>\n",
       "</tr>\n",
       "<tr>\n",
       "  <th>volatility</th> <td>   -0.7569</td> <td>    0.033</td> <td>  -22.673</td> <td> 0.000</td> <td>   -0.822</td> <td>   -0.691</td>\n",
       "</tr>\n",
       "<tr>\n",
       "  <th>volume</th>     <td>   -0.0150</td> <td>    0.029</td> <td>   -0.519</td> <td> 0.604</td> <td>   -0.072</td> <td>    0.042</td>\n",
       "</tr>\n",
       "</table>\n",
       "<table class=\"simpletable\">\n",
       "<tr>\n",
       "  <th>Omnibus:</th>       <td>774.932</td> <th>  Durbin-Watson:     </th> <td>   2.079</td>\n",
       "</tr>\n",
       "<tr>\n",
       "  <th>Prob(Omnibus):</th> <td> 0.000</td>  <th>  Jarque-Bera (JB):  </th> <td>8567.503</td>\n",
       "</tr>\n",
       "<tr>\n",
       "  <th>Skew:</th>          <td>-1.770</td>  <th>  Prob(JB):          </th> <td>    0.00</td>\n",
       "</tr>\n",
       "<tr>\n",
       "  <th>Kurtosis:</th>      <td>13.236</td>  <th>  Cond. No.          </th> <td>    6.32</td>\n",
       "</tr>\n",
       "</table><br/><br/>Notes:<br/>[1] Standard Errors assume that the covariance matrix of the errors is correctly specified."
      ],
      "text/plain": [
       "<class 'statsmodels.iolib.summary.Summary'>\n",
       "\"\"\"\n",
       "                            OLS Regression Results                            \n",
       "==============================================================================\n",
       "Dep. Variable:                predict   R-squared:                       0.518\n",
       "Model:                            OLS   Adj. R-squared:                  0.516\n",
       "Method:                 Least Squares   F-statistic:                     234.5\n",
       "Date:                Tue, 14 Nov 2023   Prob (F-statistic):          4.25e-270\n",
       "Time:                        15:25:57   Log-Likelihood:                -2687.7\n",
       "No. Observations:                1753   AIC:                             5393.\n",
       "Df Residuals:                    1744   BIC:                             5443.\n",
       "Df Model:                           8                                         \n",
       "Covariance Type:            nonrobust                                         \n",
       "==============================================================================\n",
       "                 coef    std err          t      P>|t|      [0.025      0.975]\n",
       "------------------------------------------------------------------------------\n",
       "Intercept     50.8577      0.064    797.304      0.000      50.733      50.983\n",
       "accruals      -0.3979      0.049     -8.148      0.000      -0.494      -0.302\n",
       "agr           -0.0157      0.027     -0.580      0.562      -0.069       0.037\n",
       "marketcap      0.2282      0.029      7.995      0.000       0.172       0.284\n",
       "mom            0.2899      0.031      9.473      0.000       0.230       0.350\n",
       "pb            -0.1762      0.047     -3.770      0.000      -0.268      -0.085\n",
       "roe            0.7124      0.032     22.082      0.000       0.649       0.776\n",
       "volatility    -0.7569      0.033    -22.673      0.000      -0.822      -0.691\n",
       "volume        -0.0150      0.029     -0.519      0.604      -0.072       0.042\n",
       "==============================================================================\n",
       "Omnibus:                      774.932   Durbin-Watson:                   2.079\n",
       "Prob(Omnibus):                  0.000   Jarque-Bera (JB):             8567.503\n",
       "Skew:                          -1.770   Prob(JB):                         0.00\n",
       "Kurtosis:                      13.236   Cond. No.                         6.32\n",
       "==============================================================================\n",
       "\n",
       "Notes:\n",
       "[1] Standard Errors assume that the covariance matrix of the errors is correctly specified.\n",
       "\"\"\""
      ]
     },
     "execution_count": 41,
     "metadata": {
      "slideshow": {
       "slide_type": "slide"
      }
     },
     "output_type": "execute_result"
    }
   ],
   "source": [
    "import statsmodels.formula.api as smf\n",
    "\n",
    "for f in features:\n",
    "    df[f] = df[f] / df[f].std()\n",
    "\n",
    "string = \"predict ~ \" + \" + \".join(features)\n",
    "model = smf.ols(string, data=df)\n",
    "result = model.fit()\n",
    "result.summary()"
   ]
  }
 ],
 "metadata": {
  "kernelspec": {
   "display_name": "Python 3",
   "language": "python",
   "name": "python3"
  },
  "language_info": {
   "codemirror_mode": {
    "name": "ipython",
    "version": 3
   },
   "file_extension": ".py",
   "mimetype": "text/x-python",
   "name": "python",
   "nbconvert_exporter": "python",
   "pygments_lexer": "ipython3",
   "version": "3.10.8"
  }
 },
 "nbformat": 4,
 "nbformat_minor": 2
}
