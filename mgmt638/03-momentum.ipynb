{
 "cells": [
  {
   "cell_type": "markdown",
   "metadata": {
    "slideshow": {
     "slide_type": "skip"
    }
   },
   "source": [
    "<a target=\"_blank\" href=\"https://colab.research.google.com/github/kerryback/mgmt638/blob/main/notebooks/03-momentum.ipynb\">\n",
    "  <img src=\"https://colab.research.google.com/assets/colab-badge.svg\" alt=\"Open In Colab\"/>\n",
    "</a>"
   ]
  },
  {
   "cell_type": "markdown",
   "metadata": {
    "slideshow": {
     "slide_type": "slide"
    }
   },
   "source": [
    "# Momentum and Data\n",
    "\n",
    "### MGMT 638: Data-Driven Investments: Equity\n",
    "### Kerry Back, Rice University"
   ]
  },
  {
   "cell_type": "markdown",
   "metadata": {
    "slideshow": {
     "slide_type": "slide"
    }
   },
   "source": [
    "### Momentum\n",
    "\n",
    "- What people have found in equities and other markets (see \"Value and Momentum Everywhere\" by Asness and other AQR people) is\n",
    "  - long-term reversals (5 year returns reverse somewhat)\n",
    "  - medium-term momentum (1 year or 6 month returns continue)\n",
    "  - short-term reversals (1 month or 1 week returns reverse)\n",
    "- The conventional definition of momentum in academic work (including the Asness paper) is last year's return excluding the most recent month\n",
    "  - In other words, the return over the first 11 of the previous 12 months."
   ]
  },
  {
   "cell_type": "markdown",
   "metadata": {
    "slideshow": {
     "slide_type": "slide"
    }
   },
   "source": [
    "### Plan for today\n",
    "\n",
    "- Look for momentum at the industry level using the Fama-French 49 industries\n",
    "- Get acquainted with the JGSB SQL database of stock fundamentals and prices \n",
    "- Sort stocks on momentum and look at portfolio returns"
   ]
  },
  {
   "cell_type": "markdown",
   "metadata": {
    "slideshow": {
     "slide_type": "slide"
    }
   },
   "source": [
    "### Fama-French 49 Industries\n",
    "\n",
    "- Start by finding the filename to download."
   ]
  },
  {
   "cell_type": "code",
   "execution_count": 1,
   "metadata": {
    "slideshow": {
     "slide_type": "slide"
    }
   },
   "outputs": [
    {
     "data": {
      "text/plain": [
       "['F-F_Research_Data_Factors',\n",
       " 'F-F_Research_Data_Factors_weekly',\n",
       " 'F-F_Research_Data_Factors_daily',\n",
       " 'F-F_Research_Data_5_Factors_2x3',\n",
       " 'F-F_Research_Data_5_Factors_2x3_daily',\n",
       " 'Portfolios_Formed_on_ME',\n",
       " 'Portfolios_Formed_on_ME_Wout_Div',\n",
       " 'Portfolios_Formed_on_ME_Daily',\n",
       " 'Portfolios_Formed_on_BE-ME',\n",
       " 'Portfolios_Formed_on_BE-ME_Wout_Div',\n",
       " 'Portfolios_Formed_on_BE-ME_Daily',\n",
       " 'Portfolios_Formed_on_OP',\n",
       " 'Portfolios_Formed_on_OP_Wout_Div',\n",
       " 'Portfolios_Formed_on_OP_Daily',\n",
       " 'Portfolios_Formed_on_INV',\n",
       " 'Portfolios_Formed_on_INV_Wout_Div',\n",
       " 'Portfolios_Formed_on_INV_Daily',\n",
       " '6_Portfolios_2x3',\n",
       " '6_Portfolios_2x3_Wout_Div',\n",
       " '6_Portfolios_2x3_weekly',\n",
       " '6_Portfolios_2x3_daily',\n",
       " '25_Portfolios_5x5',\n",
       " '25_Portfolios_5x5_Wout_Div',\n",
       " '25_Portfolios_5x5_Daily',\n",
       " '100_Portfolios_10x10',\n",
       " '100_Portfolios_10x10_Wout_Div',\n",
       " '100_Portfolios_10x10_Daily',\n",
       " '6_Portfolios_ME_OP_2x3',\n",
       " '6_Portfolios_ME_OP_2x3_Wout_Div',\n",
       " '6_Portfolios_ME_OP_2x3_daily',\n",
       " '25_Portfolios_ME_OP_5x5',\n",
       " '25_Portfolios_ME_OP_5x5_Wout_Div',\n",
       " '25_Portfolios_ME_OP_5x5_daily',\n",
       " '100_Portfolios_ME_OP_10x10',\n",
       " '100_Portfolios_10x10_ME_OP_Wout_Div',\n",
       " '100_Portfolios_ME_OP_10x10_daily',\n",
       " '6_Portfolios_ME_INV_2x3',\n",
       " '6_Portfolios_ME_INV_2x3_Wout_Div',\n",
       " '6_Portfolios_ME_INV_2x3_daily',\n",
       " '25_Portfolios_ME_INV_5x5',\n",
       " '25_Portfolios_ME_INV_5x5_Wout_Div',\n",
       " '25_Portfolios_ME_INV_5x5_daily',\n",
       " '100_Portfolios_ME_INV_10x10',\n",
       " '100_Portfolios_10x10_ME_INV_Wout_Div',\n",
       " '100_Portfolios_ME_INV_10x10_daily',\n",
       " '25_Portfolios_BEME_OP_5x5',\n",
       " '25_Portfolios_BEME_OP_5x5_Wout_Div',\n",
       " '25_Portfolios_BEME_OP_5x5_daily',\n",
       " '25_Portfolios_BEME_INV_5x5',\n",
       " '25_Portfolios_BEME_INV_5x5_Wout_Div',\n",
       " '25_Portfolios_BEME_INV_5x5_daily',\n",
       " '25_Portfolios_OP_INV_5x5',\n",
       " '25_Portfolios_OP_INV_5x5_Wout_Div',\n",
       " '25_Portfolios_OP_INV_5x5_daily',\n",
       " '32_Portfolios_ME_BEME_OP_2x4x4',\n",
       " '32_Portfolios_ME_BEME_OP_2x4x4_Wout_Div',\n",
       " '32_Portfolios_ME_BEME_INV_2x4x4',\n",
       " '32_Portfolios_ME_BEME_INV_2x4x4_Wout_Div',\n",
       " '32_Portfolios_ME_OP_INV_2x4x4',\n",
       " '32_Portfolios_ME_OP_INV_2x4x4_Wout_Div',\n",
       " 'Portfolios_Formed_on_E-P',\n",
       " 'Portfolios_Formed_on_E-P_Wout_Div',\n",
       " 'Portfolios_Formed_on_CF-P',\n",
       " 'Portfolios_Formed_on_CF-P_Wout_Div',\n",
       " 'Portfolios_Formed_on_D-P',\n",
       " 'Portfolios_Formed_on_D-P_Wout_Div',\n",
       " '6_Portfolios_ME_EP_2x3',\n",
       " '6_Portfolios_ME_EP_2x3_Wout_Div',\n",
       " '6_Portfolios_ME_CFP_2x3',\n",
       " '6_Portfolios_ME_CFP_2x3_Wout_Div',\n",
       " '6_Portfolios_ME_DP_2x3',\n",
       " '6_Portfolios_ME_DP_2x3_Wout_Div',\n",
       " 'F-F_Momentum_Factor',\n",
       " 'F-F_Momentum_Factor_daily',\n",
       " '6_Portfolios_ME_Prior_12_2',\n",
       " '6_Portfolios_ME_Prior_12_2_Daily',\n",
       " '25_Portfolios_ME_Prior_12_2',\n",
       " '25_Portfolios_ME_Prior_12_2_Daily',\n",
       " '10_Portfolios_Prior_12_2',\n",
       " '10_Portfolios_Prior_12_2_Daily',\n",
       " 'F-F_ST_Reversal_Factor',\n",
       " 'F-F_ST_Reversal_Factor_daily',\n",
       " '6_Portfolios_ME_Prior_1_0',\n",
       " '6_Portfolios_ME_Prior_1_0_Daily',\n",
       " '25_Portfolios_ME_Prior_1_0',\n",
       " '25_Portfolios_ME_Prior_1_0_Daily',\n",
       " '10_Portfolios_Prior_1_0',\n",
       " '10_Portfolios_Prior_1_0_Daily',\n",
       " 'F-F_LT_Reversal_Factor',\n",
       " 'F-F_LT_Reversal_Factor_daily',\n",
       " '6_Portfolios_ME_Prior_60_13',\n",
       " '6_Portfolios_ME_Prior_60_13_Daily',\n",
       " '25_Portfolios_ME_Prior_60_13',\n",
       " '25_Portfolios_ME_Prior_60_13_Daily',\n",
       " '10_Portfolios_Prior_60_13',\n",
       " '10_Portfolios_Prior_60_13_Daily',\n",
       " 'Portfolios_Formed_on_AC',\n",
       " '25_Portfolios_ME_AC_5x5',\n",
       " 'Portfolios_Formed_on_BETA',\n",
       " '25_Portfolios_ME_BETA_5x5',\n",
       " 'Portfolios_Formed_on_NI',\n",
       " '25_Portfolios_ME_NI_5x5',\n",
       " 'Portfolios_Formed_on_VAR',\n",
       " '25_Portfolios_ME_VAR_5x5',\n",
       " 'Portfolios_Formed_on_RESVAR',\n",
       " '25_Portfolios_ME_RESVAR_5x5',\n",
       " '5_Industry_Portfolios',\n",
       " '5_Industry_Portfolios_Wout_Div',\n",
       " '5_Industry_Portfolios_daily',\n",
       " '10_Industry_Portfolios',\n",
       " '10_Industry_Portfolios_Wout_Div',\n",
       " '10_Industry_Portfolios_daily',\n",
       " '12_Industry_Portfolios',\n",
       " '12_Industry_Portfolios_Wout_Div',\n",
       " '12_Industry_Portfolios_daily',\n",
       " '17_Industry_Portfolios',\n",
       " '17_Industry_Portfolios_Wout_Div',\n",
       " '17_Industry_Portfolios_daily',\n",
       " '30_Industry_Portfolios',\n",
       " '30_Industry_Portfolios_Wout_Div',\n",
       " '30_Industry_Portfolios_daily',\n",
       " '38_Industry_Portfolios',\n",
       " '38_Industry_Portfolios_Wout_Div',\n",
       " '38_Industry_Portfolios_daily',\n",
       " '48_Industry_Portfolios',\n",
       " '48_Industry_Portfolios_Wout_Div',\n",
       " '48_Industry_Portfolios_daily',\n",
       " '49_Industry_Portfolios',\n",
       " '49_Industry_Portfolios_Wout_Div',\n",
       " '49_Industry_Portfolios_daily',\n",
       " 'ME_Breakpoints',\n",
       " 'BE-ME_Breakpoints',\n",
       " 'OP_Breakpoints',\n",
       " 'INV_Breakpoints',\n",
       " 'E-P_Breakpoints',\n",
       " 'CF-P_Breakpoints',\n",
       " 'D-P_Breakpoints',\n",
       " 'Prior_2-12_Breakpoints',\n",
       " 'Developed_3_Factors',\n",
       " 'Developed_3_Factors_Daily',\n",
       " 'Developed_ex_US_3_Factors',\n",
       " 'Developed_ex_US_3_Factors_Daily',\n",
       " 'Europe_3_Factors',\n",
       " 'Europe_3_Factors_Daily',\n",
       " 'Japan_3_Factors',\n",
       " 'Japan_3_Factors_Daily',\n",
       " 'Asia_Pacific_ex_Japan_3_Factors',\n",
       " 'Asia_Pacific_ex_Japan_3_Factors_Daily',\n",
       " 'North_America_3_Factors',\n",
       " 'North_America_3_Factors_Daily',\n",
       " 'Developed_5_Factors',\n",
       " 'Developed_5_Factors_Daily',\n",
       " 'Developed_ex_US_5_Factors',\n",
       " 'Developed_ex_US_5_Factors_Daily',\n",
       " 'Europe_5_Factors',\n",
       " 'Europe_5_Factors_Daily',\n",
       " 'Japan_5_Factors',\n",
       " 'Japan_5_Factors_Daily',\n",
       " 'Asia_Pacific_ex_Japan_5_Factors',\n",
       " 'Asia_Pacific_ex_Japan_5_Factors_Daily',\n",
       " 'North_America_5_Factors',\n",
       " 'North_America_5_Factors_Daily',\n",
       " 'Developed_Mom_Factor',\n",
       " 'Developed_Mom_Factor_Daily',\n",
       " 'Developed_ex_US_Mom_Factor',\n",
       " 'Developed_ex_US_Mom_Factor_Daily',\n",
       " 'Europe_Mom_Factor',\n",
       " 'Europe_Mom_Factor_Daily',\n",
       " 'Japan_Mom_Factor',\n",
       " 'Japan_Mom_Factor_Daily',\n",
       " 'Asia_Pacific_ex_Japan_MOM_Factor',\n",
       " 'Asia_Pacific_ex_Japan_MOM_Factor_Daily',\n",
       " 'North_America_Mom_Factor',\n",
       " 'North_America_Mom_Factor_Daily',\n",
       " 'Developed_6_Portfolios_ME_BE-ME',\n",
       " 'Developed_6_Portfolios_ME_BE-ME_daily',\n",
       " 'Developed_ex_US_6_Portfolios_ME_BE-ME',\n",
       " 'Developed_ex_US_6_Portfolios_ME_BE-ME_daily',\n",
       " 'Europe_6_Portfolios_ME_BE-ME',\n",
       " 'Europe_6_Portfolios_ME_BE-ME_daily',\n",
       " 'Japan_6_Portfolios_ME_BE-ME',\n",
       " 'Japan_6_Portfolios_ME_BE-ME_daily',\n",
       " 'Asia_Pacific_ex_Japan_6_Portfolios_ME_BE-ME',\n",
       " 'Asia_Pacific_ex_Japan_6_Portfolios_ME_BE-ME_daily',\n",
       " 'North_America_6_Portfolios_ME_BE-ME',\n",
       " 'North_America_6_Portfolios_ME_BE-ME_daily',\n",
       " 'Developed_25_Portfolios_ME_BE-ME',\n",
       " 'Developed_25_Portfolios_ME_BE-ME_daily',\n",
       " 'Developed_ex_US_25_Portfolios_ME_BE-ME',\n",
       " 'Developed_ex_US_25_Portfolios_ME_BE-ME_daily',\n",
       " 'Europe_25_Portfolios_ME_BE-ME',\n",
       " 'Europe_25_Portfolios_ME_BE-ME_daily',\n",
       " 'Japan_25_Portfolios_ME_BE-ME',\n",
       " 'Japan_25_Portfolios_ME_BE-ME_daily',\n",
       " 'Asia_Pacific_ex_Japan_25_Portfolios_ME_BE-ME',\n",
       " 'Asia_Pacific_ex_Japan_25_Portfolios_ME_BE-ME_daily',\n",
       " 'North_America_25_Portfolios_ME_BE-ME',\n",
       " 'North_America_25_Portfolios_ME_BE-ME_daily',\n",
       " 'Developed_6_Portfolios_ME_OP',\n",
       " 'Developed_6_Portfolios_ME_OP_Daily',\n",
       " 'Developed_ex_US_6_Portfolios_ME_OP',\n",
       " 'Developed_ex_US_6_Portfolios_ME_OP_Daily',\n",
       " 'Europe_6_Portfolios_ME_OP',\n",
       " 'Europe_6_Portfolios_ME_OP_Daily',\n",
       " 'Japan_6_Portfolios_ME_OP',\n",
       " 'Japan_6_Portfolios_ME_OP_Daily',\n",
       " 'Asia_Pacific_ex_Japan_6_Portfolios_ME_OP',\n",
       " 'Asia_Pacific_ex_Japan_6_Portfolios_ME_OP_Daily',\n",
       " 'North_America_6_Portfolios_ME_OP',\n",
       " 'North_America_6_Portfolios_ME_OP_Daily',\n",
       " 'Developed_25_Portfolios_ME_OP',\n",
       " 'Developed_25_Portfolios_ME_OP_Daily',\n",
       " 'Developed_ex_US_25_Portfolios_ME_OP',\n",
       " 'Developed_ex_US_25_Portfolios_ME_OP_Daily',\n",
       " 'Europe_25_Portfolios_ME_OP',\n",
       " 'Europe_25_Portfolios_ME_OP_Daily',\n",
       " 'Japan_25_Portfolios_ME_OP',\n",
       " 'Japan_25_Portfolios_ME_OP_Daily',\n",
       " 'Asia_Pacific_ex_Japan_25_Portfolios_ME_OP',\n",
       " 'Asia_Pacific_ex_Japan_25_Portfolios_ME_OP_Daily',\n",
       " 'North_America_25_Portfolios_ME_OP',\n",
       " 'North_America_25_Portfolios_ME_OP_Daily',\n",
       " 'Developed_6_Portfolios_ME_INV',\n",
       " 'Developed_6_Portfolios_ME_INV_Daily',\n",
       " 'Developed_ex_US_6_Portfolios_ME_INV',\n",
       " 'Developed_ex_US_6_Portfolios_ME_INV_Daily',\n",
       " 'Europe_6_Portfolios_ME_INV',\n",
       " 'Europe_6_Portfolios_ME_INV_Daily',\n",
       " 'Japan_6_Portfolios_ME_INV',\n",
       " 'Japan_6_Portfolios_ME_INV_Daily',\n",
       " 'Asia_Pacific_ex_Japan_6_Portfolios_ME_INV',\n",
       " 'Asia_Pacific_ex_Japan_6_Portfolios_ME_INV_Daily',\n",
       " 'North_America_6_Portfolios_ME_INV',\n",
       " 'North_America_6_Portfolios_ME_INV_Daily',\n",
       " 'Developed_25_Portfolios_ME_INV',\n",
       " 'Developed_25_Portfolios_ME_INV_Daily',\n",
       " 'Developed_ex_US_25_Portfolios_ME_INV',\n",
       " 'Developed_ex_US_25_Portfolios_ME_INV_Daily',\n",
       " 'Europe_25_Portfolios_ME_INV',\n",
       " 'Europe_25_Portfolios_ME_INV_Daily',\n",
       " 'Japan_25_Portfolios_ME_INV',\n",
       " 'Japan_25_Portfolios_ME_INV_Daily',\n",
       " 'Asia_Pacific_ex_Japan_25_Portfolios_ME_INV',\n",
       " 'Asia_Pacific_ex_Japan_25_Portfolios_ME_INV_Daily',\n",
       " 'North_America_25_Portfolios_ME_INV',\n",
       " 'North_America_25_Portfolios_ME_INV_Daily',\n",
       " 'Developed_6_Portfolios_ME_Prior_12_2',\n",
       " 'Developed_6_Portfolios_ME_Prior_250_20_daily',\n",
       " 'Developed_ex_US_6_Portfolios_ME_Prior_12_2',\n",
       " 'Developed_ex_US_6_Portfolios_ME_Prior_250_20_daily',\n",
       " 'Europe_6_Portfolios_ME_Prior_12_2',\n",
       " 'Europe_6_Portfolios_ME_Prior_250_20_daily',\n",
       " 'Japan_6_Portfolios_ME_Prior_12_2',\n",
       " 'Japan_6_Portfolios_ME_Prior_250_20_daily',\n",
       " 'Asia_Pacific_ex_Japan_6_Portfolios_ME_Prior_12_2',\n",
       " 'Asia_Pacific_ex_Japan_6_Portfolios_ME_Prior_250_20_daily',\n",
       " 'North_America_6_Portfolios_ME_Prior_12_2',\n",
       " 'North_America_6_Portfolios_ME_Prior_250_20_daily',\n",
       " 'Developed_25_Portfolios_ME_Prior_12_2',\n",
       " 'Developed_25_Portfolios_ME_Prior_250_20_daily',\n",
       " 'Developed_ex_US_25_Portfolios_ME_Prior_12_2',\n",
       " 'Developed_ex_US_25_Portfolios_ME_Prior_250_20_daily',\n",
       " 'Europe_25_Portfolios_ME_Prior_12_2',\n",
       " 'Europe_25_Portfolios_ME_Prior_250_20_daily',\n",
       " 'Japan_25_Portfolios_ME_Prior_12_2',\n",
       " 'Japan_25_Portfolios_ME_Prior_250_20_daily',\n",
       " 'Asia_Pacific_ex_Japan_25_Portfolios_ME_Prior_12_2',\n",
       " 'Asia_Pacific_ex_Japan_25_Portfolios_ME_Prior_250_20_daily',\n",
       " 'North_America_25_Portfolios_ME_Prior_12_2',\n",
       " 'North_America_25_Portfolios_ME_Prior_250_20_daily',\n",
       " 'Developed_32_Portfolios_ME_BE-ME_OP_2x4x4',\n",
       " 'Developed_ex_US_32_Portfolios_ME_BE-ME_OP_2x4x4',\n",
       " 'Europe_32_Portfolios_ME_BE-ME_OP_2x4x4',\n",
       " 'Japan_32_Portfolios_ME_BE-ME_OP_2x4x4',\n",
       " 'Asia_Pacific_ex_Japan_32_Portfolios_ME_BE-ME_OP_2x4x4',\n",
       " 'North_America_32_Portfolios_ME_BE-ME_OP_2x4x4',\n",
       " 'Developed_32_Portfolios_ME_BE-ME_INV(TA)_2x4x4',\n",
       " 'Developed_ex_US_32_Portfolios_ME_BE-ME_INV(TA)_2x4x4',\n",
       " 'Europe_32_Portfolios_ME_BE-ME_INV(TA)_2x4x4',\n",
       " 'Japan_32_Portfolios_ME_BE-ME_INV(TA)_2x4x4',\n",
       " 'Asia_Pacific_ex_Japan_32_Portfolios_ME_BE-ME_INV(TA)_2x4x4',\n",
       " 'North_America_32_Portfolios_ME_BE-ME_INV(TA)_2x4x4',\n",
       " 'Developed_32_Portfolios_ME_INV(TA)_OP_2x4x4',\n",
       " 'Developed_ex_US_32_Portfolios_ME_INV(TA)_OP_2x4x4',\n",
       " 'Europe_32_Portfolios_ME_INV(TA)_OP_2x4x4',\n",
       " 'Japan_32_Portfolios_ME_INV(TA)_OP_2x4x4',\n",
       " 'Asia_Pacific_ex_Japan_32_Portfolios_ME_INV(TA)_OP_2x4x4',\n",
       " 'North_America_32_Portfolios_ME_INV(TA)_OP_2x4x4',\n",
       " 'Emerging_5_Factors',\n",
       " 'Emerging_MOM_Factor',\n",
       " 'Emerging_Markets_6_Portfolios_ME_BE-ME',\n",
       " 'Emerging_Markets_6_Portfolios_ME_OP',\n",
       " 'Emerging_Markets_6_Portfolios_ME_INV',\n",
       " 'Emerging_Markets_6_Portfolios_ME_Prior_12_2',\n",
       " 'Emerging_Markets_4_Portfolios_BE-ME_OP',\n",
       " 'Emerging_Markets_4_Portfolios_OP_INV',\n",
       " 'Emerging_Markets_4_Portfolios_BE-ME_INV']"
      ]
     },
     "execution_count": 1,
     "metadata": {
      "slideshow": {
       "slide_type": "slide"
      }
     },
     "output_type": "execute_result"
    }
   ],
   "source": [
    "from pandas_datareader.famafrench import get_available_datasets\n",
    "get_available_datasets()"
   ]
  },
  {
   "cell_type": "markdown",
   "metadata": {
    "slideshow": {
     "slide_type": "slide"
    }
   },
   "source": [
    "### Get daily returns of all industries"
   ]
  },
  {
   "cell_type": "code",
   "execution_count": 2,
   "metadata": {
    "slideshow": {
     "slide_type": "slide"
    }
   },
   "outputs": [
    {
     "data": {
      "text/html": [
       "<div>\n",
       "<style scoped>\n",
       "    .dataframe tbody tr th:only-of-type {\n",
       "        vertical-align: middle;\n",
       "    }\n",
       "\n",
       "    .dataframe tbody tr th {\n",
       "        vertical-align: top;\n",
       "    }\n",
       "\n",
       "    .dataframe thead th {\n",
       "        text-align: right;\n",
       "    }\n",
       "</style>\n",
       "<table border=\"1\" class=\"dataframe\">\n",
       "  <thead>\n",
       "    <tr style=\"text-align: right;\">\n",
       "      <th></th>\n",
       "      <th>Agric</th>\n",
       "      <th>Food</th>\n",
       "      <th>Soda</th>\n",
       "      <th>Beer</th>\n",
       "      <th>Smoke</th>\n",
       "      <th>Toys</th>\n",
       "      <th>Fun</th>\n",
       "      <th>Books</th>\n",
       "      <th>Hshld</th>\n",
       "      <th>Clths</th>\n",
       "      <th>...</th>\n",
       "      <th>Boxes</th>\n",
       "      <th>Trans</th>\n",
       "      <th>Whlsl</th>\n",
       "      <th>Rtail</th>\n",
       "      <th>Meals</th>\n",
       "      <th>Banks</th>\n",
       "      <th>Insur</th>\n",
       "      <th>RlEst</th>\n",
       "      <th>Fin</th>\n",
       "      <th>Other</th>\n",
       "    </tr>\n",
       "    <tr>\n",
       "      <th>Date</th>\n",
       "      <th></th>\n",
       "      <th></th>\n",
       "      <th></th>\n",
       "      <th></th>\n",
       "      <th></th>\n",
       "      <th></th>\n",
       "      <th></th>\n",
       "      <th></th>\n",
       "      <th></th>\n",
       "      <th></th>\n",
       "      <th></th>\n",
       "      <th></th>\n",
       "      <th></th>\n",
       "      <th></th>\n",
       "      <th></th>\n",
       "      <th></th>\n",
       "      <th></th>\n",
       "      <th></th>\n",
       "      <th></th>\n",
       "      <th></th>\n",
       "      <th></th>\n",
       "    </tr>\n",
       "  </thead>\n",
       "  <tbody>\n",
       "    <tr>\n",
       "      <th>1970-01-02</th>\n",
       "      <td>0.0305</td>\n",
       "      <td>0.0083</td>\n",
       "      <td>0.0018</td>\n",
       "      <td>0.0043</td>\n",
       "      <td>0.0000</td>\n",
       "      <td>0.0224</td>\n",
       "      <td>0.0220</td>\n",
       "      <td>-0.0004</td>\n",
       "      <td>-0.0025</td>\n",
       "      <td>0.0216</td>\n",
       "      <td>...</td>\n",
       "      <td>-0.0031</td>\n",
       "      <td>0.0368</td>\n",
       "      <td>0.0218</td>\n",
       "      <td>0.0014</td>\n",
       "      <td>0.0149</td>\n",
       "      <td>0.0044</td>\n",
       "      <td>0.0161</td>\n",
       "      <td>0.0384</td>\n",
       "      <td>0.0081</td>\n",
       "      <td>0.0484</td>\n",
       "    </tr>\n",
       "    <tr>\n",
       "      <th>1970-01-05</th>\n",
       "      <td>0.0367</td>\n",
       "      <td>0.0071</td>\n",
       "      <td>-0.0068</td>\n",
       "      <td>0.0037</td>\n",
       "      <td>0.0138</td>\n",
       "      <td>0.0028</td>\n",
       "      <td>-0.0047</td>\n",
       "      <td>-0.0026</td>\n",
       "      <td>0.0007</td>\n",
       "      <td>0.0245</td>\n",
       "      <td>...</td>\n",
       "      <td>0.0046</td>\n",
       "      <td>0.0153</td>\n",
       "      <td>0.0133</td>\n",
       "      <td>-0.0044</td>\n",
       "      <td>0.0013</td>\n",
       "      <td>0.0064</td>\n",
       "      <td>0.0165</td>\n",
       "      <td>0.0243</td>\n",
       "      <td>-0.0037</td>\n",
       "      <td>0.0507</td>\n",
       "    </tr>\n",
       "    <tr>\n",
       "      <th>1970-01-06</th>\n",
       "      <td>0.0138</td>\n",
       "      <td>-0.0038</td>\n",
       "      <td>0.0032</td>\n",
       "      <td>0.0012</td>\n",
       "      <td>0.0005</td>\n",
       "      <td>-0.0172</td>\n",
       "      <td>-0.0002</td>\n",
       "      <td>-0.0091</td>\n",
       "      <td>-0.0104</td>\n",
       "      <td>-0.0080</td>\n",
       "      <td>...</td>\n",
       "      <td>0.0025</td>\n",
       "      <td>-0.0093</td>\n",
       "      <td>-0.0078</td>\n",
       "      <td>0.0027</td>\n",
       "      <td>-0.0123</td>\n",
       "      <td>-0.0066</td>\n",
       "      <td>-0.0096</td>\n",
       "      <td>-0.0204</td>\n",
       "      <td>-0.0101</td>\n",
       "      <td>-0.0005</td>\n",
       "    </tr>\n",
       "  </tbody>\n",
       "</table>\n",
       "<p>3 rows × 49 columns</p>\n",
       "</div>"
      ],
      "text/plain": [
       "             Agric   Food    Soda    Beer    Smoke   Toys    Fun     Books  \\\n",
       "Date                                                                         \n",
       "1970-01-02  0.0305  0.0083  0.0018  0.0043  0.0000  0.0224  0.0220 -0.0004   \n",
       "1970-01-05  0.0367  0.0071 -0.0068  0.0037  0.0138  0.0028 -0.0047 -0.0026   \n",
       "1970-01-06  0.0138 -0.0038  0.0032  0.0012  0.0005 -0.0172 -0.0002 -0.0091   \n",
       "\n",
       "             Hshld   Clths  ...   Boxes   Trans   Whlsl   Rtail   Meals  \\\n",
       "Date                        ...                                           \n",
       "1970-01-02 -0.0025  0.0216  ... -0.0031  0.0368  0.0218  0.0014  0.0149   \n",
       "1970-01-05  0.0007  0.0245  ...  0.0046  0.0153  0.0133 -0.0044  0.0013   \n",
       "1970-01-06 -0.0104 -0.0080  ...  0.0025 -0.0093 -0.0078  0.0027 -0.0123   \n",
       "\n",
       "             Banks   Insur   RlEst   Fin     Other  \n",
       "Date                                                \n",
       "1970-01-02  0.0044  0.0161  0.0384  0.0081  0.0484  \n",
       "1970-01-05  0.0064  0.0165  0.0243 -0.0037  0.0507  \n",
       "1970-01-06 -0.0066 -0.0096 -0.0204 -0.0101 -0.0005  \n",
       "\n",
       "[3 rows x 49 columns]"
      ]
     },
     "execution_count": 2,
     "metadata": {
      "slideshow": {
       "slide_type": "slide"
      }
     },
     "output_type": "execute_result"
    }
   ],
   "source": [
    "from pandas_datareader import DataReader as pdr\n",
    "rets = pdr(\"49_Industry_Portfolios_daily\", \"famafrench\", start=1970)[0]/100\n",
    "rets.head(3)"
   ]
  },
  {
   "cell_type": "markdown",
   "metadata": {
    "slideshow": {
     "slide_type": "slide"
    }
   },
   "source": [
    "### Calculating momentum\n",
    "\n",
    "- Each day, we want to look back one year and compound the returns, excluding the most recent month.\n",
    "- Count the days in the past year as 1, 2, ..., 252.\n",
    "- We want to calculate $(1+r_1)\\cdots (1+r_{231})$.\n",
    "- We can do this as\n",
    "$$\\frac{(1+r_1)\\cdots (1+r_{231})(1+r_{232}) \\cdots (1+r_{252})}{(1+r_{232})\\cdots (1+r_{252})}$$\n",
    "- In other words,\n",
    "$$\\frac{1 + \\text{last year's return}}{1+\\text{last month's return}}$$"
   ]
  },
  {
   "cell_type": "code",
   "execution_count": 3,
   "metadata": {
    "slideshow": {
     "slide_type": "skip"
    }
   },
   "outputs": [],
   "source": [
    "cumulative_rets = (1+rets).cumprod().shift()\n",
    "one_year_ret = cumulative_rets.pct_change(252)\n",
    "one_month_ret = cumulative_rets.pct_change(21)\n",
    "mom = (1+one_year_ret) / (1+one_month_ret) - 1\n",
    "mom = mom.dropna()"
   ]
  },
  {
   "cell_type": "code",
   "execution_count": 4,
   "metadata": {
    "slideshow": {
     "slide_type": "slide"
    }
   },
   "outputs": [
    {
     "data": {
      "text/html": [
       "<div>\n",
       "<style scoped>\n",
       "    .dataframe tbody tr th:only-of-type {\n",
       "        vertical-align: middle;\n",
       "    }\n",
       "\n",
       "    .dataframe tbody tr th {\n",
       "        vertical-align: top;\n",
       "    }\n",
       "\n",
       "    .dataframe thead th {\n",
       "        text-align: right;\n",
       "    }\n",
       "</style>\n",
       "<table border=\"1\" class=\"dataframe\">\n",
       "  <thead>\n",
       "    <tr style=\"text-align: right;\">\n",
       "      <th></th>\n",
       "      <th>Agric</th>\n",
       "      <th>Food</th>\n",
       "      <th>Soda</th>\n",
       "      <th>Beer</th>\n",
       "      <th>Smoke</th>\n",
       "      <th>Toys</th>\n",
       "      <th>Fun</th>\n",
       "      <th>Books</th>\n",
       "      <th>Hshld</th>\n",
       "      <th>Clths</th>\n",
       "      <th>...</th>\n",
       "      <th>Boxes</th>\n",
       "      <th>Trans</th>\n",
       "      <th>Whlsl</th>\n",
       "      <th>Rtail</th>\n",
       "      <th>Meals</th>\n",
       "      <th>Banks</th>\n",
       "      <th>Insur</th>\n",
       "      <th>RlEst</th>\n",
       "      <th>Fin</th>\n",
       "      <th>Other</th>\n",
       "    </tr>\n",
       "    <tr>\n",
       "      <th>Date</th>\n",
       "      <th></th>\n",
       "      <th></th>\n",
       "      <th></th>\n",
       "      <th></th>\n",
       "      <th></th>\n",
       "      <th></th>\n",
       "      <th></th>\n",
       "      <th></th>\n",
       "      <th></th>\n",
       "      <th></th>\n",
       "      <th></th>\n",
       "      <th></th>\n",
       "      <th></th>\n",
       "      <th></th>\n",
       "      <th></th>\n",
       "      <th></th>\n",
       "      <th></th>\n",
       "      <th></th>\n",
       "      <th></th>\n",
       "      <th></th>\n",
       "      <th></th>\n",
       "    </tr>\n",
       "  </thead>\n",
       "  <tbody>\n",
       "    <tr>\n",
       "      <th>1970-12-31</th>\n",
       "      <td>-0.268268</td>\n",
       "      <td>-0.028023</td>\n",
       "      <td>0.040410</td>\n",
       "      <td>-0.080067</td>\n",
       "      <td>0.292730</td>\n",
       "      <td>-0.179984</td>\n",
       "      <td>-0.168475</td>\n",
       "      <td>-0.281926</td>\n",
       "      <td>-0.096854</td>\n",
       "      <td>-0.125967</td>\n",
       "      <td>...</td>\n",
       "      <td>-0.172807</td>\n",
       "      <td>-0.164845</td>\n",
       "      <td>-0.322069</td>\n",
       "      <td>0.038596</td>\n",
       "      <td>-0.293279</td>\n",
       "      <td>-0.012728</td>\n",
       "      <td>-0.141085</td>\n",
       "      <td>-0.258560</td>\n",
       "      <td>-0.148936</td>\n",
       "      <td>-0.601215</td>\n",
       "    </tr>\n",
       "    <tr>\n",
       "      <th>1971-01-04</th>\n",
       "      <td>-0.300242</td>\n",
       "      <td>-0.025224</td>\n",
       "      <td>0.049104</td>\n",
       "      <td>-0.080067</td>\n",
       "      <td>0.253838</td>\n",
       "      <td>-0.176059</td>\n",
       "      <td>-0.169394</td>\n",
       "      <td>-0.274655</td>\n",
       "      <td>-0.099110</td>\n",
       "      <td>-0.134499</td>\n",
       "      <td>...</td>\n",
       "      <td>-0.172313</td>\n",
       "      <td>-0.167971</td>\n",
       "      <td>-0.328692</td>\n",
       "      <td>0.045481</td>\n",
       "      <td>-0.292432</td>\n",
       "      <td>-0.005077</td>\n",
       "      <td>-0.148775</td>\n",
       "      <td>-0.276295</td>\n",
       "      <td>-0.139796</td>\n",
       "      <td>-0.609375</td>\n",
       "    </tr>\n",
       "    <tr>\n",
       "      <th>1971-01-05</th>\n",
       "      <td>-0.308732</td>\n",
       "      <td>-0.011133</td>\n",
       "      <td>0.055588</td>\n",
       "      <td>-0.065458</td>\n",
       "      <td>0.268250</td>\n",
       "      <td>-0.154429</td>\n",
       "      <td>-0.160920</td>\n",
       "      <td>-0.260746</td>\n",
       "      <td>-0.078536</td>\n",
       "      <td>-0.113559</td>\n",
       "      <td>...</td>\n",
       "      <td>-0.166286</td>\n",
       "      <td>-0.148822</td>\n",
       "      <td>-0.318543</td>\n",
       "      <td>0.048609</td>\n",
       "      <td>-0.266785</td>\n",
       "      <td>0.012951</td>\n",
       "      <td>-0.134078</td>\n",
       "      <td>-0.246744</td>\n",
       "      <td>-0.118766</td>\n",
       "      <td>-0.606170</td>\n",
       "    </tr>\n",
       "  </tbody>\n",
       "</table>\n",
       "<p>3 rows × 49 columns</p>\n",
       "</div>"
      ],
      "text/plain": [
       "               Agric     Food      Soda      Beer      Smoke     Toys   \\\n",
       "Date                                                                     \n",
       "1970-12-31 -0.268268 -0.028023  0.040410 -0.080067  0.292730 -0.179984   \n",
       "1971-01-04 -0.300242 -0.025224  0.049104 -0.080067  0.253838 -0.176059   \n",
       "1971-01-05 -0.308732 -0.011133  0.055588 -0.065458  0.268250 -0.154429   \n",
       "\n",
       "               Fun       Books     Hshld     Clths  ...     Boxes     Trans  \\\n",
       "Date                                                ...                       \n",
       "1970-12-31 -0.168475 -0.281926 -0.096854 -0.125967  ... -0.172807 -0.164845   \n",
       "1971-01-04 -0.169394 -0.274655 -0.099110 -0.134499  ... -0.172313 -0.167971   \n",
       "1971-01-05 -0.160920 -0.260746 -0.078536 -0.113559  ... -0.166286 -0.148822   \n",
       "\n",
       "               Whlsl     Rtail     Meals     Banks     Insur     RlEst  \\\n",
       "Date                                                                     \n",
       "1970-12-31 -0.322069  0.038596 -0.293279 -0.012728 -0.141085 -0.258560   \n",
       "1971-01-04 -0.328692  0.045481 -0.292432 -0.005077 -0.148775 -0.276295   \n",
       "1971-01-05 -0.318543  0.048609 -0.266785  0.012951 -0.134078 -0.246744   \n",
       "\n",
       "               Fin       Other  \n",
       "Date                            \n",
       "1970-12-31 -0.148936 -0.601215  \n",
       "1971-01-04 -0.139796 -0.609375  \n",
       "1971-01-05 -0.118766 -0.606170  \n",
       "\n",
       "[3 rows x 49 columns]"
      ]
     },
     "execution_count": 4,
     "metadata": {
      "slideshow": {
       "slide_type": "slide"
      }
     },
     "output_type": "execute_result"
    }
   ],
   "source": [
    "mom.head(3)"
   ]
  },
  {
   "cell_type": "markdown",
   "metadata": {
    "slideshow": {
     "slide_type": "slide"
    }
   },
   "source": [
    "### Rank by momentum each day (at close of prior day)"
   ]
  },
  {
   "cell_type": "code",
   "execution_count": 5,
   "metadata": {
    "slideshow": {
     "slide_type": "skip"
    }
   },
   "outputs": [],
   "source": [
    "import pandas as pd \n",
    "\n",
    "df = pd.concat((mom.stack(), rets.stack()), axis=1).dropna()\n",
    "df.columns = [\"mom\", \"ret\"]\n",
    "df[\"rank\"] = df.groupby(\"Date\").mom.rank()"
   ]
  },
  {
   "cell_type": "code",
   "execution_count": 6,
   "metadata": {
    "slideshow": {
     "slide_type": "slide"
    }
   },
   "outputs": [
    {
     "data": {
      "text/html": [
       "<div>\n",
       "<style scoped>\n",
       "    .dataframe tbody tr th:only-of-type {\n",
       "        vertical-align: middle;\n",
       "    }\n",
       "\n",
       "    .dataframe tbody tr th {\n",
       "        vertical-align: top;\n",
       "    }\n",
       "\n",
       "    .dataframe thead th {\n",
       "        text-align: right;\n",
       "    }\n",
       "</style>\n",
       "<table border=\"1\" class=\"dataframe\">\n",
       "  <thead>\n",
       "    <tr style=\"text-align: right;\">\n",
       "      <th></th>\n",
       "      <th></th>\n",
       "      <th>mom</th>\n",
       "      <th>ret</th>\n",
       "      <th>rank</th>\n",
       "    </tr>\n",
       "    <tr>\n",
       "      <th>Date</th>\n",
       "      <th></th>\n",
       "      <th></th>\n",
       "      <th></th>\n",
       "      <th></th>\n",
       "    </tr>\n",
       "  </thead>\n",
       "  <tbody>\n",
       "    <tr>\n",
       "      <th rowspan=\"5\" valign=\"top\">1970-12-31</th>\n",
       "      <th>Agric</th>\n",
       "      <td>-0.268268</td>\n",
       "      <td>0.0078</td>\n",
       "      <td>13.0</td>\n",
       "    </tr>\n",
       "    <tr>\n",
       "      <th>Food</th>\n",
       "      <td>-0.028023</td>\n",
       "      <td>0.0051</td>\n",
       "      <td>35.0</td>\n",
       "    </tr>\n",
       "    <tr>\n",
       "      <th>Soda</th>\n",
       "      <td>0.040410</td>\n",
       "      <td>-0.0069</td>\n",
       "      <td>43.0</td>\n",
       "    </tr>\n",
       "    <tr>\n",
       "      <th>Beer</th>\n",
       "      <td>-0.080067</td>\n",
       "      <td>-0.0034</td>\n",
       "      <td>32.0</td>\n",
       "    </tr>\n",
       "    <tr>\n",
       "      <th>Smoke</th>\n",
       "      <td>0.292730</td>\n",
       "      <td>-0.0135</td>\n",
       "      <td>48.0</td>\n",
       "    </tr>\n",
       "  </tbody>\n",
       "</table>\n",
       "</div>"
      ],
      "text/plain": [
       "                       mom     ret  rank\n",
       "Date                                    \n",
       "1970-12-31 Agric -0.268268  0.0078  13.0\n",
       "           Food  -0.028023  0.0051  35.0\n",
       "           Soda   0.040410 -0.0069  43.0\n",
       "           Beer  -0.080067 -0.0034  32.0\n",
       "           Smoke  0.292730 -0.0135  48.0"
      ]
     },
     "execution_count": 6,
     "metadata": {
      "slideshow": {
       "slide_type": "slide"
      }
     },
     "output_type": "execute_result"
    }
   ],
   "source": [
    "df.head()"
   ]
  },
  {
   "cell_type": "markdown",
   "metadata": {
    "slideshow": {
     "slide_type": "slide"
    }
   },
   "source": [
    "### Trading strategy\n",
    "\n",
    "- Long the 5 industries with highest momentum\n",
    "- Short the 5 industries with lowest momentum"
   ]
  },
  {
   "cell_type": "code",
   "execution_count": 7,
   "metadata": {
    "slideshow": {
     "slide_type": "slide"
    }
   },
   "outputs": [
    {
     "name": "stdout",
     "output_type": "stream",
     "text": [
      "long-minus-short annualized mean return is 11.15%\n"
     ]
    }
   ],
   "source": [
    "long = df[df[\"rank\"]>=45].groupby(\"Date\").ret.mean()    # ranks 45, 46, 47, 48, 49\n",
    "short = df[df[\"rank\"]<=5].groupby(\"Date\").ret.mean()    # ranks 1, 2, 3, 4, 5\n",
    "long_minus_short = long - short\n",
    "print(f\"long-minus-short annualized mean return is {252*long_minus_short.mean():.2%}\")"
   ]
  },
  {
   "cell_type": "markdown",
   "metadata": {
    "slideshow": {
     "slide_type": "slide"
    }
   },
   "source": [
    "### JGSB SQL Database\n",
    "\n",
    "- Must be on RiceOwls or the [Rice VPN](https://oit.rice.edu/vpn-software).\n",
    "- Neet to pip install or conda install pymssql and maybe sqlalchemy\n",
    "- Following is boilerplate to create a connection.  Always the same code for this.\n",
    "- Can close the connection with conn.close()."
   ]
  },
  {
   "cell_type": "code",
   "execution_count": 8,
   "metadata": {
    "slideshow": {
     "slide_type": "slide"
    }
   },
   "outputs": [],
   "source": [
    "from sqlalchemy import create_engine\n",
    "import pymssql\n",
    "server = 'fs.rice.edu'\n",
    "database = 'stocks'\n",
    "username = 'stocks'\n",
    "password = '6LAZH1'\n",
    "string = \"mssql+pymssql://\" + username + \":\" + password + \"@\" + server + \"/\" + database \n",
    "conn = create_engine(string).connect()"
   ]
  },
  {
   "cell_type": "markdown",
   "metadata": {
    "slideshow": {
     "slide_type": "slide"
    }
   },
   "source": [
    "### Database tables\n",
    "\n",
    "- tickers has one row for each ticker, with general company information\n",
    "- indicators has one row for each variable in the other tables with definitions\n",
    "- sf1 has annual and quarterly reports for all NYSE/Nasdaq stocks back to 2000\n",
    "- sep has daily open, high, low, close and adjusted close for same stocks\n",
    "- daily has marketcap, pb, pe, ps, ev, evebit, evebitda for same stocks\n",
    "- sep_weekly is a weekly version of sep\n",
    "- weekly is a weekly version of daily"
   ]
  },
  {
   "cell_type": "markdown",
   "metadata": {
    "slideshow": {
     "slide_type": "slide"
    }
   },
   "source": [
    "### Basic SQL\n",
    "\n",
    "- select [] from [] join [] on [] where [] order by []\n",
    "- select * means select all columns\n",
    "- select top 3 * means select all columns for top 3 rows\n",
    "- join [] on [] where [] order by [] are all optional\n",
    "- a table that always exists is information_schema.tables.  It lists the other tables."
   ]
  },
  {
   "cell_type": "code",
   "execution_count": 9,
   "metadata": {
    "slideshow": {
     "slide_type": "slide"
    }
   },
   "outputs": [
    {
     "data": {
      "text/html": [
       "<div>\n",
       "<style scoped>\n",
       "    .dataframe tbody tr th:only-of-type {\n",
       "        vertical-align: middle;\n",
       "    }\n",
       "\n",
       "    .dataframe tbody tr th {\n",
       "        vertical-align: top;\n",
       "    }\n",
       "\n",
       "    .dataframe thead th {\n",
       "        text-align: right;\n",
       "    }\n",
       "</style>\n",
       "<table border=\"1\" class=\"dataframe\">\n",
       "  <thead>\n",
       "    <tr style=\"text-align: right;\">\n",
       "      <th></th>\n",
       "      <th>TABLE_CATALOG</th>\n",
       "      <th>TABLE_SCHEMA</th>\n",
       "      <th>TABLE_NAME</th>\n",
       "      <th>TABLE_TYPE</th>\n",
       "    </tr>\n",
       "  </thead>\n",
       "  <tbody>\n",
       "    <tr>\n",
       "      <th>0</th>\n",
       "      <td>stocks</td>\n",
       "      <td>dbo</td>\n",
       "      <td>prices_weekly</td>\n",
       "      <td>BASE TABLE</td>\n",
       "    </tr>\n",
       "    <tr>\n",
       "      <th>1</th>\n",
       "      <td>stocks</td>\n",
       "      <td>dbo</td>\n",
       "      <td>sep</td>\n",
       "      <td>BASE TABLE</td>\n",
       "    </tr>\n",
       "    <tr>\n",
       "      <th>2</th>\n",
       "      <td>stocks</td>\n",
       "      <td>dbo</td>\n",
       "      <td>sf1</td>\n",
       "      <td>BASE TABLE</td>\n",
       "    </tr>\n",
       "    <tr>\n",
       "      <th>3</th>\n",
       "      <td>stocks</td>\n",
       "      <td>dbo</td>\n",
       "      <td>daily</td>\n",
       "      <td>BASE TABLE</td>\n",
       "    </tr>\n",
       "    <tr>\n",
       "      <th>4</th>\n",
       "      <td>stocks</td>\n",
       "      <td>dbo</td>\n",
       "      <td>today</td>\n",
       "      <td>BASE TABLE</td>\n",
       "    </tr>\n",
       "    <tr>\n",
       "      <th>5</th>\n",
       "      <td>stocks</td>\n",
       "      <td>dbo</td>\n",
       "      <td>ghz</td>\n",
       "      <td>BASE TABLE</td>\n",
       "    </tr>\n",
       "    <tr>\n",
       "      <th>6</th>\n",
       "      <td>stocks</td>\n",
       "      <td>dbo</td>\n",
       "      <td>indicators</td>\n",
       "      <td>BASE TABLE</td>\n",
       "    </tr>\n",
       "    <tr>\n",
       "      <th>7</th>\n",
       "      <td>stocks</td>\n",
       "      <td>dbo</td>\n",
       "      <td>tickers</td>\n",
       "      <td>BASE TABLE</td>\n",
       "    </tr>\n",
       "    <tr>\n",
       "      <th>8</th>\n",
       "      <td>stocks</td>\n",
       "      <td>dbo</td>\n",
       "      <td>weekly</td>\n",
       "      <td>BASE TABLE</td>\n",
       "    </tr>\n",
       "    <tr>\n",
       "      <th>9</th>\n",
       "      <td>stocks</td>\n",
       "      <td>dbo</td>\n",
       "      <td>sep_weekly</td>\n",
       "      <td>BASE TABLE</td>\n",
       "    </tr>\n",
       "    <tr>\n",
       "      <th>10</th>\n",
       "      <td>stocks</td>\n",
       "      <td>dbo</td>\n",
       "      <td>sep2</td>\n",
       "      <td>BASE TABLE</td>\n",
       "    </tr>\n",
       "  </tbody>\n",
       "</table>\n",
       "</div>"
      ],
      "text/plain": [
       "   TABLE_CATALOG TABLE_SCHEMA     TABLE_NAME  TABLE_TYPE\n",
       "0         stocks          dbo  prices_weekly  BASE TABLE\n",
       "1         stocks          dbo            sep  BASE TABLE\n",
       "2         stocks          dbo            sf1  BASE TABLE\n",
       "3         stocks          dbo          daily  BASE TABLE\n",
       "4         stocks          dbo          today  BASE TABLE\n",
       "5         stocks          dbo            ghz  BASE TABLE\n",
       "6         stocks          dbo     indicators  BASE TABLE\n",
       "7         stocks          dbo        tickers  BASE TABLE\n",
       "8         stocks          dbo         weekly  BASE TABLE\n",
       "9         stocks          dbo     sep_weekly  BASE TABLE\n",
       "10        stocks          dbo           sep2  BASE TABLE"
      ]
     },
     "execution_count": 9,
     "metadata": {
      "slideshow": {
       "slide_type": "slide"
      }
     },
     "output_type": "execute_result"
    }
   ],
   "source": [
    "pd.read_sql(\"select * from information_schema.tables\", conn)"
   ]
  },
  {
   "cell_type": "code",
   "execution_count": 10,
   "metadata": {
    "slideshow": {
     "slide_type": "slide"
    }
   },
   "outputs": [
    {
     "data": {
      "text/html": [
       "<div>\n",
       "<style scoped>\n",
       "    .dataframe tbody tr th:only-of-type {\n",
       "        vertical-align: middle;\n",
       "    }\n",
       "\n",
       "    .dataframe tbody tr th {\n",
       "        vertical-align: top;\n",
       "    }\n",
       "\n",
       "    .dataframe thead th {\n",
       "        text-align: right;\n",
       "    }\n",
       "</style>\n",
       "<table border=\"1\" class=\"dataframe\">\n",
       "  <thead>\n",
       "    <tr style=\"text-align: right;\">\n",
       "      <th></th>\n",
       "      <th>permaticker</th>\n",
       "      <th>siccode</th>\n",
       "      <th>lastupdated</th>\n",
       "      <th>firstadded</th>\n",
       "      <th>firstpricedate</th>\n",
       "      <th>lastpricedate</th>\n",
       "      <th>firstquarter</th>\n",
       "      <th>lastquarter</th>\n",
       "      <th>isdelisted</th>\n",
       "      <th>ticker</th>\n",
       "      <th>...</th>\n",
       "      <th>famaindustry</th>\n",
       "      <th>sector</th>\n",
       "      <th>industry</th>\n",
       "      <th>scalemarketcap</th>\n",
       "      <th>scalerevenue</th>\n",
       "      <th>relatedtickers</th>\n",
       "      <th>currency</th>\n",
       "      <th>location</th>\n",
       "      <th>secfilings</th>\n",
       "      <th>companysite</th>\n",
       "    </tr>\n",
       "  </thead>\n",
       "  <tbody>\n",
       "    <tr>\n",
       "      <th>0</th>\n",
       "      <td>196290</td>\n",
       "      <td>3826</td>\n",
       "      <td>2023-08-31</td>\n",
       "      <td>2014-09-26</td>\n",
       "      <td>1999-11-18</td>\n",
       "      <td>2023-10-27</td>\n",
       "      <td>1997-06-30</td>\n",
       "      <td>2023-06-30</td>\n",
       "      <td>N</td>\n",
       "      <td>A</td>\n",
       "      <td>...</td>\n",
       "      <td>Measuring and Control Equipment</td>\n",
       "      <td>Healthcare</td>\n",
       "      <td>Diagnostics &amp; Research</td>\n",
       "      <td>5 - Large</td>\n",
       "      <td>5 - Large</td>\n",
       "      <td>None</td>\n",
       "      <td>USD</td>\n",
       "      <td>California; U.S.A</td>\n",
       "      <td>https://www.sec.gov/cgi-bin/browse-edgar?actio...</td>\n",
       "      <td>https://www.agilent.com</td>\n",
       "    </tr>\n",
       "    <tr>\n",
       "      <th>1</th>\n",
       "      <td>124392</td>\n",
       "      <td>3334</td>\n",
       "      <td>2023-10-26</td>\n",
       "      <td>2016-11-01</td>\n",
       "      <td>2016-11-01</td>\n",
       "      <td>2023-10-27</td>\n",
       "      <td>2014-12-31</td>\n",
       "      <td>2023-09-30</td>\n",
       "      <td>N</td>\n",
       "      <td>AA</td>\n",
       "      <td>...</td>\n",
       "      <td>Steel Works Etc</td>\n",
       "      <td>Basic Materials</td>\n",
       "      <td>Aluminum</td>\n",
       "      <td>5 - Large</td>\n",
       "      <td>5 - Large</td>\n",
       "      <td>None</td>\n",
       "      <td>USD</td>\n",
       "      <td>Pennsylvania; U.S.A</td>\n",
       "      <td>https://www.sec.gov/cgi-bin/browse-edgar?actio...</td>\n",
       "      <td>http://www.alcoa.com</td>\n",
       "    </tr>\n",
       "    <tr>\n",
       "      <th>2</th>\n",
       "      <td>122827</td>\n",
       "      <td>6022</td>\n",
       "      <td>2019-07-29</td>\n",
       "      <td>2017-09-09</td>\n",
       "      <td>1998-09-25</td>\n",
       "      <td>2003-01-28</td>\n",
       "      <td>1997-09-30</td>\n",
       "      <td>2002-09-30</td>\n",
       "      <td>Y</td>\n",
       "      <td>AAAB</td>\n",
       "      <td>...</td>\n",
       "      <td>Banking</td>\n",
       "      <td>Financial Services</td>\n",
       "      <td>Banks - Regional</td>\n",
       "      <td>2 - Micro</td>\n",
       "      <td>1 - Nano</td>\n",
       "      <td>None</td>\n",
       "      <td>USD</td>\n",
       "      <td>Florida; U.S.A</td>\n",
       "      <td>https://www.sec.gov/cgi-bin/browse-edgar?actio...</td>\n",
       "      <td>None</td>\n",
       "    </tr>\n",
       "  </tbody>\n",
       "</table>\n",
       "<p>3 rows × 26 columns</p>\n",
       "</div>"
      ],
      "text/plain": [
       "   permaticker  siccode lastupdated  firstadded firstpricedate lastpricedate  \\\n",
       "0       196290     3826  2023-08-31  2014-09-26     1999-11-18    2023-10-27   \n",
       "1       124392     3334  2023-10-26  2016-11-01     2016-11-01    2023-10-27   \n",
       "2       122827     6022  2019-07-29  2017-09-09     1998-09-25    2003-01-28   \n",
       "\n",
       "  firstquarter lastquarter isdelisted ticker  ...  \\\n",
       "0   1997-06-30  2023-06-30          N      A  ...   \n",
       "1   2014-12-31  2023-09-30          N     AA  ...   \n",
       "2   1997-09-30  2002-09-30          Y   AAAB  ...   \n",
       "\n",
       "                      famaindustry              sector  \\\n",
       "0  Measuring and Control Equipment          Healthcare   \n",
       "1                  Steel Works Etc     Basic Materials   \n",
       "2                          Banking  Financial Services   \n",
       "\n",
       "                 industry scalemarketcap scalerevenue relatedtickers currency  \\\n",
       "0  Diagnostics & Research      5 - Large    5 - Large           None      USD   \n",
       "1                Aluminum      5 - Large    5 - Large           None      USD   \n",
       "2        Banks - Regional      2 - Micro     1 - Nano           None      USD   \n",
       "\n",
       "              location                                         secfilings  \\\n",
       "0    California; U.S.A  https://www.sec.gov/cgi-bin/browse-edgar?actio...   \n",
       "1  Pennsylvania; U.S.A  https://www.sec.gov/cgi-bin/browse-edgar?actio...   \n",
       "2       Florida; U.S.A  https://www.sec.gov/cgi-bin/browse-edgar?actio...   \n",
       "\n",
       "               companysite  \n",
       "0  https://www.agilent.com  \n",
       "1     http://www.alcoa.com  \n",
       "2                     None  \n",
       "\n",
       "[3 rows x 26 columns]"
      ]
     },
     "execution_count": 10,
     "metadata": {
      "slideshow": {
       "slide_type": "slide"
      }
     },
     "output_type": "execute_result"
    }
   ],
   "source": [
    "pd.read_sql(\"select top 3 * from tickers\", conn)"
   ]
  },
  {
   "cell_type": "code",
   "execution_count": 11,
   "metadata": {
    "slideshow": {
     "slide_type": "slide"
    }
   },
   "outputs": [
    {
     "data": {
      "text/html": [
       "<div>\n",
       "<style scoped>\n",
       "    .dataframe tbody tr th:only-of-type {\n",
       "        vertical-align: middle;\n",
       "    }\n",
       "\n",
       "    .dataframe tbody tr th {\n",
       "        vertical-align: top;\n",
       "    }\n",
       "\n",
       "    .dataframe thead th {\n",
       "        text-align: right;\n",
       "    }\n",
       "</style>\n",
       "<table border=\"1\" class=\"dataframe\">\n",
       "  <thead>\n",
       "    <tr style=\"text-align: right;\">\n",
       "      <th></th>\n",
       "      <th>tbl</th>\n",
       "      <th>indicator</th>\n",
       "      <th>isfilter</th>\n",
       "      <th>isprimarykey</th>\n",
       "      <th>title</th>\n",
       "      <th>description</th>\n",
       "      <th>unittype</th>\n",
       "    </tr>\n",
       "  </thead>\n",
       "  <tbody>\n",
       "    <tr>\n",
       "      <th>0</th>\n",
       "      <td>SF1</td>\n",
       "      <td>revenue</td>\n",
       "      <td>N</td>\n",
       "      <td>N</td>\n",
       "      <td>Revenues</td>\n",
       "      <td>[Income Statement] The amount of Revenue recog...</td>\n",
       "      <td>currency</td>\n",
       "    </tr>\n",
       "    <tr>\n",
       "      <th>1</th>\n",
       "      <td>SF1</td>\n",
       "      <td>cor</td>\n",
       "      <td>N</td>\n",
       "      <td>N</td>\n",
       "      <td>Cost of Revenue</td>\n",
       "      <td>[Income Statement] The aggregate cost of goods...</td>\n",
       "      <td>currency</td>\n",
       "    </tr>\n",
       "    <tr>\n",
       "      <th>2</th>\n",
       "      <td>SF1</td>\n",
       "      <td>sgna</td>\n",
       "      <td>N</td>\n",
       "      <td>N</td>\n",
       "      <td>Selling General and Administrative Expense</td>\n",
       "      <td>[Income Statement] A component of [OpEx] repre...</td>\n",
       "      <td>currency</td>\n",
       "    </tr>\n",
       "  </tbody>\n",
       "</table>\n",
       "</div>"
      ],
      "text/plain": [
       "   tbl indicator isfilter isprimarykey  \\\n",
       "0  SF1   revenue        N            N   \n",
       "1  SF1       cor        N            N   \n",
       "2  SF1      sgna        N            N   \n",
       "\n",
       "                                        title  \\\n",
       "0                                    Revenues   \n",
       "1                             Cost of Revenue   \n",
       "2  Selling General and Administrative Expense   \n",
       "\n",
       "                                         description  unittype  \n",
       "0  [Income Statement] The amount of Revenue recog...  currency  \n",
       "1  [Income Statement] The aggregate cost of goods...  currency  \n",
       "2  [Income Statement] A component of [OpEx] repre...  currency  "
      ]
     },
     "execution_count": 11,
     "metadata": {
      "slideshow": {
       "slide_type": "slide"
      }
     },
     "output_type": "execute_result"
    }
   ],
   "source": [
    "pd.read_sql(\"select top 3 * from indicators\", conn)"
   ]
  },
  {
   "cell_type": "code",
   "execution_count": 12,
   "metadata": {
    "slideshow": {
     "slide_type": "slide"
    }
   },
   "outputs": [
    {
     "data": {
      "text/html": [
       "<div>\n",
       "<style scoped>\n",
       "    .dataframe tbody tr th:only-of-type {\n",
       "        vertical-align: middle;\n",
       "    }\n",
       "\n",
       "    .dataframe tbody tr th {\n",
       "        vertical-align: top;\n",
       "    }\n",
       "\n",
       "    .dataframe thead th {\n",
       "        text-align: right;\n",
       "    }\n",
       "</style>\n",
       "<table border=\"1\" class=\"dataframe\">\n",
       "  <thead>\n",
       "    <tr style=\"text-align: right;\">\n",
       "      <th></th>\n",
       "      <th>ticker</th>\n",
       "      <th>date</th>\n",
       "      <th>lastupdated</th>\n",
       "      <th>opn</th>\n",
       "      <th>high</th>\n",
       "      <th>low</th>\n",
       "      <th>cls</th>\n",
       "      <th>volume</th>\n",
       "      <th>closeadj</th>\n",
       "      <th>closeunadj</th>\n",
       "    </tr>\n",
       "  </thead>\n",
       "  <tbody>\n",
       "    <tr>\n",
       "      <th>0</th>\n",
       "      <td>BOOT</td>\n",
       "      <td>2021-09-10</td>\n",
       "      <td>2021-09-10</td>\n",
       "      <td>85.12</td>\n",
       "      <td>86.40</td>\n",
       "      <td>83.340</td>\n",
       "      <td>83.44</td>\n",
       "      <td>257625.000</td>\n",
       "      <td>83.440</td>\n",
       "      <td>83.44</td>\n",
       "    </tr>\n",
       "    <tr>\n",
       "      <th>1</th>\n",
       "      <td>BNTC</td>\n",
       "      <td>2021-09-10</td>\n",
       "      <td>2023-07-26</td>\n",
       "      <td>64.94</td>\n",
       "      <td>67.32</td>\n",
       "      <td>64.175</td>\n",
       "      <td>67.15</td>\n",
       "      <td>2597.529</td>\n",
       "      <td>67.150</td>\n",
       "      <td>3.95</td>\n",
       "    </tr>\n",
       "    <tr>\n",
       "      <th>2</th>\n",
       "      <td>JBHT</td>\n",
       "      <td>2023-04-05</td>\n",
       "      <td>2023-08-04</td>\n",
       "      <td>170.55</td>\n",
       "      <td>171.82</td>\n",
       "      <td>168.240</td>\n",
       "      <td>170.26</td>\n",
       "      <td>621922.000</td>\n",
       "      <td>169.514</td>\n",
       "      <td>170.26</td>\n",
       "    </tr>\n",
       "  </tbody>\n",
       "</table>\n",
       "</div>"
      ],
      "text/plain": [
       "  ticker        date lastupdated     opn    high      low     cls      volume  \\\n",
       "0   BOOT  2021-09-10  2021-09-10   85.12   86.40   83.340   83.44  257625.000   \n",
       "1   BNTC  2021-09-10  2023-07-26   64.94   67.32   64.175   67.15    2597.529   \n",
       "2   JBHT  2023-04-05  2023-08-04  170.55  171.82  168.240  170.26  621922.000   \n",
       "\n",
       "   closeadj  closeunadj  \n",
       "0    83.440       83.44  \n",
       "1    67.150        3.95  \n",
       "2   169.514      170.26  "
      ]
     },
     "execution_count": 12,
     "metadata": {
      "slideshow": {
       "slide_type": "slide"
      }
     },
     "output_type": "execute_result"
    }
   ],
   "source": [
    "pd.read_sql(\"select top 3 * from sep\", conn)"
   ]
  },
  {
   "cell_type": "code",
   "execution_count": 13,
   "metadata": {
    "slideshow": {
     "slide_type": "slide"
    }
   },
   "outputs": [
    {
     "data": {
      "text/html": [
       "<div>\n",
       "<style scoped>\n",
       "    .dataframe tbody tr th:only-of-type {\n",
       "        vertical-align: middle;\n",
       "    }\n",
       "\n",
       "    .dataframe tbody tr th {\n",
       "        vertical-align: top;\n",
       "    }\n",
       "\n",
       "    .dataframe thead th {\n",
       "        text-align: right;\n",
       "    }\n",
       "</style>\n",
       "<table border=\"1\" class=\"dataframe\">\n",
       "  <thead>\n",
       "    <tr style=\"text-align: right;\">\n",
       "      <th></th>\n",
       "      <th>ticker</th>\n",
       "      <th>date</th>\n",
       "      <th>lastupdated</th>\n",
       "      <th>ev</th>\n",
       "      <th>evebit</th>\n",
       "      <th>evebitda</th>\n",
       "      <th>marketcap</th>\n",
       "      <th>pb</th>\n",
       "      <th>pe</th>\n",
       "      <th>ps</th>\n",
       "    </tr>\n",
       "  </thead>\n",
       "  <tbody>\n",
       "    <tr>\n",
       "      <th>0</th>\n",
       "      <td>FKLT</td>\n",
       "      <td>2000-10-10</td>\n",
       "      <td>2021-06-14</td>\n",
       "      <td>30.4</td>\n",
       "      <td>-2.7</td>\n",
       "      <td>-2.8</td>\n",
       "      <td>30.9</td>\n",
       "      <td>6.3</td>\n",
       "      <td>-2.7</td>\n",
       "      <td>9.6</td>\n",
       "    </tr>\n",
       "    <tr>\n",
       "      <th>1</th>\n",
       "      <td>FFDF</td>\n",
       "      <td>2000-10-10</td>\n",
       "      <td>2022-07-12</td>\n",
       "      <td>40.5</td>\n",
       "      <td>29.3</td>\n",
       "      <td>26.7</td>\n",
       "      <td>12.5</td>\n",
       "      <td>0.8</td>\n",
       "      <td>13.6</td>\n",
       "      <td>3.4</td>\n",
       "    </tr>\n",
       "    <tr>\n",
       "      <th>2</th>\n",
       "      <td>FL</td>\n",
       "      <td>2000-10-10</td>\n",
       "      <td>2019-03-28</td>\n",
       "      <td>2161.2</td>\n",
       "      <td>9.9</td>\n",
       "      <td>5.5</td>\n",
       "      <td>1776.2</td>\n",
       "      <td>1.5</td>\n",
       "      <td>15.6</td>\n",
       "      <td>0.4</td>\n",
       "    </tr>\n",
       "  </tbody>\n",
       "</table>\n",
       "</div>"
      ],
      "text/plain": [
       "  ticker        date lastupdated      ev  evebit  evebitda  marketcap   pb  \\\n",
       "0   FKLT  2000-10-10  2021-06-14    30.4    -2.7      -2.8       30.9  6.3   \n",
       "1   FFDF  2000-10-10  2022-07-12    40.5    29.3      26.7       12.5  0.8   \n",
       "2     FL  2000-10-10  2019-03-28  2161.2     9.9       5.5     1776.2  1.5   \n",
       "\n",
       "     pe   ps  \n",
       "0  -2.7  9.6  \n",
       "1  13.6  3.4  \n",
       "2  15.6  0.4  "
      ]
     },
     "execution_count": 13,
     "metadata": {
      "slideshow": {
       "slide_type": "slide"
      }
     },
     "output_type": "execute_result"
    }
   ],
   "source": [
    "pd.read_sql(\"select top 3 * from daily\", conn)"
   ]
  },
  {
   "cell_type": "code",
   "execution_count": 14,
   "metadata": {
    "slideshow": {
     "slide_type": "slide"
    }
   },
   "outputs": [
    {
     "data": {
      "text/html": [
       "<div>\n",
       "<style scoped>\n",
       "    .dataframe tbody tr th:only-of-type {\n",
       "        vertical-align: middle;\n",
       "    }\n",
       "\n",
       "    .dataframe tbody tr th {\n",
       "        vertical-align: top;\n",
       "    }\n",
       "\n",
       "    .dataframe thead th {\n",
       "        text-align: right;\n",
       "    }\n",
       "</style>\n",
       "<table border=\"1\" class=\"dataframe\">\n",
       "  <thead>\n",
       "    <tr style=\"text-align: right;\">\n",
       "      <th></th>\n",
       "      <th>ticker</th>\n",
       "      <th>dimension</th>\n",
       "      <th>calendardate</th>\n",
       "      <th>datekey</th>\n",
       "      <th>reportperiod</th>\n",
       "      <th>lastupdated</th>\n",
       "      <th>accoci</th>\n",
       "      <th>assets</th>\n",
       "      <th>assetsavg</th>\n",
       "      <th>assetsc</th>\n",
       "      <th>...</th>\n",
       "      <th>sharesbas</th>\n",
       "      <th>shareswa</th>\n",
       "      <th>shareswadil</th>\n",
       "      <th>sps</th>\n",
       "      <th>tangibles</th>\n",
       "      <th>taxassets</th>\n",
       "      <th>taxexp</th>\n",
       "      <th>taxliabilities</th>\n",
       "      <th>tbvps</th>\n",
       "      <th>workingcapital</th>\n",
       "    </tr>\n",
       "  </thead>\n",
       "  <tbody>\n",
       "    <tr>\n",
       "      <th>0</th>\n",
       "      <td>ACHV</td>\n",
       "      <td>ARQ</td>\n",
       "      <td>1999-03-31</td>\n",
       "      <td>1999-05-13</td>\n",
       "      <td>1999-03-31</td>\n",
       "      <td>2023-08-15</td>\n",
       "      <td>0.0</td>\n",
       "      <td>17241790.0</td>\n",
       "      <td>None</td>\n",
       "      <td>15975331.0</td>\n",
       "      <td>...</td>\n",
       "      <td>218.0</td>\n",
       "      <td>218.0</td>\n",
       "      <td>218.0</td>\n",
       "      <td>0.00</td>\n",
       "      <td>17241790.0</td>\n",
       "      <td>0.0</td>\n",
       "      <td>0.0</td>\n",
       "      <td>0.0</td>\n",
       "      <td>79086.064</td>\n",
       "      <td>6960444.0</td>\n",
       "    </tr>\n",
       "    <tr>\n",
       "      <th>1</th>\n",
       "      <td>ACHV</td>\n",
       "      <td>ARQ</td>\n",
       "      <td>1999-06-30</td>\n",
       "      <td>1999-08-06</td>\n",
       "      <td>1999-06-30</td>\n",
       "      <td>2023-08-15</td>\n",
       "      <td>0.0</td>\n",
       "      <td>14390488.0</td>\n",
       "      <td>None</td>\n",
       "      <td>13292964.0</td>\n",
       "      <td>...</td>\n",
       "      <td>227.0</td>\n",
       "      <td>221.0</td>\n",
       "      <td>221.0</td>\n",
       "      <td>0.00</td>\n",
       "      <td>14390488.0</td>\n",
       "      <td>0.0</td>\n",
       "      <td>0.0</td>\n",
       "      <td>0.0</td>\n",
       "      <td>65190.550</td>\n",
       "      <td>3996699.0</td>\n",
       "    </tr>\n",
       "    <tr>\n",
       "      <th>2</th>\n",
       "      <td>ACHV</td>\n",
       "      <td>ARQ</td>\n",
       "      <td>1999-09-30</td>\n",
       "      <td>1999-11-16</td>\n",
       "      <td>1999-09-30</td>\n",
       "      <td>2023-08-15</td>\n",
       "      <td>0.0</td>\n",
       "      <td>16288809.0</td>\n",
       "      <td>None</td>\n",
       "      <td>15314234.0</td>\n",
       "      <td>...</td>\n",
       "      <td>227.0</td>\n",
       "      <td>227.0</td>\n",
       "      <td>230.0</td>\n",
       "      <td>22037.79</td>\n",
       "      <td>16288809.0</td>\n",
       "      <td>0.0</td>\n",
       "      <td>0.0</td>\n",
       "      <td>0.0</td>\n",
       "      <td>71793.872</td>\n",
       "      <td>6078039.0</td>\n",
       "    </tr>\n",
       "  </tbody>\n",
       "</table>\n",
       "<p>3 rows × 111 columns</p>\n",
       "</div>"
      ],
      "text/plain": [
       "  ticker dimension calendardate     datekey reportperiod lastupdated  accoci  \\\n",
       "0   ACHV       ARQ   1999-03-31  1999-05-13   1999-03-31  2023-08-15     0.0   \n",
       "1   ACHV       ARQ   1999-06-30  1999-08-06   1999-06-30  2023-08-15     0.0   \n",
       "2   ACHV       ARQ   1999-09-30  1999-11-16   1999-09-30  2023-08-15     0.0   \n",
       "\n",
       "       assets assetsavg     assetsc  ...  sharesbas shareswa  shareswadil  \\\n",
       "0  17241790.0      None  15975331.0  ...      218.0    218.0        218.0   \n",
       "1  14390488.0      None  13292964.0  ...      227.0    221.0        221.0   \n",
       "2  16288809.0      None  15314234.0  ...      227.0    227.0        230.0   \n",
       "\n",
       "        sps   tangibles  taxassets  taxexp  taxliabilities      tbvps  \\\n",
       "0      0.00  17241790.0        0.0     0.0             0.0  79086.064   \n",
       "1      0.00  14390488.0        0.0     0.0             0.0  65190.550   \n",
       "2  22037.79  16288809.0        0.0     0.0             0.0  71793.872   \n",
       "\n",
       "   workingcapital  \n",
       "0       6960444.0  \n",
       "1       3996699.0  \n",
       "2       6078039.0  \n",
       "\n",
       "[3 rows x 111 columns]"
      ]
     },
     "execution_count": 14,
     "metadata": {
      "slideshow": {
       "slide_type": "slide"
      }
     },
     "output_type": "execute_result"
    }
   ],
   "source": [
    "pd.read_sql(\"select top 3 * from sf1\", conn)"
   ]
  },
  {
   "cell_type": "code",
   "execution_count": 15,
   "metadata": {
    "slideshow": {
     "slide_type": "slide"
    }
   },
   "outputs": [
    {
     "data": {
      "text/html": [
       "<div>\n",
       "<style scoped>\n",
       "    .dataframe tbody tr th:only-of-type {\n",
       "        vertical-align: middle;\n",
       "    }\n",
       "\n",
       "    .dataframe tbody tr th {\n",
       "        vertical-align: top;\n",
       "    }\n",
       "\n",
       "    .dataframe thead th {\n",
       "        text-align: right;\n",
       "    }\n",
       "</style>\n",
       "<table border=\"1\" class=\"dataframe\">\n",
       "  <thead>\n",
       "    <tr style=\"text-align: right;\">\n",
       "      <th></th>\n",
       "      <th>ticker</th>\n",
       "      <th>date</th>\n",
       "      <th>lastupdated</th>\n",
       "      <th>opn</th>\n",
       "      <th>high</th>\n",
       "      <th>low</th>\n",
       "      <th>volume</th>\n",
       "      <th>closeadj</th>\n",
       "      <th>closeunadj</th>\n",
       "    </tr>\n",
       "  </thead>\n",
       "  <tbody>\n",
       "    <tr>\n",
       "      <th>0</th>\n",
       "      <td>ALX</td>\n",
       "      <td>2002-07-26</td>\n",
       "      <td>2023-08-07</td>\n",
       "      <td>73.0</td>\n",
       "      <td>73.52</td>\n",
       "      <td>68.7</td>\n",
       "      <td>5140.0</td>\n",
       "      <td>27.327</td>\n",
       "      <td>72.80</td>\n",
       "    </tr>\n",
       "    <tr>\n",
       "      <th>1</th>\n",
       "      <td>ALX</td>\n",
       "      <td>2002-08-02</td>\n",
       "      <td>2023-08-07</td>\n",
       "      <td>69.1</td>\n",
       "      <td>71.20</td>\n",
       "      <td>69.1</td>\n",
       "      <td>1100.0</td>\n",
       "      <td>26.712</td>\n",
       "      <td>71.16</td>\n",
       "    </tr>\n",
       "    <tr>\n",
       "      <th>2</th>\n",
       "      <td>ALX</td>\n",
       "      <td>2002-08-09</td>\n",
       "      <td>2023-08-07</td>\n",
       "      <td>70.0</td>\n",
       "      <td>70.00</td>\n",
       "      <td>67.1</td>\n",
       "      <td>1300.0</td>\n",
       "      <td>25.586</td>\n",
       "      <td>68.16</td>\n",
       "    </tr>\n",
       "  </tbody>\n",
       "</table>\n",
       "</div>"
      ],
      "text/plain": [
       "  ticker        date lastupdated   opn   high   low  volume  closeadj  \\\n",
       "0    ALX  2002-07-26  2023-08-07  73.0  73.52  68.7  5140.0    27.327   \n",
       "1    ALX  2002-08-02  2023-08-07  69.1  71.20  69.1  1100.0    26.712   \n",
       "2    ALX  2002-08-09  2023-08-07  70.0  70.00  67.1  1300.0    25.586   \n",
       "\n",
       "   closeunadj  \n",
       "0       72.80  \n",
       "1       71.16  \n",
       "2       68.16  "
      ]
     },
     "execution_count": 15,
     "metadata": {
      "slideshow": {
       "slide_type": "slide"
      }
     },
     "output_type": "execute_result"
    }
   ],
   "source": [
    "pd.read_sql(\"select top 3 * from sep_weekly\", conn)"
   ]
  },
  {
   "cell_type": "code",
   "execution_count": 16,
   "metadata": {
    "slideshow": {
     "slide_type": "slide"
    }
   },
   "outputs": [
    {
     "data": {
      "text/html": [
       "<div>\n",
       "<style scoped>\n",
       "    .dataframe tbody tr th:only-of-type {\n",
       "        vertical-align: middle;\n",
       "    }\n",
       "\n",
       "    .dataframe tbody tr th {\n",
       "        vertical-align: top;\n",
       "    }\n",
       "\n",
       "    .dataframe thead th {\n",
       "        text-align: right;\n",
       "    }\n",
       "</style>\n",
       "<table border=\"1\" class=\"dataframe\">\n",
       "  <thead>\n",
       "    <tr style=\"text-align: right;\">\n",
       "      <th></th>\n",
       "      <th>ticker</th>\n",
       "      <th>date</th>\n",
       "      <th>lastupdated</th>\n",
       "      <th>ev</th>\n",
       "      <th>evebit</th>\n",
       "      <th>evebitda</th>\n",
       "      <th>marketcap</th>\n",
       "      <th>pb</th>\n",
       "      <th>pe</th>\n",
       "      <th>ps</th>\n",
       "    </tr>\n",
       "  </thead>\n",
       "  <tbody>\n",
       "    <tr>\n",
       "      <th>0</th>\n",
       "      <td>CADMQ</td>\n",
       "      <td>2000-04-14</td>\n",
       "      <td>2019-06-13</td>\n",
       "      <td>56.6</td>\n",
       "      <td>-4.2</td>\n",
       "      <td>-4.6</td>\n",
       "      <td>53.1</td>\n",
       "      <td>-126.4</td>\n",
       "      <td>-3.8</td>\n",
       "      <td>15.2</td>\n",
       "    </tr>\n",
       "    <tr>\n",
       "      <th>1</th>\n",
       "      <td>CADMQ</td>\n",
       "      <td>2000-04-20</td>\n",
       "      <td>2019-06-13</td>\n",
       "      <td>42.0</td>\n",
       "      <td>-3.1</td>\n",
       "      <td>-3.4</td>\n",
       "      <td>38.5</td>\n",
       "      <td>-91.7</td>\n",
       "      <td>-2.7</td>\n",
       "      <td>11.0</td>\n",
       "    </tr>\n",
       "    <tr>\n",
       "      <th>2</th>\n",
       "      <td>CADMQ</td>\n",
       "      <td>2000-04-28</td>\n",
       "      <td>2019-06-13</td>\n",
       "      <td>40.7</td>\n",
       "      <td>-3.0</td>\n",
       "      <td>-3.3</td>\n",
       "      <td>37.2</td>\n",
       "      <td>-88.6</td>\n",
       "      <td>-2.7</td>\n",
       "      <td>10.6</td>\n",
       "    </tr>\n",
       "  </tbody>\n",
       "</table>\n",
       "</div>"
      ],
      "text/plain": [
       "  ticker        date lastupdated    ev  evebit  evebitda  marketcap     pb  \\\n",
       "0  CADMQ  2000-04-14  2019-06-13  56.6    -4.2      -4.6       53.1 -126.4   \n",
       "1  CADMQ  2000-04-20  2019-06-13  42.0    -3.1      -3.4       38.5  -91.7   \n",
       "2  CADMQ  2000-04-28  2019-06-13  40.7    -3.0      -3.3       37.2  -88.6   \n",
       "\n",
       "    pe    ps  \n",
       "0 -3.8  15.2  \n",
       "1 -2.7  11.0  \n",
       "2 -2.7  10.6  "
      ]
     },
     "execution_count": 16,
     "metadata": {
      "slideshow": {
       "slide_type": "slide"
      }
     },
     "output_type": "execute_result"
    }
   ],
   "source": [
    "pd.read_sql(\"select top 3 * from weekly\", conn)"
   ]
  },
  {
   "cell_type": "markdown",
   "metadata": {
    "slideshow": {
     "slide_type": "slide"
    }
   },
   "source": [
    "### sep_weekly data\n",
    "\n",
    "- get ticker, date, closeadj, closeunadj from sep_weekly\n",
    "- keep only last updated row for each ticker, date (in case multiple updates)"
   ]
  },
  {
   "cell_type": "code",
   "execution_count": 17,
   "metadata": {
    "slideshow": {
     "slide_type": "slide"
    }
   },
   "outputs": [],
   "source": [
    "df = pd.read_sql(\n",
    "    \"\"\" \n",
    "    select date, ticker, closeadj, closeunadj, lastupdated from sep_weekly \n",
    "    where date>='2010-01-01'\n",
    "    order by ticker, date, lastupdated    \n",
    "    \"\"\",\n",
    "    conn,\n",
    ")\n",
    "df = df.groupby([\"ticker\", \"date\", \"lastupdated\"]).last()\n",
    "df = df.droplevel(\"lastupdated\")"
   ]
  },
  {
   "cell_type": "code",
   "execution_count": 18,
   "metadata": {
    "slideshow": {
     "slide_type": "slide"
    }
   },
   "outputs": [
    {
     "data": {
      "text/html": [
       "<div>\n",
       "<style scoped>\n",
       "    .dataframe tbody tr th:only-of-type {\n",
       "        vertical-align: middle;\n",
       "    }\n",
       "\n",
       "    .dataframe tbody tr th {\n",
       "        vertical-align: top;\n",
       "    }\n",
       "\n",
       "    .dataframe thead th {\n",
       "        text-align: right;\n",
       "    }\n",
       "</style>\n",
       "<table border=\"1\" class=\"dataframe\">\n",
       "  <thead>\n",
       "    <tr style=\"text-align: right;\">\n",
       "      <th></th>\n",
       "      <th></th>\n",
       "      <th>closeadj</th>\n",
       "      <th>closeunadj</th>\n",
       "    </tr>\n",
       "    <tr>\n",
       "      <th>ticker</th>\n",
       "      <th>date</th>\n",
       "      <th></th>\n",
       "      <th></th>\n",
       "    </tr>\n",
       "  </thead>\n",
       "  <tbody>\n",
       "    <tr>\n",
       "      <th rowspan=\"5\" valign=\"top\">A</th>\n",
       "      <th>2010-01-08</th>\n",
       "      <td>20.187</td>\n",
       "      <td>30.96</td>\n",
       "    </tr>\n",
       "    <tr>\n",
       "      <th>2010-01-15</th>\n",
       "      <td>19.855</td>\n",
       "      <td>30.45</td>\n",
       "    </tr>\n",
       "    <tr>\n",
       "      <th>2010-01-22</th>\n",
       "      <td>19.900</td>\n",
       "      <td>30.52</td>\n",
       "    </tr>\n",
       "    <tr>\n",
       "      <th>2010-01-29</th>\n",
       "      <td>18.707</td>\n",
       "      <td>28.69</td>\n",
       "    </tr>\n",
       "    <tr>\n",
       "      <th>2010-02-05</th>\n",
       "      <td>19.235</td>\n",
       "      <td>29.50</td>\n",
       "    </tr>\n",
       "  </tbody>\n",
       "</table>\n",
       "</div>"
      ],
      "text/plain": [
       "                   closeadj  closeunadj\n",
       "ticker date                            \n",
       "A      2010-01-08    20.187       30.96\n",
       "       2010-01-15    19.855       30.45\n",
       "       2010-01-22    19.900       30.52\n",
       "       2010-01-29    18.707       28.69\n",
       "       2010-02-05    19.235       29.50"
      ]
     },
     "execution_count": 18,
     "metadata": {
      "slideshow": {
       "slide_type": "slide"
      }
     },
     "output_type": "execute_result"
    }
   ],
   "source": [
    "df.head()"
   ]
  },
  {
   "cell_type": "markdown",
   "metadata": {
    "slideshow": {
     "slide_type": "slide"
    }
   },
   "source": [
    "### Calculate weekly returns and momentum\n",
    "\n",
    "- Compute weekly return as closeadj.pct_change()\n",
    "- Compute annual returns (through end of prior week)\n",
    "- Compute monthly returns (through end of prior week)\n",
    "- Momentum $= (1+\\text{annual}) / (1+\\text{monthly}) - 1$\n",
    "- Momentum is through end of prior week so can be used to predict this week's returns\n",
    "- Also, shift closeunadj by one week because we want to use it to filter out penny stocks."
   ]
  },
  {
   "cell_type": "code",
   "execution_count": 19,
   "metadata": {
    "slideshow": {
     "slide_type": "skip"
    }
   },
   "outputs": [],
   "source": [
    "df[\"weekly\"] = df.groupby(\"ticker\", group_keys=False).closeadj.pct_change()\n",
    "\n",
    "df[\"adj_shift\"] = df.groupby(\"ticker\", group_keys=False).closeadj.shift()\n",
    "df[\"annual\"] = df.groupby(\"ticker\", group_keys=False).adj_shift.pct_change(52)\n",
    "df[\"monthly\"] = df.groupby(\"ticker\", group_keys=False).adj_shift.pct_change(4)\n",
    "\n",
    "df[\"mom\"] = df.groupby(\"ticker\", group_keys=False).apply(\n",
    "    lambda d: (1+d.annual)/(1+d.monthly) - 1\n",
    ")\n",
    "\n",
    "df[\"unadj_shift\"] = df.groupby(\"ticker\", group_keys=False).closeunadj.shift()\n",
    "df = df.dropna().copy()"
   ]
  },
  {
   "cell_type": "code",
   "execution_count": 20,
   "metadata": {
    "slideshow": {
     "slide_type": "slide"
    }
   },
   "outputs": [
    {
     "data": {
      "text/html": [
       "<div>\n",
       "<style scoped>\n",
       "    .dataframe tbody tr th:only-of-type {\n",
       "        vertical-align: middle;\n",
       "    }\n",
       "\n",
       "    .dataframe tbody tr th {\n",
       "        vertical-align: top;\n",
       "    }\n",
       "\n",
       "    .dataframe thead th {\n",
       "        text-align: right;\n",
       "    }\n",
       "</style>\n",
       "<table border=\"1\" class=\"dataframe\">\n",
       "  <thead>\n",
       "    <tr style=\"text-align: right;\">\n",
       "      <th></th>\n",
       "      <th></th>\n",
       "      <th>closeadj</th>\n",
       "      <th>closeunadj</th>\n",
       "      <th>weekly</th>\n",
       "      <th>adj_shift</th>\n",
       "      <th>annual</th>\n",
       "      <th>monthly</th>\n",
       "      <th>mom</th>\n",
       "      <th>unadj_shift</th>\n",
       "    </tr>\n",
       "    <tr>\n",
       "      <th>ticker</th>\n",
       "      <th>date</th>\n",
       "      <th></th>\n",
       "      <th></th>\n",
       "      <th></th>\n",
       "      <th></th>\n",
       "      <th></th>\n",
       "      <th></th>\n",
       "      <th></th>\n",
       "      <th></th>\n",
       "    </tr>\n",
       "  </thead>\n",
       "  <tbody>\n",
       "    <tr>\n",
       "      <th rowspan=\"5\" valign=\"top\">A</th>\n",
       "      <th>2011-01-14</th>\n",
       "      <td>27.529</td>\n",
       "      <td>42.22</td>\n",
       "      <td>0.008130</td>\n",
       "      <td>27.307</td>\n",
       "      <td>0.352702</td>\n",
       "      <td>0.127922</td>\n",
       "      <td>0.199287</td>\n",
       "      <td>41.88</td>\n",
       "    </tr>\n",
       "    <tr>\n",
       "      <th>2011-01-21</th>\n",
       "      <td>28.918</td>\n",
       "      <td>44.35</td>\n",
       "      <td>0.050456</td>\n",
       "      <td>27.529</td>\n",
       "      <td>0.386502</td>\n",
       "      <td>0.090949</td>\n",
       "      <td>0.270914</td>\n",
       "      <td>42.22</td>\n",
       "    </tr>\n",
       "    <tr>\n",
       "      <th>2011-01-28</th>\n",
       "      <td>26.721</td>\n",
       "      <td>40.98</td>\n",
       "      <td>-0.075973</td>\n",
       "      <td>28.918</td>\n",
       "      <td>0.453166</td>\n",
       "      <td>0.086204</td>\n",
       "      <td>0.337839</td>\n",
       "      <td>44.35</td>\n",
       "    </tr>\n",
       "    <tr>\n",
       "      <th>2011-02-04</th>\n",
       "      <td>26.727</td>\n",
       "      <td>40.99</td>\n",
       "      <td>0.000225</td>\n",
       "      <td>26.721</td>\n",
       "      <td>0.428396</td>\n",
       "      <td>-0.022426</td>\n",
       "      <td>0.461164</td>\n",
       "      <td>40.98</td>\n",
       "    </tr>\n",
       "    <tr>\n",
       "      <th>2011-02-11</th>\n",
       "      <td>28.318</td>\n",
       "      <td>43.43</td>\n",
       "      <td>0.059528</td>\n",
       "      <td>26.727</td>\n",
       "      <td>0.389498</td>\n",
       "      <td>-0.021240</td>\n",
       "      <td>0.419652</td>\n",
       "      <td>40.99</td>\n",
       "    </tr>\n",
       "  </tbody>\n",
       "</table>\n",
       "</div>"
      ],
      "text/plain": [
       "                   closeadj  closeunadj    weekly  adj_shift    annual  \\\n",
       "ticker date                                                              \n",
       "A      2011-01-14    27.529       42.22  0.008130     27.307  0.352702   \n",
       "       2011-01-21    28.918       44.35  0.050456     27.529  0.386502   \n",
       "       2011-01-28    26.721       40.98 -0.075973     28.918  0.453166   \n",
       "       2011-02-04    26.727       40.99  0.000225     26.721  0.428396   \n",
       "       2011-02-11    28.318       43.43  0.059528     26.727  0.389498   \n",
       "\n",
       "                    monthly       mom  unadj_shift  \n",
       "ticker date                                         \n",
       "A      2011-01-14  0.127922  0.199287        41.88  \n",
       "       2011-01-21  0.090949  0.270914        42.22  \n",
       "       2011-01-28  0.086204  0.337839        44.35  \n",
       "       2011-02-04 -0.022426  0.461164        40.98  \n",
       "       2011-02-11 -0.021240  0.419652        40.99  "
      ]
     },
     "execution_count": 20,
     "metadata": {
      "slideshow": {
       "slide_type": "slide"
      }
     },
     "output_type": "execute_result"
    }
   ],
   "source": [
    "df.head()"
   ]
  },
  {
   "cell_type": "markdown",
   "metadata": {
    "slideshow": {
     "slide_type": "slide"
    }
   },
   "source": [
    "### Filter out penny stocks\n",
    "\n",
    "- Penny stocks have an undue influence on equally weighted portfolio returns\n",
    "- We could do value weighted returns instead\n",
    "- Instead, we'll impose a common filter: price at the time of portfolio formation > $5.00"
   ]
  },
  {
   "cell_type": "code",
   "execution_count": 21,
   "metadata": {
    "slideshow": {
     "slide_type": "slide"
    }
   },
   "outputs": [
    {
     "data": {
      "text/html": [
       "<div>\n",
       "<style scoped>\n",
       "    .dataframe tbody tr th:only-of-type {\n",
       "        vertical-align: middle;\n",
       "    }\n",
       "\n",
       "    .dataframe tbody tr th {\n",
       "        vertical-align: top;\n",
       "    }\n",
       "\n",
       "    .dataframe thead th {\n",
       "        text-align: right;\n",
       "    }\n",
       "</style>\n",
       "<table border=\"1\" class=\"dataframe\">\n",
       "  <thead>\n",
       "    <tr style=\"text-align: right;\">\n",
       "      <th></th>\n",
       "      <th></th>\n",
       "      <th>closeadj</th>\n",
       "      <th>closeunadj</th>\n",
       "      <th>weekly</th>\n",
       "      <th>adj_shift</th>\n",
       "      <th>annual</th>\n",
       "      <th>monthly</th>\n",
       "      <th>mom</th>\n",
       "      <th>unadj_shift</th>\n",
       "    </tr>\n",
       "    <tr>\n",
       "      <th>ticker</th>\n",
       "      <th>date</th>\n",
       "      <th></th>\n",
       "      <th></th>\n",
       "      <th></th>\n",
       "      <th></th>\n",
       "      <th></th>\n",
       "      <th></th>\n",
       "      <th></th>\n",
       "      <th></th>\n",
       "    </tr>\n",
       "  </thead>\n",
       "  <tbody>\n",
       "    <tr>\n",
       "      <th rowspan=\"5\" valign=\"top\">A</th>\n",
       "      <th>2011-01-14</th>\n",
       "      <td>27.529</td>\n",
       "      <td>42.22</td>\n",
       "      <td>0.008130</td>\n",
       "      <td>27.307</td>\n",
       "      <td>0.352702</td>\n",
       "      <td>0.127922</td>\n",
       "      <td>0.199287</td>\n",
       "      <td>41.88</td>\n",
       "    </tr>\n",
       "    <tr>\n",
       "      <th>2011-01-21</th>\n",
       "      <td>28.918</td>\n",
       "      <td>44.35</td>\n",
       "      <td>0.050456</td>\n",
       "      <td>27.529</td>\n",
       "      <td>0.386502</td>\n",
       "      <td>0.090949</td>\n",
       "      <td>0.270914</td>\n",
       "      <td>42.22</td>\n",
       "    </tr>\n",
       "    <tr>\n",
       "      <th>2011-01-28</th>\n",
       "      <td>26.721</td>\n",
       "      <td>40.98</td>\n",
       "      <td>-0.075973</td>\n",
       "      <td>28.918</td>\n",
       "      <td>0.453166</td>\n",
       "      <td>0.086204</td>\n",
       "      <td>0.337839</td>\n",
       "      <td>44.35</td>\n",
       "    </tr>\n",
       "    <tr>\n",
       "      <th>2011-02-04</th>\n",
       "      <td>26.727</td>\n",
       "      <td>40.99</td>\n",
       "      <td>0.000225</td>\n",
       "      <td>26.721</td>\n",
       "      <td>0.428396</td>\n",
       "      <td>-0.022426</td>\n",
       "      <td>0.461164</td>\n",
       "      <td>40.98</td>\n",
       "    </tr>\n",
       "    <tr>\n",
       "      <th>2011-02-11</th>\n",
       "      <td>28.318</td>\n",
       "      <td>43.43</td>\n",
       "      <td>0.059528</td>\n",
       "      <td>26.727</td>\n",
       "      <td>0.389498</td>\n",
       "      <td>-0.021240</td>\n",
       "      <td>0.419652</td>\n",
       "      <td>40.99</td>\n",
       "    </tr>\n",
       "  </tbody>\n",
       "</table>\n",
       "</div>"
      ],
      "text/plain": [
       "                   closeadj  closeunadj    weekly  adj_shift    annual  \\\n",
       "ticker date                                                              \n",
       "A      2011-01-14    27.529       42.22  0.008130     27.307  0.352702   \n",
       "       2011-01-21    28.918       44.35  0.050456     27.529  0.386502   \n",
       "       2011-01-28    26.721       40.98 -0.075973     28.918  0.453166   \n",
       "       2011-02-04    26.727       40.99  0.000225     26.721  0.428396   \n",
       "       2011-02-11    28.318       43.43  0.059528     26.727  0.389498   \n",
       "\n",
       "                    monthly       mom  unadj_shift  \n",
       "ticker date                                         \n",
       "A      2011-01-14  0.127922  0.199287        41.88  \n",
       "       2011-01-21  0.090949  0.270914        42.22  \n",
       "       2011-01-28  0.086204  0.337839        44.35  \n",
       "       2011-02-04 -0.022426  0.461164        40.98  \n",
       "       2011-02-11 -0.021240  0.419652        40.99  "
      ]
     },
     "execution_count": 21,
     "metadata": {
      "slideshow": {
       "slide_type": "slide"
      }
     },
     "output_type": "execute_result"
    }
   ],
   "source": [
    "df = df[df.unadj_shift > 5].copy()\n",
    "df.head()"
   ]
  },
  {
   "cell_type": "markdown",
   "metadata": {
    "slideshow": {
     "slide_type": "slide"
    }
   },
   "source": [
    "### Form decile portfolios\n",
    "\n",
    "- We want to go long the top momentum stocks and short the low momentum stocks and see if we earn alpha.\n",
    "- Let's try top = top 10% and bottom = bottom 10%\n",
    "- Could try top = top 100 and bottom = bottom 100 instead or other things."
   ]
  },
  {
   "cell_type": "code",
   "execution_count": 31,
   "metadata": {
    "slideshow": {
     "slide_type": "slide"
    }
   },
   "outputs": [
    {
     "data": {
      "text/html": [
       "<div>\n",
       "<style scoped>\n",
       "    .dataframe tbody tr th:only-of-type {\n",
       "        vertical-align: middle;\n",
       "    }\n",
       "\n",
       "    .dataframe tbody tr th {\n",
       "        vertical-align: top;\n",
       "    }\n",
       "\n",
       "    .dataframe thead th {\n",
       "        text-align: right;\n",
       "    }\n",
       "</style>\n",
       "<table border=\"1\" class=\"dataframe\">\n",
       "  <thead>\n",
       "    <tr style=\"text-align: right;\">\n",
       "      <th></th>\n",
       "      <th></th>\n",
       "      <th>closeadj</th>\n",
       "      <th>closeunadj</th>\n",
       "      <th>weekly</th>\n",
       "      <th>adj_shift</th>\n",
       "      <th>annual</th>\n",
       "      <th>monthly</th>\n",
       "      <th>mom</th>\n",
       "      <th>unadj_shift</th>\n",
       "      <th>decile</th>\n",
       "    </tr>\n",
       "    <tr>\n",
       "      <th>ticker</th>\n",
       "      <th>date</th>\n",
       "      <th></th>\n",
       "      <th></th>\n",
       "      <th></th>\n",
       "      <th></th>\n",
       "      <th></th>\n",
       "      <th></th>\n",
       "      <th></th>\n",
       "      <th></th>\n",
       "      <th></th>\n",
       "    </tr>\n",
       "  </thead>\n",
       "  <tbody>\n",
       "    <tr>\n",
       "      <th rowspan=\"3\" valign=\"top\">A</th>\n",
       "      <th>2011-01-14</th>\n",
       "      <td>27.529</td>\n",
       "      <td>42.22</td>\n",
       "      <td>0.008130</td>\n",
       "      <td>27.307</td>\n",
       "      <td>0.352702</td>\n",
       "      <td>0.127922</td>\n",
       "      <td>0.199287</td>\n",
       "      <td>41.88</td>\n",
       "      <td>6</td>\n",
       "    </tr>\n",
       "    <tr>\n",
       "      <th>2011-01-21</th>\n",
       "      <td>28.918</td>\n",
       "      <td>44.35</td>\n",
       "      <td>0.050456</td>\n",
       "      <td>27.529</td>\n",
       "      <td>0.386502</td>\n",
       "      <td>0.090949</td>\n",
       "      <td>0.270914</td>\n",
       "      <td>42.22</td>\n",
       "      <td>7</td>\n",
       "    </tr>\n",
       "    <tr>\n",
       "      <th>2011-01-28</th>\n",
       "      <td>26.721</td>\n",
       "      <td>40.98</td>\n",
       "      <td>-0.075973</td>\n",
       "      <td>28.918</td>\n",
       "      <td>0.453166</td>\n",
       "      <td>0.086204</td>\n",
       "      <td>0.337839</td>\n",
       "      <td>44.35</td>\n",
       "      <td>7</td>\n",
       "    </tr>\n",
       "  </tbody>\n",
       "</table>\n",
       "</div>"
      ],
      "text/plain": [
       "                   closeadj  closeunadj    weekly  adj_shift    annual  \\\n",
       "ticker date                                                              \n",
       "A      2011-01-14    27.529       42.22  0.008130     27.307  0.352702   \n",
       "       2011-01-21    28.918       44.35  0.050456     27.529  0.386502   \n",
       "       2011-01-28    26.721       40.98 -0.075973     28.918  0.453166   \n",
       "\n",
       "                    monthly       mom  unadj_shift decile  \n",
       "ticker date                                                \n",
       "A      2011-01-14  0.127922  0.199287        41.88      6  \n",
       "       2011-01-21  0.090949  0.270914        42.22      7  \n",
       "       2011-01-28  0.086204  0.337839        44.35      7  "
      ]
     },
     "execution_count": 31,
     "metadata": {
      "slideshow": {
       "slide_type": "slide"
      }
     },
     "output_type": "execute_result"
    }
   ],
   "source": [
    "df[\"decile\"] = df.groupby(\"date\", group_keys=False).mom.apply(\n",
    "    lambda x: pd.qcut(x, 10, labels=range(1, 11))\n",
    ")\n",
    "df.head(3)"
   ]
  },
  {
   "cell_type": "markdown",
   "metadata": {
    "slideshow": {
     "slide_type": "slide"
    }
   },
   "source": [
    "### Returns of equally-weighted portfolios"
   ]
  },
  {
   "cell_type": "code",
   "execution_count": 32,
   "metadata": {
    "slideshow": {
     "slide_type": "slide"
    }
   },
   "outputs": [
    {
     "data": {
      "text/html": [
       "<div>\n",
       "<style scoped>\n",
       "    .dataframe tbody tr th:only-of-type {\n",
       "        vertical-align: middle;\n",
       "    }\n",
       "\n",
       "    .dataframe tbody tr th {\n",
       "        vertical-align: top;\n",
       "    }\n",
       "\n",
       "    .dataframe thead th {\n",
       "        text-align: right;\n",
       "    }\n",
       "</style>\n",
       "<table border=\"1\" class=\"dataframe\">\n",
       "  <thead>\n",
       "    <tr style=\"text-align: right;\">\n",
       "      <th>decile</th>\n",
       "      <th>1</th>\n",
       "      <th>2</th>\n",
       "      <th>3</th>\n",
       "      <th>4</th>\n",
       "      <th>5</th>\n",
       "      <th>6</th>\n",
       "      <th>7</th>\n",
       "      <th>8</th>\n",
       "      <th>9</th>\n",
       "      <th>10</th>\n",
       "    </tr>\n",
       "    <tr>\n",
       "      <th>date</th>\n",
       "      <th></th>\n",
       "      <th></th>\n",
       "      <th></th>\n",
       "      <th></th>\n",
       "      <th></th>\n",
       "      <th></th>\n",
       "      <th></th>\n",
       "      <th></th>\n",
       "      <th></th>\n",
       "      <th></th>\n",
       "    </tr>\n",
       "  </thead>\n",
       "  <tbody>\n",
       "    <tr>\n",
       "      <th>2011-01-14</th>\n",
       "      <td>-0.003574</td>\n",
       "      <td>-0.003988</td>\n",
       "      <td>-0.000700</td>\n",
       "      <td>-0.003290</td>\n",
       "      <td>-0.005264</td>\n",
       "      <td>-0.007649</td>\n",
       "      <td>0.000558</td>\n",
       "      <td>-0.004010</td>\n",
       "      <td>-0.000917</td>\n",
       "      <td>0.005246</td>\n",
       "    </tr>\n",
       "    <tr>\n",
       "      <th>2011-01-21</th>\n",
       "      <td>0.017434</td>\n",
       "      <td>0.018820</td>\n",
       "      <td>0.015247</td>\n",
       "      <td>0.014496</td>\n",
       "      <td>0.011896</td>\n",
       "      <td>0.012560</td>\n",
       "      <td>0.011547</td>\n",
       "      <td>0.013838</td>\n",
       "      <td>0.016224</td>\n",
       "      <td>0.012599</td>\n",
       "    </tr>\n",
       "    <tr>\n",
       "      <th>2011-01-28</th>\n",
       "      <td>-0.024139</td>\n",
       "      <td>-0.017535</td>\n",
       "      <td>-0.014224</td>\n",
       "      <td>-0.009462</td>\n",
       "      <td>-0.012853</td>\n",
       "      <td>-0.011438</td>\n",
       "      <td>-0.015802</td>\n",
       "      <td>-0.014790</td>\n",
       "      <td>-0.022733</td>\n",
       "      <td>-0.038388</td>\n",
       "    </tr>\n",
       "    <tr>\n",
       "      <th>2011-02-04</th>\n",
       "      <td>-0.005927</td>\n",
       "      <td>-0.001812</td>\n",
       "      <td>0.001808</td>\n",
       "      <td>0.000847</td>\n",
       "      <td>0.001169</td>\n",
       "      <td>0.002995</td>\n",
       "      <td>0.005542</td>\n",
       "      <td>0.006996</td>\n",
       "      <td>0.012619</td>\n",
       "      <td>0.010899</td>\n",
       "    </tr>\n",
       "    <tr>\n",
       "      <th>2011-02-11</th>\n",
       "      <td>0.016875</td>\n",
       "      <td>0.023576</td>\n",
       "      <td>0.018955</td>\n",
       "      <td>0.026951</td>\n",
       "      <td>0.019405</td>\n",
       "      <td>0.023759</td>\n",
       "      <td>0.025541</td>\n",
       "      <td>0.032026</td>\n",
       "      <td>0.030602</td>\n",
       "      <td>0.042071</td>\n",
       "    </tr>\n",
       "  </tbody>\n",
       "</table>\n",
       "</div>"
      ],
      "text/plain": [
       "decile             1         2         3         4         5         6  \\\n",
       "date                                                                     \n",
       "2011-01-14 -0.003574 -0.003988 -0.000700 -0.003290 -0.005264 -0.007649   \n",
       "2011-01-21  0.017434  0.018820  0.015247  0.014496  0.011896  0.012560   \n",
       "2011-01-28 -0.024139 -0.017535 -0.014224 -0.009462 -0.012853 -0.011438   \n",
       "2011-02-04 -0.005927 -0.001812  0.001808  0.000847  0.001169  0.002995   \n",
       "2011-02-11  0.016875  0.023576  0.018955  0.026951  0.019405  0.023759   \n",
       "\n",
       "decile             7         8         9        10  \n",
       "date                                                \n",
       "2011-01-14  0.000558 -0.004010 -0.000917  0.005246  \n",
       "2011-01-21  0.011547  0.013838  0.016224  0.012599  \n",
       "2011-01-28 -0.015802 -0.014790 -0.022733 -0.038388  \n",
       "2011-02-04  0.005542  0.006996  0.012619  0.010899  \n",
       "2011-02-11  0.025541  0.032026  0.030602  0.042071  "
      ]
     },
     "execution_count": 32,
     "metadata": {
      "slideshow": {
       "slide_type": "slide"
      }
     },
     "output_type": "execute_result"
    }
   ],
   "source": [
    "port_rets = df.groupby([\"date\", \"decile\"], group_keys=True).weekly.mean()\n",
    "port_rets = port_rets.unstack()\n",
    "port_rets.head()"
   ]
  },
  {
   "cell_type": "code",
   "execution_count": 33,
   "metadata": {
    "slideshow": {
     "slide_type": "slide"
    }
   },
   "outputs": [
    {
     "data": {
      "text/plain": [
       "decile\n",
       "1     0.000457\n",
       "2     0.001333\n",
       "3     0.001823\n",
       "4     0.002074\n",
       "5     0.002281\n",
       "6     0.002367\n",
       "7     0.002174\n",
       "8     0.001941\n",
       "9     0.002400\n",
       "10    0.002452\n",
       "dtype: float64"
      ]
     },
     "execution_count": 33,
     "metadata": {
      "slideshow": {
       "slide_type": "slide"
      }
     },
     "output_type": "execute_result"
    }
   ],
   "source": [
    "52*port_rets.mean()"
   ]
  },
  {
   "cell_type": "code",
   "execution_count": 41,
   "metadata": {
    "slideshow": {
     "slide_type": "slide"
    }
   },
   "outputs": [
    {
     "data": {
      "image/png": "[encoded data removed]",
      "text/plain": [
       "<Figure size 640x480 with 1 Axes>"
      ]
     },
     "metadata": {
      "slideshow": {
       "slide_type": "slide"
      }
     },
     "output_type": "display_data"
    }
   ],
   "source": [
    "import matplotlib.pyplot as plt\n",
    "import seaborn as sns\n",
    "sns.set_style(\"whitegrid\")\n",
    "\n",
    "(1+port_rets).cumprod().plot()\n",
    "plt.legend()\n",
    "plt.show()"
   ]
  },
  {
   "cell_type": "code",
   "execution_count": 42,
   "metadata": {
    "slideshow": {
     "slide_type": "slide"
    }
   },
   "outputs": [
    {
     "data": {
      "image/png": "[encoded data removed]",
      "text/plain": [
       "<Figure size 640x480 with 1 Axes>"
      ]
     },
     "metadata": {
      "slideshow": {
       "slide_type": "slide"
      }
     },
     "output_type": "display_data"
    }
   ],
   "source": [
    "# log scale\n",
    "\n",
    "(1+port_rets).cumprod().plot(logy=True)\n",
    "plt.legend()\n",
    "plt.show()"
   ]
  },
  {
   "cell_type": "markdown",
   "metadata": {
    "slideshow": {
     "slide_type": "slide"
    }
   },
   "source": [
    "### Long-minus short returns"
   ]
  },
  {
   "cell_type": "code",
   "execution_count": 36,
   "metadata": {
    "slideshow": {
     "slide_type": "slide"
    }
   },
   "outputs": [
    {
     "name": "stdout",
     "output_type": "stream",
     "text": [
      "annualized long-minus-short return is 10.38%\n"
     ]
    }
   ],
   "source": [
    "long_minus_short = port_rets[10] - port_rets[1]\n",
    "print(f\"annualized long-minus-short return is {52*long_minus_short.mean():.2%}\")"
   ]
  },
  {
   "cell_type": "code",
   "execution_count": 43,
   "metadata": {
    "slideshow": {
     "slide_type": "slide"
    }
   },
   "outputs": [
    {
     "data": {
      "text/plain": [
       "<AxesSubplot: xlabel='date'>"
      ]
     },
     "execution_count": 43,
     "metadata": {
      "slideshow": {
       "slide_type": "slide"
      }
     },
     "output_type": "execute_result"
    },
    {
     "data": {
      "image/png": "[encoded data removed]",
      "text/plain": [
       "<Figure size 640x480 with 1 Axes>"
      ]
     },
     "metadata": {
      "slideshow": {
       "slide_type": "slide"
      }
     },
     "output_type": "display_data"
    }
   ],
   "source": [
    "(1+long_minus_short).cumprod().plot()"
   ]
  },
  {
   "cell_type": "markdown",
   "metadata": {
    "slideshow": {
     "slide_type": "slide"
    }
   },
   "source": [
    "### Database: industries and other information\n",
    "\n",
    "- famaindustry and siccode, etc. are in tickers table\n",
    "- join tables in SQL to get this info in \n",
    "- or download tickers table and merge in pandas"
   ]
  },
  {
   "cell_type": "markdown",
   "metadata": {
    "slideshow": {
     "slide_type": "slide"
    }
   },
   "source": [
    "### Joining in SQL Example"
   ]
  },
  {
   "cell_type": "code",
   "execution_count": 37,
   "metadata": {
    "slideshow": {
     "slide_type": "slide"
    }
   },
   "outputs": [],
   "source": [
    "df2 = pd.read_sql(\n",
    "    \"\"\" \n",
    "    select date, a.ticker, closeadj, closeunadj, a.lastupdated,\n",
    "    famaindustry, siccode\n",
    "    from sep_weekly as a join tickers as b \n",
    "    on a.ticker=b.ticker\n",
    "    where date>='2020-01-01'\n",
    "    order by a.ticker, date, a.lastupdated    \n",
    "    \"\"\",\n",
    "    conn,\n",
    ")\n",
    "df2 = df2.groupby([\"ticker\", \"date\", \"lastupdated\"]).last()\n",
    "df2 = df2.droplevel(\"lastupdated\")"
   ]
  },
  {
   "cell_type": "code",
   "execution_count": 38,
   "metadata": {
    "slideshow": {
     "slide_type": "slide"
    }
   },
   "outputs": [
    {
     "name": "stdout",
     "output_type": "stream",
     "text": [
      "<class 'pandas.core.frame.DataFrame'>\n",
      "MultiIndex: 972409 entries, ('A', datetime.date(2020, 1, 3)) to ('ZYXI', datetime.date(2023, 10, 27))\n",
      "Data columns (total 4 columns):\n",
      " #   Column        Non-Null Count   Dtype  \n",
      "---  ------        --------------   -----  \n",
      " 0   closeadj      972409 non-null  float64\n",
      " 1   closeunadj    972409 non-null  float64\n",
      " 2   famaindustry  970284 non-null  object \n",
      " 3   siccode       972409 non-null  int64  \n",
      "dtypes: float64(2), int64(1), object(1)\n",
      "memory usage: 33.4+ MB\n"
     ]
    }
   ],
   "source": [
    "df2.info()"
   ]
  },
  {
   "cell_type": "markdown",
   "metadata": {
    "slideshow": {
     "slide_type": "slide"
    }
   },
   "source": [
    "### Merging in Pandas Example"
   ]
  },
  {
   "cell_type": "code",
   "execution_count": 39,
   "metadata": {
    "slideshow": {
     "slide_type": "slide"
    }
   },
   "outputs": [],
   "source": [
    "df3 = pd.read_sql(\n",
    "    \"\"\" \n",
    "    select date, ticker, closeadj, closeunadj, lastupdated\n",
    "    from sep_weekly\n",
    "    where date>='2020-01-01'\n",
    "    order by ticker, date, lastupdated    \n",
    "    \"\"\",\n",
    "    conn,\n",
    ")\n",
    "df3 = df3.groupby([\"ticker\", \"date\", \"lastupdated\"]).last()\n",
    "df3 = df3.droplevel(\"lastupdated\")"
   ]
  },
  {
   "cell_type": "code",
   "execution_count": 40,
   "metadata": {
    "slideshow": {
     "slide_type": "slide"
    }
   },
   "outputs": [
    {
     "name": "stdout",
     "output_type": "stream",
     "text": [
      "<class 'pandas.core.frame.DataFrame'>\n",
      "MultiIndex: 972409 entries, ('A', datetime.date(2020, 1, 3)) to ('ZYXI', datetime.date(2023, 10, 27))\n",
      "Data columns (total 4 columns):\n",
      " #   Column        Non-Null Count   Dtype  \n",
      "---  ------        --------------   -----  \n",
      " 0   closeadj      972409 non-null  float64\n",
      " 1   closeunadj    972409 non-null  float64\n",
      " 2   siccode       972409 non-null  int64  \n",
      " 3   famaindustry  970284 non-null  object \n",
      "dtypes: float64(2), int64(1), object(1)\n",
      "memory usage: 33.6+ MB\n"
     ]
    }
   ],
   "source": [
    "tickers = pd.read_sql(\"select ticker, siccode, famaindustry from tickers\", conn)\n",
    "df3 = df3.reset_index().merge(tickers, on=\"ticker\")\n",
    "df3 = df3.set_index([\"ticker\", \"date\"])\n",
    "df3.info()"
   ]
  }
 ],
 "metadata": {
  "kernelspec": {
   "display_name": "Python 3",
   "language": "python",
   "name": "python3"
  },
  "language_info": {
   "codemirror_mode": {
    "name": "ipython",
    "version": 3
   },
   "file_extension": ".py",
   "mimetype": "text/x-python",
   "name": "python",
   "nbconvert_exporter": "python",
   "pygments_lexer": "ipython3",
   "version": "3.10.8"
  }
 },
 "nbformat": 4,
 "nbformat_minor": 2
}
