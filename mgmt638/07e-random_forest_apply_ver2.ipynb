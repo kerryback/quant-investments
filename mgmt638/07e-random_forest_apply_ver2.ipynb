{
 "cells": [
  {
   "cell_type": "markdown",
   "metadata": {
    "slideshow": {
     "slide_type": "skip"
    }
   },
   "source": [
    "<a target=\"_blank\" href=\"https://colab.research.google.com/github/kerryback/mgmt638/blob/main/notebooks/07e-random_forest_apply_ver2.ipynb\">\n",
    "  <img src=\"https://colab.research.google.com/assets/colab-badge.svg\" alt=\"Open In Colab\"/>\n",
    "</a>"
   ]
  },
  {
   "cell_type": "markdown",
   "metadata": {
    "slideshow": {
     "slide_type": "slide"
    }
   },
   "source": [
    "# Applying a Random Forest II\n",
    "\n",
    "### MGMT 638: Data-Driven Investments: Equity\n",
    "### Kerry Back, Rice University"
   ]
  },
  {
   "cell_type": "markdown",
   "metadata": {
    "slideshow": {
     "slide_type": "slide"
    }
   },
   "source": [
    "### Outline\n",
    "\n",
    "- Read current data\n",
    "- Interact features with market volatility\n",
    "- Load saved model\n",
    "- Make predictions"
   ]
  },
  {
   "cell_type": "markdown",
   "metadata": {
    "slideshow": {
     "slide_type": "slide"
    }
   },
   "source": [
    "### Read data"
   ]
  },
  {
   "cell_type": "code",
   "execution_count": 5,
   "metadata": {
    "slideshow": {
     "slide_type": "slide"
    }
   },
   "outputs": [],
   "source": [
    "import pandas as pd\n",
    "\n",
    "df = pd.read_excel(\"https://www.dropbox.com/scl/fi/5mof24qi5is6x9xcbkmam/data-current-2023-11-13.xlsx?rlkey=flfttx48bglim1a1cwaddl03p&dl=1\")"
   ]
  },
  {
   "cell_type": "markdown",
   "metadata": {
    "slideshow": {
     "slide_type": "slide"
    }
   },
   "source": [
    "### Read model"
   ]
  },
  {
   "cell_type": "code",
   "execution_count": 6,
   "metadata": {
    "slideshow": {
     "slide_type": "slide"
    }
   },
   "outputs": [],
   "source": [
    "from joblib import load \n",
    "from urllib.request import urlopen\n",
    "\n",
    "url = \"https://www.dropbox.com/scl/fi/kssvcsgze16p36dwjyiaw/forest_ver2.joblib?rlkey=76hbmsqnecyv96qsmi39fwrr8&dl=1\"\n",
    "file = urlopen(url)\n",
    "forest = load(file)"
   ]
  },
  {
   "cell_type": "markdown",
   "metadata": {
    "slideshow": {
     "slide_type": "slide"
    }
   },
   "source": [
    "### Make predictions"
   ]
  },
  {
   "cell_type": "code",
   "execution_count": 7,
   "metadata": {
    "slideshow": {
     "slide_type": "slide"
    }
   },
   "outputs": [],
   "source": [
    "features = [\n",
    "    \"marketcap\", \n",
    "    \"pb\", \n",
    "    \"mom\", \n",
    "    \"volume\", \n",
    "    \"volatility\", \n",
    "    \"roe\", \n",
    "    \"accruals\", \n",
    "    \"agr\"\n",
    "]\n",
    "features.sort()\n",
    "\n",
    "for x in features:\n",
    "    df[x+\"_vol\"] = df[x]*df.mktvol\n",
    "features_final = features + [x+\"_vol\" for x in features]\n",
    "df[\"predict\"] = forest.predict(X=df[features_final])"
   ]
  },
  {
   "cell_type": "markdown",
   "metadata": {
    "slideshow": {
     "slide_type": "slide"
    }
   },
   "source": [
    "### Distribution of predictions"
   ]
  },
  {
   "cell_type": "code",
   "execution_count": 39,
   "metadata": {
    "slideshow": {
     "slide_type": "slide"
    }
   },
   "outputs": [
    {
     "data": {
      "text/plain": [
       "count    1753.000000\n",
       "mean       50.043001\n",
       "std         1.615579\n",
       "min        38.642801\n",
       "25%        50.023600\n",
       "50%        50.649518\n",
       "75%        50.925365\n",
       "max        53.033142\n",
       "Name: predict, dtype: float64"
      ]
     },
     "execution_count": 39,
     "metadata": {
      "slideshow": {
       "slide_type": "slide"
      }
     },
     "output_type": "execute_result"
    }
   ],
   "source": [
    "df.predict.describe()"
   ]
  },
  {
   "cell_type": "markdown",
   "metadata": {
    "slideshow": {
     "slide_type": "slide"
    }
   },
   "source": [
    "### Create an interactive predictor"
   ]
  },
  {
   "cell_type": "code",
   "execution_count": 40,
   "metadata": {
    "slideshow": {
     "slide_type": "slide"
    }
   },
   "outputs": [],
   "source": [
    "import numpy as np\n",
    "\n",
    "def predict(mktvol):\n",
    "    lst = []\n",
    "    for x in features:\n",
    "        item = input(f\"Input {x}: \")\n",
    "        lst.append(float(item))\n",
    "    lst = lst + [mktvol*x for x in lst]\n",
    "    arr = np.array(lst).reshape(1, len(lst))\n",
    "    d = pd.DataFrame(arr, columns=features+[x+\"_vol\" for x in features])\n",
    "    return forest.predict(d).item()"
   ]
  },
  {
   "cell_type": "markdown",
   "metadata": {
    "slideshow": {
     "slide_type": "slide"
    }
   },
   "source": [
    "### Use the interactive predictor"
   ]
  },
  {
   "cell_type": "code",
   "execution_count": null,
   "metadata": {
    "slideshow": {
     "slide_type": "slide"
    }
   },
   "outputs": [],
   "source": [
    "predict(0.15)"
   ]
  }
 ],
 "metadata": {
  "kernelspec": {
   "display_name": "Python 3",
   "language": "python",
   "name": "python3"
  },
  "language_info": {
   "codemirror_mode": {
    "name": "ipython",
    "version": 3
   },
   "file_extension": ".py",
   "mimetype": "text/x-python",
   "name": "python",
   "nbconvert_exporter": "python",
   "pygments_lexer": "ipython3",
   "version": "3.10.8"
  }
 },
 "nbformat": 4,
 "nbformat_minor": 2
}
